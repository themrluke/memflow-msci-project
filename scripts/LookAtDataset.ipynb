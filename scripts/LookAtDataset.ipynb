{
 "cells": [
  {
   "cell_type": "code",
   "execution_count": 11,
   "id": "0b1f566d-075c-426b-b55a-886b4a661838",
   "metadata": {},
   "outputs": [],
   "source": [
    "import torch\n",
    "from torch.utils.data import DataLoader\n",
    "import matplotlib.pyplot as plt"
   ]
  },
  {
   "cell_type": "code",
   "execution_count": 3,
   "id": "038f2902-d6cf-4055-9a43-1e645f2c48c2",
   "metadata": {},
   "outputs": [],
   "source": [
    "from memflow.read_data import dataset_all"
   ]
  },
  {
   "cell_type": "code",
   "execution_count": 4,
   "id": "b120429d-d731-4223-b1e2-bbfebc8e92c2",
   "metadata": {},
   "outputs": [],
   "source": [
    "root =\"/work/dvalsecc/MEM/datasets/all_jets_fullRun2_ttHbb_forTraining_allyears_spanetprov_part1\"\n"
   ]
  },
  {
   "cell_type": "code",
   "execution_count": 5,
   "id": "6da177ab-6536-427d-a251-ee5fe26d96d4",
   "metadata": {},
   "outputs": [
    {
     "name": "stdout",
     "output_type": "stream",
     "text": [
      "\n",
      "RecoLevel\n",
      "Reading reco_level Files\n",
      "Load scaledLogRecoParticles\n",
      "\n",
      "PartonLevel\n",
      "Reading parton_level Files\n",
      "Load logScaled_data_higgs_t_tbar_ISR\n",
      "\n"
     ]
    }
   ],
   "source": [
    "data = dataset_all.DatasetCombined(root, dtype=torch.float64,\n",
    "                                    reco_list=['scaledLogRecoParticles', 'mask_lepton',\n",
    "                                                'mask_jets','mask_met',\n",
    "                                                'mask_boost', 'data_boost'],\n",
    "                                    parton_list=['data_higgs_t_tbar_ISR',\n",
    "                                                 'logScaled_data_higgs_t_tbar_ISR',  \n",
    "                                                 'flattening_weight_HEta_tHadEta_tLepEta'])"
   ]
  },
  {
   "cell_type": "code",
   "execution_count": 6,
   "id": "dd3a580b-243a-442a-a35c-1e1c24fb7357",
   "metadata": {},
   "outputs": [],
   "source": [
    "train_loader = DataLoader(dataset=data, shuffle=True, batch_size=512)"
   ]
  },
  {
   "cell_type": "code",
   "execution_count": 7,
   "id": "00b2d419-9aea-40eb-942f-f2f7d7af0324",
   "metadata": {},
   "outputs": [],
   "source": [
    " (partons,\n",
    "            logScaled_partons, weight_event,\n",
    "            logScaled_reco, mask_lepton_reco, \n",
    "            mask_jets, mask_met, \n",
    "             mask_boost_reco, data_boost_reco) = next(iter(train_loader))"
   ]
  },
  {
   "cell_type": "code",
   "execution_count": 25,
   "id": "0a2bd801-7edf-420c-a9fe-c4f1c1b33a40",
   "metadata": {},
   "outputs": [
    {
     "data": {
      "image/png": "[encoded data removed]",
      "text/plain": [
       "<Figure size 640x480 with 1 Axes>"
      ]
     },
     "metadata": {},
     "output_type": "display_data"
    }
   ],
   "source": [
    "plt.hist(logScaled_partons[:,2, 1].flatten(), bins=50);"
   ]
  },
  {
   "cell_type": "code",
   "execution_count": 27,
   "id": "56277fd2-9aea-44e1-ab2d-ceb8090d30a4",
   "metadata": {},
   "outputs": [
    {
     "data": {
      "text/plain": [
       "torch.Size([512, 1, 4])"
      ]
     },
     "execution_count": 27,
     "metadata": {},
     "output_type": "execute_result"
    }
   ],
   "source": [
    "data_boost_reco.shape"
   ]
  },
  {
   "cell_type": "code",
   "execution_count": 28,
   "id": "8bd338aa-b6e0-45a2-9a29-a73815299c8b",
   "metadata": {},
   "outputs": [
    {
     "data": {
      "text/plain": [
       "tensor([[[1820.3907,  -47.4695,  101.5890, -517.7108]],\n",
       "\n",
       "        [[ 564.8938,   26.5264,  -20.7455,  367.7537]],\n",
       "\n",
       "        [[ 663.1974,   50.0374,   47.0418, -457.8681]],\n",
       "\n",
       "        ...,\n",
       "\n",
       "        [[ 945.8765,   19.3962,   28.6992,  261.2088]],\n",
       "\n",
       "        [[ 912.0062,    3.4007,   17.3744,  -15.5943]],\n",
       "\n",
       "        [[1029.1724,    9.7418,  -31.4686, -488.0404]]])"
      ]
     },
     "execution_count": 28,
     "metadata": {},
     "output_type": "execute_result"
    }
   ],
   "source": [
    "data_boost_reco"
   ]
  },
  {
   "cell_type": "code",
   "execution_count": 31,
   "id": "4e81eda3-a40c-4cfe-a5cf-d89b12f33462",
   "metadata": {},
   "outputs": [],
   "source": [
    "mask_recoParticles = torch.cat((mask_jets, mask_lepton_reco, mask_met), dim=1)"
   ]
  },
  {
   "cell_type": "code",
   "execution_count": 39,
   "id": "25595d77-ba68-4a37-a5ac-c0fb17e6df34",
   "metadata": {},
   "outputs": [
    {
     "data": {
      "text/plain": [
       "torch.Size([512, 18, 7])"
      ]
     },
     "execution_count": 39,
     "metadata": {},
     "output_type": "execute_result"
    }
   ],
   "source": [
    "(logScaled_reco * mask_recoParticles[:, :, None]).shape"
   ]
  },
  {
   "cell_type": "code",
   "execution_count": 38,
   "id": "e2f798c9-dd3c-48f7-adec-1fe103f7e854",
   "metadata": {},
   "outputs": [
    {
     "data": {
      "text/plain": [
       "tensor([[ 1.3550e+00, -2.2969e+00,  1.1719e+00,  8.0948e-03,  0.0000e+00,\n",
       "          0.0000e+00,  0.0000e+00],\n",
       "        [ 9.8301e-01,  5.1632e-01,  8.0520e-02,  2.5482e-03,  2.1817e-01,\n",
       "          0.0000e+00,  0.0000e+00],\n",
       "        [ 8.0437e-01, -1.0313e+00, -1.5530e+00,  9.9951e-01,  0.0000e+00,\n",
       "          0.0000e+00,  7.8469e-01],\n",
       "        [ 7.7229e-01,  2.1719e-01, -1.0177e+00,  6.7676e-01,  0.0000e+00,\n",
       "          0.0000e+00,  0.0000e+00],\n",
       "        [ 6.3190e-01,  9.8694e-01,  4.8841e-01,  2.2717e-03,  2.1817e-01,\n",
       "          0.0000e+00,  0.0000e+00],\n",
       "        [-6.2079e-01,  1.9336e+00,  2.7135e-01,  1.6830e-02,  0.0000e+00,\n",
       "          0.0000e+00,  0.0000e+00],\n",
       "        [-8.1351e-01,  8.9091e-01,  1.1009e+00,  1.1620e-02,  0.0000e+00,\n",
       "          0.0000e+00,  0.0000e+00],\n",
       "        [-3.7268e-01,  2.5407e+00, -5.4359e-01,  5.8154e-01,  0.0000e+00,\n",
       "          5.0341e-01,  0.0000e+00],\n",
       "        [-1.1839e+00, -5.2505e-01, -6.4935e-01,  7.6855e-01,  2.1817e-01,\n",
       "          0.0000e+00,  7.8469e-01],\n",
       "        [ 0.0000e+00,  0.0000e+00,  0.0000e+00,  0.0000e+00,  0.0000e+00,\n",
       "          0.0000e+00,  0.0000e+00],\n",
       "        [ 0.0000e+00,  0.0000e+00,  0.0000e+00,  0.0000e+00,  0.0000e+00,\n",
       "          0.0000e+00,  0.0000e+00],\n",
       "        [ 0.0000e+00,  0.0000e+00,  0.0000e+00,  0.0000e+00,  0.0000e+00,\n",
       "          0.0000e+00,  0.0000e+00],\n",
       "        [ 0.0000e+00,  0.0000e+00,  0.0000e+00,  0.0000e+00,  0.0000e+00,\n",
       "          0.0000e+00,  0.0000e+00],\n",
       "        [ 0.0000e+00,  0.0000e+00,  0.0000e+00,  0.0000e+00,  0.0000e+00,\n",
       "          0.0000e+00,  0.0000e+00],\n",
       "        [ 0.0000e+00,  0.0000e+00,  0.0000e+00,  0.0000e+00,  0.0000e+00,\n",
       "          0.0000e+00,  0.0000e+00],\n",
       "        [ 0.0000e+00,  0.0000e+00,  0.0000e+00,  0.0000e+00,  0.0000e+00,\n",
       "          0.0000e+00,  0.0000e+00],\n",
       "        [-1.1563e+00,  1.8128e+00, -3.3180e-01,  0.0000e+00,  0.0000e+00,\n",
       "          0.0000e+00,  0.0000e+00],\n",
       "        [ 3.5963e-01,  3.6050e-01, -1.3574e+00,  0.0000e+00,  0.0000e+00,\n",
       "          0.0000e+00,  0.0000e+00]])"
      ]
     },
     "execution_count": 38,
     "metadata": {},
     "output_type": "execute_result"
    }
   ],
   "source": [
    "logScaled_reco[0]"
   ]
  },
  {
   "cell_type": "code",
   "execution_count": 37,
   "id": "34d300ae-0d46-4429-b1dd-f68bc24f076b",
   "metadata": {},
   "outputs": [],
   "source": [
    "logScaled_reco = logScaled_reco[:,:,:-1]"
   ]
  },
  {
   "cell_type": "code",
   "execution_count": null,
   "id": "63b61708-a11e-4519-8427-1b1a66e34cee",
   "metadata": {},
   "outputs": [],
   "source": []
  }
 ],
 "metadata": {
  "kernelspec": {
   "display_name": "Python 3 (ipykernel)",
   "language": "python",
   "name": "python3"
  },
  "language_info": {
   "codemirror_mode": {
    "name": "ipython",
    "version": 3
   },
   "file_extension": ".py",
   "mimetype": "text/x-python",
   "name": "python",
   "nbconvert_exporter": "python",
   "pygments_lexer": "ipython3",
   "version": "3.9.17"
  }
 },
 "nbformat": 4,
 "nbformat_minor": 5
}
