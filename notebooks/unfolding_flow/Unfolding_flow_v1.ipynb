{
 "cells": [
  {
   "cell_type": "code",
   "execution_count": 1,
   "metadata": {},
   "outputs": [],
   "source": [
    "from torch.utils.data import DataLoader\n",
    "import torch.nn as nn\n",
    "import torch\n",
    "import numpy as np\n",
    "import matplotlib.pyplot as plt\n",
    "from matplotlib.colors import LogNorm\n",
    "import plot_loss\n",
    "from torch import optim\n",
    "from tqdm.notebook import trange\n",
    "\n",
    "from memflow.read_data.dataset_all import DatasetCombined\n",
    "from memflow.unfolding_network.conditional_transformer import ConditioningTransformerLayer\n",
    "\n",
    "from tensorboardX import SummaryWriter\n",
    "\n",
    "torch.cuda.empty_cache()"
   ]
  },
  {
   "cell_type": "code",
   "execution_count": 2,
   "metadata": {},
   "outputs": [],
   "source": [
    "import sys"
   ]
  },
  {
   "cell_type": "code",
   "execution_count": 3,
   "metadata": {},
   "outputs": [
    {
     "data": {
      "text/plain": [
       "['/afs/cern.ch/user/a/adpetre/public/MEMFlow/notebooks/unfolding_flow',\n",
       " '/cvmfs/sft.cern.ch/lcg/views/LCG_103cuda/x86_64-centos9-gcc11-opt/lib/python3.9/site-packages/itk',\n",
       " '/cvmfs/sft.cern.ch/lcg/views/LCG_103cuda/x86_64-centos9-gcc11-opt/python',\n",
       " '/cvmfs/sft.cern.ch/lcg/views/LCG_103cuda/x86_64-centos9-gcc11-opt/lib',\n",
       " '',\n",
       " '/cvmfs/sft.cern.ch/lcg/views/LCG_103cuda/x86_64-centos9-gcc11-opt/lib/python3.9/site-packages',\n",
       " '/cvmfs/sft.cern.ch/lcg/releases/Python/3.9.12-9a1bc/x86_64-centos9-gcc11-opt/lib/python39.zip',\n",
       " '/cvmfs/sft.cern.ch/lcg/releases/Python/3.9.12-9a1bc/x86_64-centos9-gcc11-opt/lib/python3.9',\n",
       " '/cvmfs/sft.cern.ch/lcg/releases/Python/3.9.12-9a1bc/x86_64-centos9-gcc11-opt/lib/python3.9/lib-dynload',\n",
       " '/afs/cern.ch/user/a/adpetre/public/myenv/lib/python3.9/site-packages',\n",
       " '/afs/cern.ch/user/a/adpetre/public/zuko',\n",
       " '/cvmfs/sft.cern.ch/lcg/views/LCG_103cuda/x86_64-centos9-gcc11-opt/lib/python3.9/site-packages/IPython/extensions',\n",
       " '/afs/cern.ch/user/a/adpetre/.ipython']"
      ]
     },
     "execution_count": 3,
     "metadata": {},
     "output_type": "execute_result"
    }
   ],
   "source": [
    "sys.path"
   ]
  },
  {
   "cell_type": "markdown",
   "metadata": {},
   "source": [
    "# Config\n"
   ]
  },
  {
   "cell_type": "code",
   "execution_count": 4,
   "metadata": {},
   "outputs": [
    {
     "data": {
      "text/plain": [
       "['/afs/cern.ch/user/a/adpetre/public/MEMFlow/notebooks/unfolding_flow',\n",
       " '/cvmfs/sft.cern.ch/lcg/views/LCG_103cuda/x86_64-centos9-gcc11-opt/lib/python3.9/site-packages/itk',\n",
       " '/cvmfs/sft.cern.ch/lcg/views/LCG_103cuda/x86_64-centos9-gcc11-opt/python',\n",
       " '/cvmfs/sft.cern.ch/lcg/views/LCG_103cuda/x86_64-centos9-gcc11-opt/lib',\n",
       " '',\n",
       " '/cvmfs/sft.cern.ch/lcg/views/LCG_103cuda/x86_64-centos9-gcc11-opt/lib/python3.9/site-packages',\n",
       " '/cvmfs/sft.cern.ch/lcg/releases/Python/3.9.12-9a1bc/x86_64-centos9-gcc11-opt/lib/python39.zip',\n",
       " '/cvmfs/sft.cern.ch/lcg/releases/Python/3.9.12-9a1bc/x86_64-centos9-gcc11-opt/lib/python3.9',\n",
       " '/cvmfs/sft.cern.ch/lcg/releases/Python/3.9.12-9a1bc/x86_64-centos9-gcc11-opt/lib/python3.9/lib-dynload',\n",
       " '/afs/cern.ch/user/a/adpetre/public/myenv/lib/python3.9/site-packages',\n",
       " '/afs/cern.ch/user/a/adpetre/public/zuko',\n",
       " '/cvmfs/sft.cern.ch/lcg/views/LCG_103cuda/x86_64-centos9-gcc11-opt/lib/python3.9/site-packages/IPython/extensions',\n",
       " '/afs/cern.ch/user/a/adpetre/.ipython']"
      ]
     },
     "execution_count": 4,
     "metadata": {},
     "output_type": "execute_result"
    }
   ],
   "source": [
    "sys.path"
   ]
  },
  {
   "cell_type": "code",
   "execution_count": 11,
   "metadata": {},
   "outputs": [],
   "source": [
    "from omegaconf import OmegaConf\n",
    "\n",
    "config = {\n",
    "    \"name\": \"initial_tests\",\n",
    "    \"version\": \"v2\",\n",
    "    \n",
    "    \"description\": \"\",\n",
    "    \"input_dataset\": \"../../../dataset/v7\",\n",
    "    \"input_shape\": {\n",
    "        \"number_jets\": 15,\n",
    "        \"jets_features\": 5,\n",
    "        \"number_lept\": 1,\n",
    "        \"lepton_features\": 3\n",
    "    },\n",
    "    \"conditioning_transformer\":{\n",
    "        \"out_features\": 32,\n",
    "        \"nhead\": 1,\n",
    "        \"no_layers\": 3\n",
    "    },\n",
    "    \"unfolding_flow\":{\n",
    "        \"nfeatures\": 10,\n",
    "        \"ncond\": 34,\n",
    "        \"ntransforms\": 5,\n",
    "        \"hidden_mlp\": [128]*4,\n",
    "        \"bins\": 32,\n",
    "        \"autoregressive\": True\n",
    "    },\n",
    "    \"training_params\":\n",
    "    {\n",
    "        \"lr\": 1e-5,\n",
    "        \"batch_size\": 2048,\n",
    "        \"batch_size_training\": 2048,\n",
    "        \"batch_size_validation\": 512,\n",
    "        \"nepochs\": 5,\n",
    "        \"traning_sample\": 500000,\n",
    "        \"validation_sample\": 69993\n",
    "    }\n",
    "}\n",
    "\n",
    "conf = OmegaConf.create(config)\n",
    "\n",
    "with open(f\"runs/config_{conf.name}_{conf.version}.yaml\", \"w\") as fo:\n",
    "    fo.write(OmegaConf.to_yaml(conf))"
   ]
  },
  {
   "cell_type": "markdown",
   "metadata": {},
   "source": [
    "# Setup the flow"
   ]
  },
  {
   "cell_type": "code",
   "execution_count": 12,
   "metadata": {},
   "outputs": [],
   "source": [
    "import zuko"
   ]
  },
  {
   "cell_type": "code",
   "execution_count": 13,
   "metadata": {},
   "outputs": [],
   "source": [
    "from zuko.flows import TransformModule, SimpleAffineTransform\n",
    "from zuko.distributions import BoxUniform"
   ]
  },
  {
   "cell_type": "code",
   "execution_count": 14,
   "metadata": {},
   "outputs": [],
   "source": [
    "def count_parameters(model):\n",
    "    return sum(p.numel() for p in model.parameters() if p.requires_grad)"
   ]
  },
  {
   "cell_type": "code",
   "execution_count": 15,
   "metadata": {},
   "outputs": [],
   "source": [
    "class MyEnsemble(nn.Module):\n",
    "    def __init__(self, no_jets, no_lept, jets_features, lepton_features, \n",
    "                 nfeatures_flow=12, ncond_flow=34, ntransforms_flow=5, hidden_mlp_flow=[128]*4, bins_flow=16,\n",
    "                 autoregressive_flow=True, out_features_cond=32, nhead_cond=4, no_layers_cond=3, dtype=torch.float64):\n",
    "        super(MyEnsemble, self).__init__()\n",
    "        \n",
    "        # pass no_jets and no_lept after passing data\n",
    "        self.cond_transformer = ConditioningTransformerLayer(\n",
    "                                            no_jets = no_jets,\n",
    "                                            jets_features=jets_features, \n",
    "                                            no_lept = no_lept,\n",
    "                                            lepton_features=lepton_features, \n",
    "                                            out_features=out_features_cond,\n",
    "                                            nhead=nhead_cond,\n",
    "                                            no_layers=no_layers_cond,\n",
    "                                            dtype=dtype)      \n",
    "        \n",
    "        self.flow = zuko.flows.NSF(features=nfeatures_flow,\n",
    "                              context=ncond_flow, \n",
    "                              transforms=ntransforms_flow, \n",
    "                              bins=bins_flow, \n",
    "                              hidden_features=hidden_mlp_flow, \n",
    "                              randperm=False,\n",
    "                              base=BoxUniform,\n",
    "                              base_args=[torch.ones(nfeatures_flow)*(-1),torch.ones(nfeatures_flow)], \n",
    "                              univariate_kwargs={\"bound\": 1 }, # Keeping the flow in the [-1,1] box.\n",
    "                              passes= 2 if not autoregressive_flow else nfeatures_flow)\n",
    "\n",
    "        self.flow.transforms.insert(0, SimpleAffineTransform(0*torch.ones(nfeatures_flow),1*torch.ones(nfeatures_flow),\n",
    "                                                     -1*torch.ones(nfeatures_flow), 1*torch.ones(nfeatures_flow)))\n",
    "        \n",
    "        \n",
    "    def forward(self, data):\n",
    "        \n",
    "        \n",
    "        (data_ps, data_ps_detjacinv, mask_lepton, data_lepton, mask_jets,\n",
    "        data_jets, mask_met, data_met,\n",
    "        mask_boost_reco, data_boost_reco) =  data\n",
    "            \n",
    "        cond_X = self.cond_transformer(data_jets,\n",
    "                                    data_lepton,\n",
    "                                    data_met,\n",
    "                                    data_boost_reco, \n",
    "                                    mask_jets, \n",
    "                                    mask_lepton, \n",
    "                                    mask_met, \n",
    "                                    mask_boost_reco)\n",
    "\n",
    "        flow_result = self.flow(cond_X).log_prob(data_ps)\n",
    "        detjac = data_ps_detjacinv.log()\n",
    "        logp_g =  flow_result # + detjac \n",
    "\n",
    "        return logp_g, cond_X, flow_result, detjac"
   ]
  },
  {
   "cell_type": "code",
   "execution_count": 10,
   "metadata": {},
   "outputs": [
    {
     "name": "stdout",
     "output_type": "stream",
     "text": [
      "jets file already exists\n",
      "lepton_reco file already exists\n",
      "met file already exists\n",
      "boost file already exists\n",
      "partons file already exists\n",
      "lepton_partons file already exists\n",
      "boost file already exists\n",
      "H_thad_tlep_ISR file already exists\n",
      "H_thad_tlep_ISR_cartesian file already exists\n"
     ]
    }
   ],
   "source": [
    "batch_size = conf.training_params.batch_size\n",
    "device = torch.device('cuda')\n",
    "\n",
    "data_cuda = DatasetCombined(conf.input_dataset, dev=device, dtype=torch.float64)\n",
    "\n",
    "dataiterator = DataLoader(data_cuda, batch_size=batch_size, shuffle=True, drop_last=True)"
   ]
  },
  {
   "cell_type": "markdown",
   "metadata": {},
   "source": [
    "## Training loop"
   ]
  },
  {
   "cell_type": "code",
   "execution_count": 16,
   "metadata": {},
   "outputs": [],
   "source": [
    "nepochs = conf.training_params.nepochs\n",
    "lr_init = conf.training_params.lr\n",
    "version = conf.version\n",
    "\n",
    "name_dir = f'runs/{version}'\n",
    "writer = SummaryWriter(name_dir)"
   ]
  },
  {
   "cell_type": "code",
   "execution_count": 26,
   "metadata": {},
   "outputs": [],
   "source": [
    "train_subset, val_subset = torch.utils.data.random_split(\n",
    "        data_cuda, [conf.training_params.traning_sample, conf.training_params.validation_sample],\n",
    "        generator=torch.Generator().manual_seed(1))"
   ]
  },
  {
   "cell_type": "code",
   "execution_count": 27,
   "metadata": {},
   "outputs": [],
   "source": [
    "# just reload it, don't call again DatasetCombined\n",
    "#dataiterator = DataLoader(dataset=data_cuda, batch_size=batch_size, shuffle=True, drop_last=True)\n",
    "train_loader = DataLoader(dataset=train_subset, shuffle=True, batch_size=conf.training_params.batch_size_training)\n",
    "val_loader = DataLoader(dataset=val_subset, shuffle=True, batch_size=conf.training_params.batch_size_validation)"
   ]
  },
  {
   "cell_type": "code",
   "execution_count": 28,
   "metadata": {},
   "outputs": [
    {
     "name": "stdout",
     "output_type": "stream",
     "text": [
      "parameters total:1302351\n"
     ]
    }
   ],
   "source": [
    "model = MyEnsemble(no_jets=conf.input_shape.number_jets,\n",
    "                    no_lept=conf.input_shape.number_lept,\n",
    "                    jets_features=conf.input_shape.jets_features,\n",
    "                    lepton_features=conf.input_shape.lepton_features, \n",
    "                    nfeatures_flow=conf.unfolding_flow.nfeatures,\n",
    "                    ncond_flow=conf.unfolding_flow.ncond, \n",
    "                    ntransforms_flow=conf.unfolding_flow.ntransforms,\n",
    "                    hidden_mlp_flow=conf.unfolding_flow.hidden_mlp, \n",
    "                    bins_flow=conf.unfolding_flow.bins,\n",
    "                    autoregressive_flow=conf.unfolding_flow.autoregressive, \n",
    "                    out_features_cond=conf.conditioning_transformer.out_features, \n",
    "                    nhead_cond=conf.conditioning_transformer.nhead, \n",
    "                    no_layers_cond=conf.conditioning_transformer.no_layers,\n",
    "                    dtype=torch.float64).cuda()\n",
    "\n",
    "optimizer = optim.Adam(list(model.parameters()) , lr=lr_init)\n",
    "\n",
    "#decay = 0.01\n",
    "#fcn = lambda step: 1./(1. + decay*step)\n",
    "#scheduler = torch.optim.lr_scheduler.LambdaLR(optimizer, lr_lambda=fcn)\n",
    "\n",
    "plotter = plot_loss.LossPlotter([\"loss_epoch\",\"loss\"])\n",
    "\n",
    "#print(f\"parameters flow:{count_parameters(model.flow)}, parameters conditioner: {count_parameters(model.cond_transformer_lambda)}\")\n",
    "print(f\"parameters total:{count_parameters(model)}\")"
   ]
  },
  {
   "cell_type": "code",
   "execution_count": 29,
   "metadata": {},
   "outputs": [
    {
     "data": {
      "text/plain": [
       "<torch.autograd.anomaly_mode.set_detect_anomaly at 0x7f27459e8340>"
      ]
     },
     "execution_count": 29,
     "metadata": {},
     "output_type": "execute_result"
    }
   ],
   "source": [
    "torch.autograd.set_detect_anomaly(True)"
   ]
  },
  {
   "cell_type": "code",
   "execution_count": 30,
   "metadata": {},
   "outputs": [],
   "source": [
    "scaler = torch.cuda.amp.GradScaler()"
   ]
  },
  {
   "cell_type": "code",
   "execution_count": null,
   "metadata": {
    "tags": []
   },
   "outputs": [
    {
     "data": {
      "application/vnd.jupyter.widget-view+json": {
       "model_id": "6e2a63cccf9a42de9cd089d8cdbab269",
       "version_major": 2,
       "version_minor": 0
      },
      "text/plain": [
       "Step:   0%|          | 0/245 [00:00<?, ?it/s]"
      ]
     },
     "metadata": {},
     "output_type": "display_data"
    },
    {
     "name": "stdout",
     "output_type": "stream",
     "text": [
      "Before training loop\n",
      "0\n",
      "0\n",
      "1\n",
      "2\n",
      "3\n",
      "4\n",
      "5\n",
      "6\n",
      "7\n",
      "8\n",
      "9\n",
      "10\n",
      "11\n",
      "12\n",
      "13\n",
      "14\n",
      "15\n",
      "16\n",
      "17\n",
      "18\n",
      "19\n",
      "20\n",
      "21\n",
      "22\n",
      "23\n",
      "24\n",
      "25\n",
      "26\n",
      "27\n",
      "28\n",
      "29\n",
      "30\n",
      "31\n",
      "32\n",
      "33\n",
      "34\n",
      "35\n",
      "36\n",
      "37\n",
      "38\n",
      "39\n",
      "40\n",
      "41\n",
      "42\n",
      "43\n",
      "44\n",
      "45\n",
      "46\n",
      "47\n",
      "48\n",
      "49\n",
      "50\n",
      "51\n",
      "52\n",
      "53\n",
      "54\n",
      "55\n",
      "56\n",
      "57\n",
      "58\n",
      "59\n",
      "60\n",
      "61\n",
      "62\n",
      "63\n",
      "64\n",
      "65\n",
      "66\n",
      "67\n",
      "68\n",
      "69\n",
      "70\n",
      "71\n",
      "72\n",
      "73\n",
      "74\n",
      "75\n",
      "76\n",
      "77\n",
      "78\n",
      "79\n",
      "80\n",
      "81\n",
      "82\n",
      "83\n",
      "84\n",
      "85\n",
      "86\n",
      "87\n",
      "88\n",
      "89\n",
      "90\n",
      "91\n",
      "92\n",
      "93\n",
      "94\n",
      "95\n",
      "96\n",
      "97\n",
      "98\n",
      "99\n",
      "100\n",
      "100\n",
      "101\n",
      "102\n",
      "103\n",
      "104\n",
      "105\n",
      "106\n",
      "107\n",
      "108\n",
      "109\n",
      "110\n",
      "111\n"
     ]
    }
   ],
   "source": [
    "N_train = len(train_loader)\n",
    "N_valid = len(val_loader)\n",
    "N_points = 5\n",
    "\n",
    "\n",
    "for e in range(nepochs):\n",
    "    \n",
    "    sum_loss = 0.\n",
    "    \n",
    "    # training loop\n",
    "    steps = trange(0, N_train, desc=\"Step\", leave=True)\n",
    "    \n",
    "    print(\"Before training loop\")\n",
    "    for i, data in enumerate(train_loader):\n",
    "        \n",
    "        if (i % 100 == 0):\n",
    "            print(i)\n",
    "            \n",
    "        print(i)\n",
    "            \n",
    "        optimizer.zero_grad()\n",
    "        \n",
    "        logp_g, cond_X, flow_result, detjac = model(data)\n",
    "        # save # of nans per batch\n",
    "        nan_mask = torch.isnan(logp_g)\n",
    "        nonzeros = torch.count_nonzero(nan_mask)\n",
    "        writer.add_scalar(\"Number_NaN_probabilities\", nonzeros.item(), i)\n",
    "        \n",
    "        # save # of nans from flow_result\n",
    "        nan_mask_flow = torch.isnan(flow_result)\n",
    "        nonzeros_flow = torch.count_nonzero(nan_mask_flow)\n",
    "        writer.add_scalar(\"Number_NaN_FlowLogOnly\", nonzeros_flow.item(), i)\n",
    "        \n",
    "         # save # of nans from detJac\n",
    "        nan_mask_det = torch.isnan(detjac)\n",
    "        nonzeros_det = torch.count_nonzero(nan_mask_det)\n",
    "        writer.add_scalar(\"Number_NaN_DetJacLogOnly\", nonzeros_det.item(), i)\n",
    "        \n",
    "        # same verifies where infinities appear\n",
    "\n",
    "        \n",
    "        logp_g = torch.nan_to_num(logp_g, posinf=20, neginf=-20)\n",
    "        flow_result = torch.nan_to_num(flow_result, posinf=20, neginf=-20)\n",
    "        detjac = torch.nan_to_num(detjac, posinf=20, neginf=-20)\n",
    "        \n",
    "        flow_result_mean = -flow_result.nanmean()\n",
    "        detjac_mean = -detjac.nanmean()\n",
    "        writer.add_scalar(\"FlowLogOnly\", flow_result_mean.item(), i)\n",
    "        writer.add_scalar(\"detJacOnly\", detjac_mean.item(), i)\n",
    "\n",
    "        loss = -logp_g.nanmean()\n",
    "        loss.backward()\n",
    "        \n",
    "        optimizer.step() \n",
    "        sum_loss += loss.item()\n",
    "        \n",
    "        writer.add_scalar(\"Loss_step_train\", loss.item(), i)\n",
    "        #steps.set_description(f\"Step loss: {loss.item()}\")\n",
    "\n",
    "    writer.add_scalar('Loss_epoch_train', sum_loss/N_train, e)\n",
    "    #epoch.set_description(sum_loss/N_train)\n",
    "    valid_loss = 0\n",
    "    \n",
    "    # validation loop (don't update weights and gradients)\n",
    "    print(\"Before validation loop\")\n",
    "    for i, data in enumerate(val_loader):\n",
    "        \n",
    "        logp_g, cond_X, flow_result, detjac = model(data)\n",
    "        logp_g = torch.nan_to_num(logp_g, posinf=20, neginf=-20)\n",
    "        loss =  -logp_g.nanmean()\n",
    "        valid_loss += loss.item()\n",
    "        \n",
    "        writer.add_scalar(\"Loss_step_validation\", loss.item(), i)\n",
    "        \n",
    "        if i == 0:\n",
    "            \n",
    "            (data_ps, data_ps_detjacinv, \n",
    "            mask_lepton, data_lepton, mask_jets,\n",
    "            data_jets, mask_met, data_met,\n",
    "            mask_boost_reco, data_boost_reco) =  data\n",
    "            \n",
    "            ps_new = model.flow(cond_X[0:500]).sample((N_points,))\n",
    "            \n",
    "            data_ps_cpu = data_ps[0:500].detach().cpu()\n",
    "            ps_new_cpu = ps_new.detach().cpu()\n",
    "            \n",
    "            \n",
    "            for x in range(data_ps_cpu.size(1)):\n",
    "                fig, ax = plt.subplots()\n",
    "                h = ax.hist2d(data_ps_cpu[:,x].tile(N_points,1,1).flatten().numpy(), # why that tile?\n",
    "                              ps_new_cpu[:,:,x].flatten().numpy(),\n",
    "                              bins=50, range=((0, 1),(0, 1)))\n",
    "                fig.colorbar(h[3], ax=ax)\n",
    "                writer.add_figure(f\"Validation_ramboentry_{x}\", fig, e)\n",
    "        \n",
    "        # aici\n",
    "        \n",
    "    writer.add_scalar('Loss_epoch_val', valid_loss/N_valid, e)\n",
    "    \n",
    "writer.close()"
   ]
  },
  {
   "cell_type": "code",
   "execution_count": null,
   "metadata": {},
   "outputs": [],
   "source": []
  },
  {
   "cell_type": "code",
   "execution_count": null,
   "metadata": {},
   "outputs": [],
   "source": [
    "for p in cond_transformer.parameters():\n",
    "    print(p)\n",
    "    \n"
   ]
  },
  {
   "cell_type": "code",
   "execution_count": 103,
   "metadata": {},
   "outputs": [],
   "source": [
    "ps_new = flow(cond_X).sample((50,))"
   ]
  },
  {
   "cell_type": "code",
   "execution_count": 68,
   "metadata": {},
   "outputs": [
    {
     "data": {
      "text/plain": [
       "torch.Size([512, 10])"
      ]
     },
     "execution_count": 68,
     "metadata": {},
     "output_type": "execute_result"
    }
   ],
   "source": [
    "data_ps.shape"
   ]
  },
  {
   "cell_type": "code",
   "execution_count": 105,
   "metadata": {},
   "outputs": [
    {
     "data": {
      "text/plain": [
       "<matplotlib.colorbar.Colorbar at 0x7f5abf769730>"
      ]
     },
     "execution_count": 105,
     "metadata": {},
     "output_type": "execute_result"
    },
    {
     "data": {
      "image/png": "[encoded data removed]",
      "text/plain": [
       "<Figure size 640x480 with 2 Axes>"
      ]
     },
     "metadata": {},
     "output_type": "display_data"
    }
   ],
   "source": [
    "plt.hist2d(data_ps[:,-2:].unsqueeze(0).tile(50,1,1).flatten().numpy(), # why that tile?\n",
    "           ps_new[:,:,-2:].flatten().numpy(), \n",
    "           bins=40, range=((0,1),(0,1)));\n",
    "plt.colorbar()"
   ]
  },
  {
   "cell_type": "code",
   "execution_count": 109,
   "metadata": {},
   "outputs": [
    {
     "data": {
      "text/plain": [
       "<matplotlib.colorbar.Colorbar at 0x7f5acb00bd60>"
      ]
     },
     "execution_count": 109,
     "metadata": {},
     "output_type": "execute_result"
    },
    {
     "data": {
      "image/png": "[encoded data removed]",
      "text/plain": [
       "<Figure size 640x480 with 2 Axes>"
      ]
     },
     "metadata": {},
     "output_type": "display_data"
    }
   ],
   "source": [
    "plt.hist2d(data_ps[:,7].unsqueeze(0).tile(50,1,1).flatten().numpy(), \n",
    "           ps_new[:,:,7].flatten().numpy(), \n",
    "           bins=40, range=((0,1),(0,1)));\n",
    "plt.colorbar()"
   ]
  },
  {
   "cell_type": "code",
   "execution_count": 53,
   "metadata": {},
   "outputs": [
    {
     "data": {
      "text/plain": [
       "(array([  42.,   81.,  101.,  138.,  141.,  154.,  197.,  182.,  213.,\n",
       "         221.,  247.,  244.,  251.,  238.,  278.,  288.,  263.,  280.,\n",
       "         334.,  346.,  329.,  370.,  401.,  404.,  429.,  426.,  440.,\n",
       "         429.,  504.,  523.,  542.,  578.,  604.,  615.,  656.,  680.,\n",
       "         709.,  773.,  788.,  808.,  891.,  889.,  957., 1000., 1051.,\n",
       "        1058., 1096., 1095., 1272., 1321., 1245., 1220., 1110., 1086.,\n",
       "        1045.,  994.,  979.,  972.,  887.,  823.,  818.,  772.,  753.,\n",
       "         701.,  646.,  647.,  597.,  614.,  492.,  543.,  495.,  509.,\n",
       "         445.,  433.,  442.,  430.,  406.,  363.,  366.,  331.,  329.,\n",
       "         302.,  342.,  253.,  288.,  263.,  270.,  232.,  248.,  184.,\n",
       "         222.,  192.,  169.,  164.,  167.,  160.,  139.,   94.,   79.,\n",
       "          42.]),\n",
       " array([-0.99332244, -0.97341674, -0.95351104, -0.93360535, -0.91369965,\n",
       "        -0.89379395, -0.87388825, -0.85398255, -0.83407686, -0.81417116,\n",
       "        -0.79426546, -0.77435976, -0.75445407, -0.73454837, -0.71464267,\n",
       "        -0.69473697, -0.67483128, -0.65492558, -0.63501988, -0.61511418,\n",
       "        -0.59520848, -0.57530279, -0.55539709, -0.53549139, -0.51558569,\n",
       "        -0.49568   , -0.4757743 , -0.4558686 , -0.4359629 , -0.41605721,\n",
       "        -0.39615151, -0.37624581, -0.35634011, -0.33643441, -0.31652872,\n",
       "        -0.29662302, -0.27671732, -0.25681162, -0.23690593, -0.21700023,\n",
       "        -0.19709453, -0.17718883, -0.15728313, -0.13737744, -0.11747174,\n",
       "        -0.09756604, -0.07766034, -0.05775465, -0.03784895, -0.01794325,\n",
       "         0.00196245,  0.02186814,  0.04177384,  0.06167954,  0.08158524,\n",
       "         0.10149094,  0.12139663,  0.14130233,  0.16120803,  0.18111373,\n",
       "         0.20101942,  0.22092512,  0.24083082,  0.26073652,  0.28064221,\n",
       "         0.30054791,  0.32045361,  0.34035931,  0.36026501,  0.3801707 ,\n",
       "         0.4000764 ,  0.4199821 ,  0.4398878 ,  0.45979349,  0.47969919,\n",
       "         0.49960489,  0.51951059,  0.53941629,  0.55932198,  0.57922768,\n",
       "         0.59913338,  0.61903908,  0.63894477,  0.65885047,  0.67875617,\n",
       "         0.69866187,  0.71856756,  0.73847326,  0.75837896,  0.77828466,\n",
       "         0.79819036,  0.81809605,  0.83800175,  0.85790745,  0.87781315,\n",
       "         0.89771884,  0.91762454,  0.93753024,  0.95743594,  0.97734163,\n",
       "         0.99724733]),\n",
       " <BarContainer object of 100 artists>)"
      ]
     },
     "execution_count": 53,
     "metadata": {},
     "output_type": "execute_result"
    },
    {
     "data": {
      "image/png": "[encoded data removed]",
      "text/plain": [
       "<Figure size 640x480 with 1 Axes>"
      ]
     },
     "metadata": {},
     "output_type": "display_data"
    }
   ],
   "source": [
    "plt.hist((data_ps-ps_new).flatten(), bins=100)"
   ]
  },
  {
   "cell_type": "code",
   "execution_count": null,
   "metadata": {},
   "outputs": [],
   "source": []
  }
 ],
 "metadata": {
  "kernelspec": {
   "display_name": "myenv",
   "language": "python",
   "name": "myenv"
  },
  "language_info": {
   "codemirror_mode": {
    "name": "ipython",
    "version": 3
   },
   "file_extension": ".py",
   "mimetype": "text/x-python",
   "name": "python",
   "nbconvert_exporter": "python",
   "pygments_lexer": "ipython3",
   "version": "3.9.12"
  }
 },
 "nbformat": 4,
 "nbformat_minor": 4
}
