{
 "cells": [
  {
   "cell_type": "code",
   "execution_count": 5,
   "id": "88794f21-b4c9-4c27-937b-945197af361d",
   "metadata": {},
   "outputs": [],
   "source": [
    "from torch.utils.data import DataLoader\n",
    "import torch.nn as nn\n",
    "import torch\n",
    "import numpy as np\n",
    "import matplotlib.pyplot as plt\n",
    "from matplotlib.colors import LogNorm\n",
    "import plot_loss\n",
    "from torch import optim\n",
    "from tqdm.notebook import trange\n",
    "\n",
    "from memflow.read_data.dataset_all import DatasetCombined\n",
    "from memflow.unfolding_network.conditional_transformer import ConditioningTransformerLayer\n",
    "\n",
    "from tensorboardX import SummaryWriter\n",
    "\n",
    "from torch.nn.functional import normalize\n",
    "from sklearn.preprocessing import StandardScaler\n",
    "\n",
    "from memflow.unfolding_flow.utils import *\n",
    "torch.cuda.empty_cache()"
   ]
  },
  {
   "cell_type": "code",
   "execution_count": 6,
   "id": "46e17007-d919-4d45-a9b5-b72058e73e82",
   "metadata": {},
   "outputs": [],
   "source": [
    "from omegaconf import OmegaConf\n",
    "\n",
    "config = {\n",
    "    \"name\": \"cond_pretraining_particles\",\n",
    "    \"version\": \"v2\",\n",
    "    \n",
    "    \"description\": \"\",\n",
    "    \"input_dataset\": \"../../../dataset/v7\",\n",
    "    \"input_shape\": {\n",
    "        \"number_jets\": 15,\n",
    "        \"jets_features\": 5,\n",
    "        \"number_lept\": 1,\n",
    "        \"lepton_features\": 3\n",
    "    },\n",
    "    \"conditioning_transformer\":{\n",
    "        \"out_features\": 4, # the 4 momenta\n",
    "        \"hidden_features\": 32,\n",
    "        \"dim_feedforward_transformer\": 512,\n",
    "        \"nhead_encoder\": 2,\n",
    "        \"no_layers_encoder\": 3,\n",
    "        \"nhead_decoder\": 1,\n",
    "        \"no_layers_decoder\": 1,\n",
    "        \"aggregate\": False,\n",
    "        \"no_decoders\": 3,\n",
    "        \n",
    "    },    \n",
    "    \"training_params\":\n",
    "    {\n",
    "        \"lr\": 1e-4,\n",
    "        \"batch_size\": 1024,\n",
    "        \"batch_size_training\": 1024,\n",
    "        \"batch_size_validation\": 1024,\n",
    "        \"nepochs\": 10,\n",
    "        \"traning_sample\": 500000,\n",
    "        \"validation_sample\": 69993\n",
    "    }\n",
    "}\n",
    "\n",
    "conf = OmegaConf.create(config)\n",
    "\n",
    "with open(f\"runs/config_{conf.name}_{conf.version}.yaml\", \"w\") as fo:\n",
    "    fo.write(OmegaConf.to_yaml(conf))"
   ]
  },
  {
   "cell_type": "code",
   "execution_count": 7,
   "id": "50a9a7e7-56a1-400a-8efd-38970b546a5b",
   "metadata": {},
   "outputs": [
    {
     "name": "stdout",
     "output_type": "stream",
     "text": [
      "jets file already exists\n",
      "lepton_reco file already exists\n",
      "met file already exists\n",
      "boost file already exists\n",
      "recoParticles_Cartesian file already exists\n",
      "recoParticlesScaled file already exists\n",
      "partons file already exists\n",
      "lepton_partons file already exists\n",
      "boost file already exists\n",
      "H_thad_tlep_ISR file already exists\n",
      "H_thad_tlep_ISR_cartesian file already exists\n",
      "Log_H_thad_tlep_ISR_cartesian file already exists\n"
     ]
    }
   ],
   "source": [
    "batch_size = conf.training_params.batch_size\n",
    "device = torch.device('cuda')\n",
    "\n",
    "data_cuda = DatasetCombined(conf.input_dataset, dev=device, dtype=torch.float64,\n",
    "                            reco_list=['mask_lepton', 'data_lepton', \n",
    "                                        'mask_jets', 'data_jets', \n",
    "                                        'mask_met', 'data_met', \n",
    "                                        'mask_boost', 'data_boost',\n",
    "                                        'recoParticlesCartesian', 'recoParticlesScaled'],\n",
    "                            parton_list=['data_higgs_t_tbar_ISR', 'data_higgs_t_tbar_ISR_cartesian',\n",
    "                                         'phasespace_intermediateParticles', 'phasespace_rambo_detjacobian',\n",
    "                                         'mean_log_data_higgs_t_tbar_ISR_cartesian',\n",
    "                                         'std_log_data_higgs_t_tbar_ISR_cartesian',\n",
    "                                         'logScaled_data_higgs_t_tbar_ISR_cartesian'])\n",
    "\n",
    "train_subset, val_subset = torch.utils.data.random_split(\n",
    "        data_cuda, [conf.training_params.traning_sample, conf.training_params.validation_sample],\n",
    "        generator=torch.Generator().manual_seed(1))\n",
    "\n",
    "# just reload it, don't call again DatasetCombined\n",
    "#dataiterator = DataLoader(dataset=data_cuda, batch_size=batch_size, shuffle=True, drop_last=True)\n",
    "train_loader = DataLoader(dataset=train_subset, shuffle=True, batch_size=conf.training_params.batch_size_training)\n",
    "val_loader = DataLoader(dataset=val_subset, shuffle=True, batch_size=conf.training_params.batch_size_validation)"
   ]
  },
  {
   "cell_type": "code",
   "execution_count": 9,
   "id": "2c2bb32a",
   "metadata": {},
   "outputs": [],
   "source": [
    "(data_higgs_t_tbar_ISR, data_higgs_t_tbar_ISR_cartesian,\n",
    "ps, ps_det,\n",
    "mean, std, logScaledParticles,\n",
    "mask_lepton_reco, data_lepton_reco, \n",
    "mask_jets, data_jets, \n",
    "mask_met, data_met, \n",
    "mask_boost_reco, data_boost_reco,\n",
    "recoParticlesCartesian, recoParticlesScaled) = next(iter(train_loader))"
   ]
  },
  {
   "cell_type": "code",
   "execution_count": 42,
   "id": "fa6b5088-98c0-448d-9584-919fb89d43f9",
   "metadata": {
    "jupyter": {
     "source_hidden": true
    },
    "tags": []
   },
   "outputs": [],
   "source": [
    "import torch.nn as nn\n",
    "from torch.nn.functional import gelu\n",
    "from torch.nn import ModuleList\n",
    "\n",
    "class PreTrainer(nn.Module):\n",
    "    \n",
    "    def __init__(self, conf, dtype=torch.float32):\n",
    "        super().__init__()\n",
    "        \n",
    "        self.cond_transformer = ConditioningTransformerLayer(\n",
    "                                            no_jets = conf.input_shape.number_jets,\n",
    "                                            jets_features=conf.input_shape.jets_features, \n",
    "                                            no_lept = conf.input_shape.number_lept,\n",
    "                                            lepton_features=conf.input_shape.lepton_features, \n",
    "                                            hidden_features=conf.conditioning_transformer.hidden_features,\n",
    "                                            out_features=conf.conditioning_transformer.out_features,\n",
    "                                            nhead=conf.conditioning_transformer.nhead,\n",
    "                                            no_layers=conf.conditioning_transformer.no_layers,\n",
    "                                            dtype=torch.float64) \n",
    "        \n",
    "        hidden_dim = conf.pretrainer_regression.hidden_layers \n",
    "        hidden_dim.append(4) # the output\n",
    "        \n",
    "        self.H_out = ModuleList([nn.Linear(in_features=conf.conditioning_transformer.out_features,\n",
    "                              out_features=hidden_dim[0], dtype=dtype)])\n",
    "        \n",
    "        self.Thad_out =  ModuleList([nn.Linear(in_features=conf.conditioning_transformer.out_features,\n",
    "                              out_features=hidden_dim[0], dtype=dtype)])\n",
    "        \n",
    "        self.Tlep_out =  ModuleList([nn.Linear(in_features=conf.conditioning_transformer.out_features,\n",
    "                              out_features=hidden_dim[0], dtype=dtype)])\n",
    "        \n",
    "        \n",
    "        for i in range(len(hidden_dim)-1):\n",
    "            self.H_out.append(nn.Linear(in_features=hidden_dim[i],\n",
    "                                       out_features=hidden_dim[i+1], dtype=dtype))\n",
    "            self.Thad_out.append(nn.Linear(in_features=hidden_dim[i],\n",
    "                                       out_features=hidden_dim[i+1], dtype=dtype))\n",
    "            self.Tlep_out.append(nn.Linear(in_features=hidden_dim[i],\n",
    "                                       out_features=hidden_dim[i+1], dtype=dtype))\n",
    "        \n",
    "    \n",
    "    def forward(self, x):\n",
    "        (mask_partons, data_partons, \n",
    "            mask_lepton_partons, data_lepton_partons,\n",
    "            mask_boost, data_boost, \n",
    "            data_httg, data_httg_cartesian, \n",
    "            ps, ps_detjac, \n",
    "            mask_lepton_reco, data_lepton_reco, \n",
    "            mask_jets, data_jets, \n",
    "            mask_met, data_met, \n",
    "            mask_boost_reco, data_boost_reco) = x\n",
    "        \n",
    "        out_cond = self.cond_transformer(data_jets,\n",
    "                    data_lepton_reco,\n",
    "                    data_met,\n",
    "                    data_boost_reco, \n",
    "                    mask_jets, \n",
    "                    mask_lepton_reco, \n",
    "                    mask_met, \n",
    "                    mask_boost_reco)\n",
    "\n",
    "        hout = out_cond\n",
    "        for mod in self.H_out[:-1]:\n",
    "            hout = gelu(mod(hout))\n",
    "        hout = self.H_out[-1](hout)\n",
    "        \n",
    "        tlepout = out_cond\n",
    "        for mod in self.Tlep_out[:-1]:\n",
    "            tlepout = gelu(mod(tlepout))\n",
    "        tlepout = self.Tlep_out[-1](tlepout)\n",
    "        \n",
    "        thadout = out_cond \n",
    "        for mod in self.Thad_out[:-1]:\n",
    "            thadout = gelu(mod(thadout))\n",
    "        thadout = self.Thad_out[-1](thadout)\n",
    "        \n",
    "        return out_cond, hout, tlepout, thadout"
   ]
  },
  {
   "cell_type": "code",
   "execution_count": 43,
   "id": "65e4fd60-f9dc-49cc-af79-d5c01c0ea70e",
   "metadata": {},
   "outputs": [],
   "source": [
    "(mask_partons, data_partons, \n",
    "            mask_lepton_partons, data_lepton_partons,\n",
    "            mask_boost, data_boost, \n",
    " \n",
    "            data_httg, data_httg_cartesian, \n",
    "            ps, ps_detjac, \n",
    "            mask_lepton_reco, data_lepton_reco, \n",
    "            mask_jets, data_jets, \n",
    "            mask_met, data_met, \n",
    "            mask_boost_reco, data_boost_reco,\n",
    "recoParticles, recoParticlesScaled) = next(iter(train_loader))"
   ]
  },
  {
   "cell_type": "code",
   "execution_count": 44,
   "id": "66743d02-4b85-4b56-9edd-98d34aaba049",
   "metadata": {},
   "outputs": [],
   "source": [
    "model = ConditioningTransformerLayer(no_jets = conf.input_shape.number_jets,\n",
    "                                    jets_features=conf.input_shape.jets_features, \n",
    "                                    no_lept = conf.input_shape.number_lept,\n",
    "                                    lepton_features=conf.input_shape.lepton_features, \n",
    "                                    hidden_features=conf.conditioning_transformer.hidden_features,\n",
    "                                    dim_feedforward_transformer= conf.conditioning_transformer.dim_feedforward_transformer,\n",
    "                                    out_features=conf.conditioning_transformer.out_features,\n",
    "                                    nhead_encoder=conf.conditioning_transformer.nhead_encoder,\n",
    "                                    no_layers_encoder=conf.conditioning_transformer.no_layers_encoder,\n",
    "                                    nhead_decoder=conf.conditioning_transformer.nhead_decoder,\n",
    "                                    no_layers_decoder=conf.conditioning_transformer.no_layers_decoder,\n",
    "                                     no_decoders=conf.conditioning_transformer.no_decoders,\n",
    "                                     aggregate=conf.conditioning_transformer.aggregate,\n",
    "                                    dtype=torch.float64).cuda()"
   ]
  },
  {
   "cell_type": "code",
   "execution_count": 45,
   "id": "aaaae4aa-bd2f-4deb-95f7-dbd3d2e350d4",
   "metadata": {},
   "outputs": [],
   "source": [
    "out = model(data_jets, data_lepton_reco, data_met, data_boost_reco, mask_jets, mask_lepton_reco, mask_met, mask_boost_reco)"
   ]
  },
  {
   "cell_type": "code",
   "execution_count": 46,
   "id": "3b34aeb3-297d-44e9-849e-c34d221472fc",
   "metadata": {},
   "outputs": [
    {
     "data": {
      "text/plain": [
       "torch.Size([1024, 4])"
      ]
     },
     "execution_count": 46,
     "metadata": {},
     "output_type": "execute_result"
    }
   ],
   "source": [
    "out[0].shape"
   ]
  },
  {
   "cell_type": "code",
   "execution_count": 47,
   "id": "125799c4-7227-45a5-b6c5-31edaf1a0345",
   "metadata": {},
   "outputs": [
    {
     "name": "stdout",
     "output_type": "stream",
     "text": [
      "parameters total:226969\n"
     ]
    }
   ],
   "source": [
    "\n",
    "\n",
    "nepochs = conf.training_params.nepochs\n",
    "lr_init = conf.training_params.lr\n",
    "version = conf.version\n",
    "\n",
    "name_dir = f'runs/{conf.name}_{conf.version}'\n",
    "writer = SummaryWriter(name_dir)\n",
    "\n",
    "loss_fn = torch.nn.MSELoss()\n",
    "#scaler = torch.cuda.amp.GradScaler()\n",
    "\n",
    "optimizer = optim.Adam(list(model.parameters()) , lr=lr_init)\n",
    "\n",
    "# decay = 0.0001\n",
    "# fcn = lambda step: 1./(1. + decay*step)\n",
    "# scheduler = torch.optim.lr_scheduler.LambdaLR(optimizer, lr_lambda=fcn)\n",
    "\n",
    "#print(f\"parameters flow:{count_parameters(model.flow)}, parameters conditioner: {count_parameters(model.cond_transformer_lambda)}\")\n",
    "print(f\"parameters total:{count_parameters(model)}\")"
   ]
  },
  {
   "cell_type": "code",
   "execution_count": 48,
   "id": "3a24dfeb-d6b6-4645-93c8-b9879759d307",
   "metadata": {
    "tags": []
   },
   "outputs": [
    {
     "name": "stdout",
     "output_type": "stream",
     "text": [
      "Training steps: 489, Validation steps: 69\n",
      "Before training loop\n",
      "0\n",
      "10\n",
      "20\n",
      "30\n",
      "40\n",
      "50\n",
      "60\n",
      "70\n",
      "80\n",
      "90\n",
      "100\n",
      "110\n",
      "120\n",
      "130\n",
      "140\n",
      "150\n",
      "160\n",
      "170\n",
      "180\n",
      "190\n",
      "200\n",
      "210\n",
      "220\n",
      "230\n",
      "240\n",
      "250\n",
      "260\n",
      "270\n",
      "280\n",
      "290\n",
      "300\n",
      "310\n",
      "320\n",
      "330\n",
      "340\n",
      "350\n",
      "360\n",
      "370\n",
      "380\n",
      "390\n",
      "400\n",
      "410\n",
      "420\n",
      "430\n",
      "440\n",
      "450\n",
      "460\n",
      "470\n",
      "480\n",
      "Before validation loop\n",
      "Before training loop\n",
      "0\n",
      "10\n",
      "20\n",
      "30\n",
      "40\n",
      "50\n",
      "60\n",
      "70\n",
      "80\n",
      "90\n",
      "100\n",
      "110\n",
      "120\n",
      "130\n",
      "140\n",
      "150\n",
      "160\n",
      "170\n",
      "180\n",
      "190\n",
      "200\n",
      "210\n",
      "220\n",
      "230\n",
      "240\n",
      "250\n",
      "260\n",
      "270\n",
      "280\n",
      "290\n",
      "300\n",
      "310\n",
      "320\n",
      "330\n",
      "340\n",
      "350\n",
      "360\n",
      "370\n",
      "380\n",
      "390\n",
      "400\n",
      "410\n",
      "420\n",
      "430\n",
      "440\n",
      "450\n",
      "460\n",
      "470\n",
      "480\n",
      "Before validation loop\n",
      "Before training loop\n",
      "0\n",
      "10\n",
      "20\n",
      "30\n",
      "40\n",
      "50\n",
      "60\n",
      "70\n",
      "80\n",
      "90\n",
      "100\n",
      "110\n",
      "120\n",
      "130\n",
      "140\n",
      "150\n",
      "160\n",
      "170\n",
      "180\n",
      "190\n",
      "200\n",
      "210\n",
      "220\n",
      "230\n",
      "240\n",
      "250\n",
      "260\n",
      "270\n",
      "280\n",
      "290\n",
      "300\n",
      "310\n",
      "320\n",
      "330\n",
      "340\n",
      "350\n",
      "360\n",
      "370\n",
      "380\n",
      "390\n",
      "400\n",
      "410\n",
      "420\n",
      "430\n",
      "440\n",
      "450\n",
      "460\n",
      "470\n",
      "480\n",
      "Before validation loop\n",
      "Before training loop\n",
      "0\n",
      "10\n",
      "20\n",
      "30\n",
      "40\n",
      "50\n",
      "60\n",
      "70\n",
      "80\n",
      "90\n",
      "100\n",
      "110\n",
      "120\n",
      "130\n",
      "140\n",
      "150\n",
      "160\n",
      "170\n",
      "180\n",
      "190\n",
      "200\n",
      "210\n",
      "220\n",
      "230\n",
      "240\n",
      "250\n",
      "260\n",
      "270\n",
      "280\n",
      "290\n",
      "300\n",
      "310\n",
      "320\n",
      "330\n",
      "340\n",
      "350\n",
      "360\n",
      "370\n",
      "380\n",
      "390\n",
      "400\n",
      "410\n",
      "420\n",
      "430\n",
      "440\n",
      "450\n",
      "460\n",
      "470\n",
      "480\n",
      "Before validation loop\n",
      "Before training loop\n",
      "0\n",
      "10\n",
      "20\n",
      "30\n",
      "40\n",
      "50\n",
      "60\n",
      "70\n",
      "80\n",
      "90\n",
      "100\n",
      "110\n",
      "120\n",
      "130\n",
      "140\n",
      "150\n",
      "160\n",
      "170\n",
      "180\n",
      "190\n",
      "200\n",
      "210\n",
      "220\n",
      "230\n",
      "240\n",
      "250\n",
      "260\n",
      "270\n",
      "280\n",
      "290\n",
      "300\n",
      "310\n",
      "320\n",
      "330\n",
      "340\n",
      "350\n",
      "360\n",
      "370\n",
      "380\n",
      "390\n",
      "400\n",
      "410\n",
      "420\n",
      "430\n",
      "440\n",
      "450\n",
      "460\n",
      "470\n",
      "480\n",
      "Before validation loop\n",
      "Before training loop\n",
      "0\n",
      "10\n",
      "20\n",
      "30\n",
      "40\n",
      "50\n",
      "60\n",
      "70\n",
      "80\n",
      "90\n",
      "100\n",
      "110\n",
      "120\n",
      "130\n",
      "140\n",
      "150\n",
      "160\n",
      "170\n",
      "180\n",
      "190\n",
      "200\n",
      "210\n",
      "220\n",
      "230\n",
      "240\n",
      "250\n",
      "260\n",
      "270\n",
      "280\n",
      "290\n",
      "300\n",
      "310\n",
      "320\n",
      "330\n",
      "340\n",
      "350\n",
      "360\n",
      "370\n",
      "380\n",
      "390\n",
      "400\n",
      "410\n",
      "420\n",
      "430\n",
      "440\n",
      "450\n",
      "460\n",
      "470\n",
      "480\n",
      "Before validation loop\n",
      "Before training loop\n",
      "0\n",
      "10\n",
      "20\n",
      "30\n",
      "40\n",
      "50\n",
      "60\n",
      "70\n",
      "80\n",
      "90\n",
      "100\n",
      "110\n",
      "120\n",
      "130\n",
      "140\n",
      "150\n",
      "160\n",
      "170\n",
      "180\n",
      "190\n",
      "200\n",
      "210\n",
      "220\n",
      "230\n",
      "240\n",
      "250\n",
      "260\n",
      "270\n",
      "280\n",
      "290\n",
      "300\n",
      "310\n",
      "320\n",
      "330\n",
      "340\n",
      "350\n",
      "360\n",
      "370\n",
      "380\n",
      "390\n",
      "400\n",
      "410\n",
      "420\n",
      "430\n",
      "440\n",
      "450\n",
      "460\n",
      "470\n",
      "480\n",
      "Before validation loop\n",
      "Before training loop\n",
      "0\n",
      "10\n",
      "20\n",
      "30\n",
      "40\n",
      "50\n",
      "60\n",
      "70\n",
      "80\n",
      "90\n",
      "100\n",
      "110\n",
      "120\n",
      "130\n",
      "140\n",
      "150\n",
      "160\n",
      "170\n",
      "180\n",
      "190\n",
      "200\n",
      "210\n",
      "220\n",
      "230\n",
      "240\n",
      "250\n",
      "260\n",
      "270\n",
      "280\n",
      "290\n",
      "300\n",
      "310\n",
      "320\n",
      "330\n",
      "340\n",
      "350\n",
      "360\n",
      "370\n",
      "380\n",
      "390\n",
      "400\n",
      "410\n",
      "420\n",
      "430\n",
      "440\n",
      "450\n",
      "460\n",
      "470\n",
      "480\n",
      "Before validation loop\n",
      "Before training loop\n",
      "0\n",
      "10\n",
      "20\n",
      "30\n",
      "40\n",
      "50\n",
      "60\n",
      "70\n",
      "80\n",
      "90\n",
      "100\n",
      "110\n",
      "120\n",
      "130\n",
      "140\n",
      "150\n",
      "160\n",
      "170\n",
      "180\n",
      "190\n",
      "200\n",
      "210\n",
      "220\n",
      "230\n",
      "240\n",
      "250\n",
      "260\n",
      "270\n",
      "280\n",
      "290\n",
      "300\n",
      "310\n",
      "320\n",
      "330\n",
      "340\n",
      "350\n",
      "360\n",
      "370\n",
      "380\n",
      "390\n",
      "400\n",
      "410\n",
      "420\n",
      "430\n",
      "440\n",
      "450\n",
      "460\n",
      "470\n",
      "480\n",
      "Before validation loop\n",
      "Before training loop\n",
      "0\n",
      "10\n",
      "20\n",
      "30\n",
      "40\n",
      "50\n",
      "60\n",
      "70\n",
      "80\n",
      "90\n",
      "100\n",
      "110\n",
      "120\n",
      "130\n",
      "140\n",
      "150\n",
      "160\n",
      "170\n",
      "180\n",
      "190\n",
      "200\n",
      "210\n",
      "220\n",
      "230\n",
      "240\n",
      "250\n",
      "260\n",
      "270\n",
      "280\n",
      "290\n",
      "300\n",
      "310\n",
      "320\n",
      "330\n",
      "340\n",
      "350\n",
      "360\n",
      "370\n",
      "380\n",
      "390\n",
      "400\n",
      "410\n",
      "420\n",
      "430\n",
      "440\n",
      "450\n",
      "460\n",
      "470\n",
      "480\n",
      "Before validation loop\n"
     ]
    }
   ],
   "source": [
    "N_train = len(train_loader)\n",
    "N_valid = len(val_loader)\n",
    "print(f\"Training steps: {N_train}, Validation steps: {N_valid}\")\n",
    "\n",
    "ii = 0\n",
    "for e in range(nepochs):\n",
    "    \n",
    "    sum_loss = 0.\n",
    "    \n",
    "    print(\"Before training loop\")\n",
    "    for i, data in enumerate(train_loader):\n",
    "        ii += 1\n",
    "        if (i % 10 == 0):\n",
    "            print(i)\n",
    "      \n",
    "    \n",
    "        (mask_partons, data_partons, \n",
    "            mask_lepton_partons, data_lepton_partons,\n",
    "            mask_boost, data_boost, \n",
    "            data_httg, data_httg_cartesian, \n",
    "            ps, ps_detjac, \n",
    "            mask_lepton_reco, data_lepton_reco, \n",
    "            mask_jets, data_jets, \n",
    "            mask_met, data_met, \n",
    "            mask_boost_reco, data_boost_reco,\n",
    "        recoParticles, recoParticlesScaled) = data \n",
    "        \n",
    "        optimizer.zero_grad()\n",
    "        \n",
    "        out = model(data_jets, data_lepton_reco, data_met, \n",
    "                    data_boost_reco, mask_jets, mask_lepton_reco, mask_met, mask_boost_reco)\n",
    "        \n",
    "        #out_cond, h_out, tlep_out, thad_out = model(data)\n",
    "        \n",
    "        target = data[7]\n",
    "        \n",
    "        lossH = loss_fn(target[:,0], out[0])\n",
    "        lossThad =  loss_fn(target[:,1], out[1])\n",
    "        lossTlep =  loss_fn(target[:,2], out[2])\n",
    "        writer.add_scalar('loss_H', lossH.item(), ii)\n",
    "        writer.add_scalar('loss_Thad', lossThad.item(), ii)\n",
    "        writer.add_scalar('loss_Tlep', lossTlep.item(), ii)\n",
    "        \n",
    "\n",
    "        loss = lossH + lossThad + lossTlep\n",
    "        #print(loss.item())\n",
    "        \n",
    "#         scaler.scale(loss).backward()\n",
    "#         scaler.step(optimizer)\n",
    "#         scaler.update()\n",
    "        loss.backward()\n",
    "        optimizer.step()\n",
    "    \n",
    "        sum_loss += loss.item()\n",
    "        \n",
    "        writer.add_scalar(\"Loss_step_train\", loss.item(), ii)\n",
    "        #steps.set_description(f\"Step loss: {loss.item()}\")\n",
    "\n",
    "    writer.add_scalar('Loss_epoch_train', sum_loss/N_train, e)\n",
    "    #epoch.set_description(sum_loss/N_train)\n",
    "    valid_loss = 0\n",
    "    valid_lossH = 0\n",
    "    valid_lossTlep = 0\n",
    "    valid_lossThad = 0\n",
    "    \n",
    "    # validation loop (don't update weights and gradients)\n",
    "    print(\"Before validation loop\")\n",
    "    for i, data in enumerate(val_loader):\n",
    "        \n",
    "        with torch.no_grad():\n",
    "            \n",
    "            (mask_partons, data_partons, \n",
    "            mask_lepton_partons, data_lepton_partons,\n",
    "            mask_boost, data_boost, \n",
    "            data_httg, data_httg_cartesian, \n",
    "            ps, ps_detjac, \n",
    "            mask_lepton_reco, data_lepton_reco, \n",
    "            mask_jets, data_jets, \n",
    "            mask_met, data_met, \n",
    "            mask_boost_reco, data_boost_reco,\n",
    "            recoParticles, recoParticlesScaled) = data \n",
    "        \n",
    "        \n",
    "            out = model(data_jets, data_lepton_reco, data_met, \n",
    "                    data_boost_reco, mask_jets, mask_lepton_reco, mask_met, mask_boost_reco)\n",
    "        \n",
    "\n",
    "            target = data[7]\n",
    "\n",
    "            lossH = loss_fn(target[:,0], out[0])\n",
    "            lossThad =  loss_fn(target[:,1], out[1])\n",
    "            lossTlep =  loss_fn(target[:,2], out[2])\n",
    "\n",
    "            loss = lossH + lossThad + lossTlep\n",
    "            valid_loss += loss.item()\n",
    "            valid_lossH += lossH.item()\n",
    "            valid_lossTlep += lossTlep.item()\n",
    "            valid_lossThad += lossThad.item()\n",
    "#         \n",
    "        \n",
    "    writer.add_scalar('Loss_epoch_val', valid_loss/N_valid, e)\n",
    "    writer.add_scalar('Loss_epoch_val_H', valid_lossH/N_valid, e)\n",
    "    writer.add_scalar('Loss_epoch_val_Tlep', valid_lossTlep/N_valid, e)\n",
    "    writer.add_scalar('Loss_epoch_val_Thad', valid_lossThad/N_valid, e)\n",
    "        \n",
    "    \n",
    "writer.close()"
   ]
  },
  {
   "cell_type": "code",
   "execution_count": 49,
   "id": "4e0c6618-cd4a-4dd3-a8d9-3d1187e0b8df",
   "metadata": {},
   "outputs": [
    {
     "ename": "NameError",
     "evalue": "name 'out_cond' is not defined",
     "output_type": "error",
     "traceback": [
      "\u001b[0;31m---------------------------------------------------------------------------\u001b[0m",
      "\u001b[0;31mNameError\u001b[0m                                 Traceback (most recent call last)",
      "\u001b[0;32m/tmp/adpetre/ipykernel_1468063/3649045473.py\u001b[0m in \u001b[0;36m<module>\u001b[0;34m\u001b[0m\n\u001b[0;32m----> 1\u001b[0;31m \u001b[0mplt\u001b[0m\u001b[0;34m.\u001b[0m\u001b[0mimshow\u001b[0m\u001b[0;34m(\u001b[0m\u001b[0mout_cond\u001b[0m\u001b[0;34m.\u001b[0m\u001b[0mcpu\u001b[0m\u001b[0;34m(\u001b[0m\u001b[0;34m)\u001b[0m\u001b[0;34m.\u001b[0m\u001b[0mdetach\u001b[0m\u001b[0;34m(\u001b[0m\u001b[0;34m)\u001b[0m\u001b[0;34m.\u001b[0m\u001b[0mnumpy\u001b[0m\u001b[0;34m(\u001b[0m\u001b[0;34m)\u001b[0m\u001b[0;34m.\u001b[0m\u001b[0mT\u001b[0m\u001b[0;34m[\u001b[0m\u001b[0;34m:\u001b[0m\u001b[0;34m,\u001b[0m \u001b[0;36m0\u001b[0m\u001b[0;34m:\u001b[0m\u001b[0;36m30\u001b[0m\u001b[0;34m]\u001b[0m\u001b[0;34m)\u001b[0m\u001b[0;34m\u001b[0m\u001b[0;34m\u001b[0m\u001b[0m\n\u001b[0m\u001b[1;32m      2\u001b[0m \u001b[0mplt\u001b[0m\u001b[0;34m.\u001b[0m\u001b[0mcolorbar\u001b[0m\u001b[0;34m(\u001b[0m\u001b[0;34m)\u001b[0m\u001b[0;34m\u001b[0m\u001b[0;34m\u001b[0m\u001b[0m\n",
      "\u001b[0;31mNameError\u001b[0m: name 'out_cond' is not defined"
     ]
    }
   ],
   "source": [
    "plt.imshow(out_cond.cpu().detach().numpy().T[:, 0:30])\n",
    "plt.colorbar()"
   ]
  },
  {
   "cell_type": "code",
   "execution_count": 55,
   "id": "1f3610a3-2e05-41f9-8dff-85e79f2ecb92",
   "metadata": {},
   "outputs": [
    {
     "data": {
      "text/plain": [
       "torch.Size([361, 4, 4])"
      ]
     },
     "execution_count": 55,
     "metadata": {},
     "output_type": "execute_result"
    }
   ],
   "source": [
    "target.shape"
   ]
  },
  {
   "cell_type": "code",
   "execution_count": 51,
   "id": "52b82b7e-b631-462e-bbca-7393a437a0d0",
   "metadata": {},
   "outputs": [
    {
     "ename": "NameError",
     "evalue": "name 'thad_out' is not defined",
     "output_type": "error",
     "traceback": [
      "\u001b[0;31m---------------------------------------------------------------------------\u001b[0m",
      "\u001b[0;31mNameError\u001b[0m                                 Traceback (most recent call last)",
      "\u001b[0;32m/tmp/adpetre/ipykernel_1468063/3549959448.py\u001b[0m in \u001b[0;36m<module>\u001b[0;34m\u001b[0m\n\u001b[0;32m----> 1\u001b[0;31m \u001b[0mplt\u001b[0m\u001b[0;34m.\u001b[0m\u001b[0mhist2d\u001b[0m\u001b[0;34m(\u001b[0m\u001b[0mthad_out\u001b[0m\u001b[0;34m[\u001b[0m\u001b[0;34m:\u001b[0m\u001b[0;34m,\u001b[0m\u001b[0;36m0\u001b[0m\u001b[0;34m]\u001b[0m\u001b[0;34m.\u001b[0m\u001b[0mcpu\u001b[0m\u001b[0;34m(\u001b[0m\u001b[0;34m)\u001b[0m\u001b[0;34m.\u001b[0m\u001b[0mdetach\u001b[0m\u001b[0;34m(\u001b[0m\u001b[0;34m)\u001b[0m\u001b[0;34m.\u001b[0m\u001b[0mnumpy\u001b[0m\u001b[0;34m(\u001b[0m\u001b[0;34m)\u001b[0m\u001b[0;34m,\u001b[0m \u001b[0mtarget\u001b[0m\u001b[0;34m[\u001b[0m\u001b[0;34m:\u001b[0m\u001b[0;34m,\u001b[0m\u001b[0;36m2\u001b[0m\u001b[0;34m,\u001b[0m\u001b[0;36m0\u001b[0m\u001b[0;34m]\u001b[0m\u001b[0;34m.\u001b[0m\u001b[0mdetach\u001b[0m\u001b[0;34m(\u001b[0m\u001b[0;34m)\u001b[0m\u001b[0;34m.\u001b[0m\u001b[0mcpu\u001b[0m\u001b[0;34m(\u001b[0m\u001b[0;34m)\u001b[0m\u001b[0;34m.\u001b[0m\u001b[0mnumpy\u001b[0m\u001b[0;34m(\u001b[0m\u001b[0;34m)\u001b[0m\u001b[0;34m,\u001b[0m \u001b[0mbins\u001b[0m\u001b[0;34m=\u001b[0m\u001b[0;36m100\u001b[0m\u001b[0;34m)\u001b[0m\u001b[0;34m;\u001b[0m\u001b[0;34m\u001b[0m\u001b[0;34m\u001b[0m\u001b[0m\n\u001b[0m",
      "\u001b[0;31mNameError\u001b[0m: name 'thad_out' is not defined"
     ]
    }
   ],
   "source": [
    "plt.hist2d(thad_out[:,0].cpu().detach().numpy(), target[:,2,0].detach().cpu().numpy(), bins=100);"
   ]
  },
  {
   "cell_type": "code",
   "execution_count": 48,
   "id": "d6024885-5853-43a8-8bf0-5ff9b2927338",
   "metadata": {},
   "outputs": [
    {
     "data": {
      "image/png": "[encoded data removed]",
      "text/plain": [
       "<Figure size 432x288 with 1 Axes>"
      ]
     },
     "metadata": {
      "needs_background": "light"
     },
     "output_type": "display_data"
    }
   ],
   "source": [
    "plt.hist2d(h_out[:,0].cpu().detach().numpy(), target[:,0,0].detach().cpu().numpy(), bins=100);"
   ]
  },
  {
   "cell_type": "code",
   "execution_count": 49,
   "id": "ddf91ab4-0e25-4087-8f1d-f0a35862077e",
   "metadata": {},
   "outputs": [
    {
     "data": {
      "image/png": "[encoded data removed]",
      "text/plain": [
       "<Figure size 432x288 with 1 Axes>"
      ]
     },
     "metadata": {
      "needs_background": "light"
     },
     "output_type": "display_data"
    }
   ],
   "source": [
    "plt.hist2d(h_out[:,1].cpu().detach().numpy(), target[:,0,1].detach().cpu().numpy(), bins=100);"
   ]
  },
  {
   "cell_type": "code",
   "execution_count": 50,
   "id": "d38c72bb-9994-4a6a-a835-01fa0c797a73",
   "metadata": {},
   "outputs": [
    {
     "data": {
      "image/png": "[encoded data removed]",
      "text/plain": [
       "<Figure size 432x288 with 1 Axes>"
      ]
     },
     "metadata": {
      "needs_background": "light"
     },
     "output_type": "display_data"
    }
   ],
   "source": [
    "plt.hist2d(h_out[:,2].cpu().detach().numpy(), target[:,0,2].detach().cpu().numpy(), bins=100);"
   ]
  },
  {
   "cell_type": "code",
   "execution_count": 51,
   "id": "b0cafa43-48e7-40f2-a8ec-8d16bb94f95f",
   "metadata": {},
   "outputs": [
    {
     "data": {
      "image/png": "[encoded data removed]",
      "text/plain": [
       "<Figure size 432x288 with 1 Axes>"
      ]
     },
     "metadata": {
      "needs_background": "light"
     },
     "output_type": "display_data"
    }
   ],
   "source": [
    "plt.hist2d(h_out[:,3].cpu().detach().numpy(), target[:,0,3].detach().cpu().numpy(), bins=100);"
   ]
  },
  {
   "cell_type": "code",
   "execution_count": 52,
   "id": "d63b7cf7-a4c6-4cee-89bd-00ee1c7fe0b3",
   "metadata": {},
   "outputs": [
    {
     "ename": "NameError",
     "evalue": "name 'out_cond' is not defined",
     "output_type": "error",
     "traceback": [
      "\u001b[0;31m---------------------------------------------------------------------------\u001b[0m",
      "\u001b[0;31mNameError\u001b[0m                                 Traceback (most recent call last)",
      "\u001b[0;32m/tmp/adpetre/ipykernel_1468063/720595076.py\u001b[0m in \u001b[0;36m<module>\u001b[0;34m\u001b[0m\n\u001b[0;32m----> 1\u001b[0;31m \u001b[0mout_cond\u001b[0m\u001b[0;34m,\u001b[0m \u001b[0mh_out\u001b[0m\u001b[0;34m,\u001b[0m \u001b[0mtlep_out\u001b[0m\u001b[0;34m,\u001b[0m\u001b[0;34m\u001b[0m\u001b[0;34m\u001b[0m\u001b[0m\n\u001b[0m",
      "\u001b[0;31mNameError\u001b[0m: name 'out_cond' is not defined"
     ]
    }
   ],
   "source": [
    "out_cond, h_out, tlep_out, "
   ]
  },
  {
   "cell_type": "code",
   "execution_count": 53,
   "id": "182fa0f5-14e1-4578-b18c-d4c19d50bddc",
   "metadata": {},
   "outputs": [
    {
     "ename": "AttributeError",
     "evalue": "'list' object has no attribute 'shape'",
     "output_type": "error",
     "traceback": [
      "\u001b[0;31m---------------------------------------------------------------------------\u001b[0m",
      "\u001b[0;31mAttributeError\u001b[0m                            Traceback (most recent call last)",
      "\u001b[0;32m/tmp/adpetre/ipykernel_1468063/1319354348.py\u001b[0m in \u001b[0;36m<module>\u001b[0;34m\u001b[0m\n\u001b[0;32m----> 1\u001b[0;31m \u001b[0mout\u001b[0m\u001b[0;34m.\u001b[0m\u001b[0mshape\u001b[0m\u001b[0;34m\u001b[0m\u001b[0;34m\u001b[0m\u001b[0m\n\u001b[0m",
      "\u001b[0;31mAttributeError\u001b[0m: 'list' object has no attribute 'shape'"
     ]
    }
   ],
   "source": [
    "out.shape"
   ]
  },
  {
   "cell_type": "code",
   "execution_count": 54,
   "id": "5cfb2d73-4afc-41af-b741-ae74cec46f4b",
   "metadata": {},
   "outputs": [
    {
     "ename": "NameError",
     "evalue": "name 'ptrainer' is not defined",
     "output_type": "error",
     "traceback": [
      "\u001b[0;31m---------------------------------------------------------------------------\u001b[0m",
      "\u001b[0;31mNameError\u001b[0m                                 Traceback (most recent call last)",
      "\u001b[0;32m/tmp/adpetre/ipykernel_1468063/535157003.py\u001b[0m in \u001b[0;36m<module>\u001b[0;34m\u001b[0m\n\u001b[0;32m----> 1\u001b[0;31m \u001b[0mout_pret\u001b[0m \u001b[0;34m=\u001b[0m \u001b[0mptrainer\u001b[0m\u001b[0;34m(\u001b[0m\u001b[0mout\u001b[0m\u001b[0;34m)\u001b[0m\u001b[0;34m\u001b[0m\u001b[0;34m\u001b[0m\u001b[0m\n\u001b[0m",
      "\u001b[0;31mNameError\u001b[0m: name 'ptrainer' is not defined"
     ]
    }
   ],
   "source": [
    "out_pret = ptrainer(out)"
   ]
  },
  {
   "cell_type": "code",
   "execution_count": 81,
   "id": "99436a7d-a320-4a96-8118-91bbae89f757",
   "metadata": {},
   "outputs": [],
   "source": [
    "loss = torch.nn.MSELoss()"
   ]
  },
  {
   "cell_type": "code",
   "execution_count": 82,
   "id": "fbd28398-5c30-4766-ae34-cab84141c690",
   "metadata": {},
   "outputs": [
    {
     "data": {
      "text/plain": [
       "tensor(27682.3068, grad_fn=<MseLossBackward0>)"
      ]
     },
     "execution_count": 82,
     "metadata": {},
     "output_type": "execute_result"
    }
   ],
   "source": [
    "loss(out_pret[0] , data_httg_cartesian[:,0])"
   ]
  },
  {
   "cell_type": "code",
   "execution_count": 83,
   "id": "02a015e8-c8c5-4904-bf4d-148410abace8",
   "metadata": {},
   "outputs": [
    {
     "data": {
      "text/plain": [
       "tensor(57334.8288, grad_fn=<MseLossBackward0>)"
      ]
     },
     "execution_count": 83,
     "metadata": {},
     "output_type": "execute_result"
    }
   ],
   "source": [
    "loss(out_pret[1] , data_httg_cartesian[:,1])"
   ]
  },
  {
   "cell_type": "code",
   "execution_count": 40,
   "id": "e33b8804-3269-4eff-8f33-fe4bab8fe03e",
   "metadata": {},
   "outputs": [
    {
     "data": {
      "text/plain": [
       "(array([5.000e+00, 7.000e+00, 1.800e+01, 3.000e+01, 6.300e+01, 1.070e+02,\n",
       "        1.380e+02, 1.940e+02, 2.290e+02, 2.950e+02, 3.190e+02, 3.780e+02,\n",
       "        3.180e+02, 3.820e+02, 3.300e+02, 3.270e+02, 3.140e+02, 2.960e+02,\n",
       "        3.060e+02, 4.400e+02, 5.090e+02, 6.790e+02, 7.180e+02, 7.390e+02,\n",
       "        7.150e+02, 7.190e+02, 6.610e+02, 6.330e+02, 7.100e+02, 7.090e+02,\n",
       "        7.090e+02, 7.900e+02, 8.700e+02, 8.340e+02, 9.090e+02, 9.350e+02,\n",
       "        9.620e+02, 9.520e+02, 9.620e+02, 1.006e+03, 1.055e+03, 1.074e+03,\n",
       "        1.054e+03, 1.156e+03, 1.207e+03, 1.191e+03, 1.327e+03, 1.316e+03,\n",
       "        1.322e+03, 2.503e+03, 2.872e+03, 2.159e+03, 1.763e+03, 1.570e+03,\n",
       "        1.458e+03, 1.362e+03, 1.329e+03, 1.330e+03, 1.251e+03, 1.232e+03,\n",
       "        1.163e+03, 1.217e+03, 1.269e+03, 1.258e+03, 1.214e+03, 1.256e+03,\n",
       "        1.185e+03, 1.093e+03, 1.079e+03, 9.820e+02, 9.150e+02, 8.270e+02,\n",
       "        7.550e+02, 6.280e+02, 5.610e+02, 5.500e+02, 4.620e+02, 4.380e+02,\n",
       "        3.450e+02, 3.360e+02, 3.300e+02, 2.650e+02, 2.880e+02, 2.350e+02,\n",
       "        1.940e+02, 2.000e+02, 1.730e+02, 1.410e+02, 1.380e+02, 1.100e+02,\n",
       "        7.500e+01, 7.100e+01, 5.600e+01, 2.700e+01, 2.400e+01, 1.200e+01,\n",
       "        4.000e+00, 4.000e+00, 1.000e+00, 3.000e+00]),\n",
       " array([-2.20296388, -2.15806067, -2.11315747, -2.06825426, -2.02335105,\n",
       "        -1.97844785, -1.93354464, -1.88864143, -1.84373822, -1.79883502,\n",
       "        -1.75393181, -1.7090286 , -1.66412539, -1.61922219, -1.57431898,\n",
       "        -1.52941577, -1.48451256, -1.43960936, -1.39470615, -1.34980294,\n",
       "        -1.30489973, -1.25999653, -1.21509332, -1.17019011, -1.1252869 ,\n",
       "        -1.0803837 , -1.03548049, -0.99057728, -0.94567408, -0.90077087,\n",
       "        -0.85586766, -0.81096445, -0.76606125, -0.72115804, -0.67625483,\n",
       "        -0.63135162, -0.58644842, -0.54154521, -0.496642  , -0.45173879,\n",
       "        -0.40683559, -0.36193238, -0.31702917, -0.27212596, -0.22722276,\n",
       "        -0.18231955, -0.13741634, -0.09251313, -0.04760993, -0.00270672,\n",
       "         0.04219649,  0.08709969,  0.1320029 ,  0.17690611,  0.22180932,\n",
       "         0.26671252,  0.31161573,  0.35651894,  0.40142215,  0.44632535,\n",
       "         0.49122856,  0.53613177,  0.58103498,  0.62593818,  0.67084139,\n",
       "         0.7157446 ,  0.76064781,  0.80555101,  0.85045422,  0.89535743,\n",
       "         0.94026064,  0.98516384,  1.03006705,  1.07497026,  1.11987346,\n",
       "         1.16477667,  1.20967988,  1.25458309,  1.29948629,  1.3443895 ,\n",
       "         1.38929271,  1.43419592,  1.47909912,  1.52400233,  1.56890554,\n",
       "         1.61380875,  1.65871195,  1.70361516,  1.74851837,  1.79342158,\n",
       "         1.83832478,  1.88322799,  1.9281312 ,  1.97303441,  2.01793761,\n",
       "         2.06284082,  2.10774403,  2.15264723,  2.19755044,  2.24245365,\n",
       "         2.28735686]),\n",
       " <BarContainer object of 100 artists>)"
      ]
     },
     "execution_count": 40,
     "metadata": {},
     "output_type": "execute_result"
    },
    {
     "data": {
      "image/png": "[encoded data removed]",
      "text/plain": [
       "<Figure size 432x288 with 1 Axes>"
      ]
     },
     "metadata": {
      "needs_background": "light"
     },
     "output_type": "display_data"
    }
   ],
   "source": [
    "plt.hist(out.detach().flatten().numpy(), bins=100)"
   ]
  },
  {
   "cell_type": "markdown",
   "id": "f767cafe",
   "metadata": {},
   "source": [
    "# TEST scaled tensor"
   ]
  },
  {
   "cell_type": "code",
   "execution_count": 4,
   "id": "a74eb52b-29a1-44bf-a75f-f444da624719",
   "metadata": {},
   "outputs": [
    {
     "name": "stdout",
     "output_type": "stream",
     "text": [
      "(569993, 17, 4)\n",
      "(569993, 17)\n",
      "[-46.32181931  49.09199905   2.31276512  25.29977226  24.92102814\n",
      "   0.           0.           0.           0.           0.\n",
      "   0.           0.           0.           0.           0.\n",
      " -43.54915619 -11.75458813]\n",
      "9.5367431640625e-07\n",
      "1.9073486328125e-06\n",
      "-3.814697265625e-06\n"
     ]
    }
   ],
   "source": [
    "reco = data_cuda.reco_data.recoParticlesCartesian\n",
    "mask1 = data_cuda.reco_data.mask_jets\n",
    "mask2 = data_cuda.reco_data.mask_lepton\n",
    "mask3 = data_cuda.reco_data.mask_met\n",
    "recoMask = torch.cat((mask1, mask2, mask3), 1)\n",
    "\n",
    "recoCPU = reco.detach().cpu()\n",
    "recoMask = recoMask.detach().cpu()\n",
    "\n",
    "recoCPU = recoCPU.numpy()\n",
    "recoMask = recoMask.numpy()\n",
    "print(recoCPU.shape)\n",
    "print(recoMask.shape)\n",
    "\n",
    "print(recoCPU[0,:,1])\n",
    "print(np.sum(recoCPU[0,:,1])) # sum of px should be 0\n",
    "print(np.sum(recoCPU[0,:,2])) # sum of py should be 0\n",
    "print(np.sum(recoCPU[0,:,3])) # sum of pz should be 0"
   ]
  },
  {
   "cell_type": "code",
   "execution_count": 5,
   "id": "5940bd01",
   "metadata": {},
   "outputs": [
    {
     "name": "stdout",
     "output_type": "stream",
     "text": [
      "(569993, 17, 4)\n"
     ]
    }
   ],
   "source": [
    "recoScaled = data_cuda.reco_data.recoParticlesScaled.detach().cpu()\n",
    "recoScaled = recoScaled.numpy()\n",
    "\n",
    "print(recoScaled.shape)"
   ]
  },
  {
   "cell_type": "code",
   "execution_count": 6,
   "id": "2adce847",
   "metadata": {},
   "outputs": [
    {
     "name": "stdout",
     "output_type": "stream",
     "text": [
      "MEAN: without mask: 54.43191750560927 vs using mask: 120.1568173113258\n",
      "STD: without mask: 89.53731027340402 vs using mask: 98.99412312359374\n",
      "Scaled data: mean: 3.34642771243937e-07 vs std: 0.9999999716689056\n"
     ]
    },
    {
     "data": {
      "image/png": "[encoded data removed]",
      "text/plain": [
       "<Figure size 432x288 with 1 Axes>"
      ]
     },
     "metadata": {
      "needs_background": "light"
     },
     "output_type": "display_data"
    },
    {
     "name": "stdout",
     "output_type": "stream",
     "text": [
      "MEAN: without mask: 4.9713345947339036e-08 vs using mask: 1.0974071281456491e-07\n",
      "STD: without mask: 54.6359336349384 vs using mask: 81.17564724583647\n",
      "Scaled data: mean: 1.3357032211782591e-09 vs std: 1.0000000409444296\n"
     ]
    },
    {
     "data": {
      "image/png": "[encoded data removed]",
      "text/plain": [
       "<Figure size 432x288 with 1 Axes>"
      ]
     },
     "metadata": {
      "needs_background": "light"
     },
     "output_type": "display_data"
    },
    {
     "name": "stdout",
     "output_type": "stream",
     "text": [
      "MEAN: without mask: -1.5161052665099865e-10 vs using mask: -3.34675668028793e-10\n",
      "STD: without mask: 54.58980579908197 vs using mask: 81.10711255295995\n",
      "Scaled data: mean: 1.3693164581022512e-11 vs std: 1.0000000428543705\n"
     ]
    },
    {
     "data": {
      "image/png": "[encoded data removed]",
      "text/plain": [
       "<Figure size 432x288 with 1 Axes>"
      ]
     },
     "metadata": {
      "needs_background": "light"
     },
     "output_type": "display_data"
    },
    {
     "name": "stdout",
     "output_type": "stream",
     "text": [
      "MEAN: without mask: 1.6528687500729146e-08 vs using mask: 3.648657948190863e-08\n",
      "STD: without mask: 70.81406239879482 vs using mask: 105.21239350897203\n",
      "Scaled data: mean: 3.4442398327115194e-10 vs std: 0.9999999885409464\n"
     ]
    },
    {
     "data": {
      "image/png": "[encoded data removed]",
      "text/plain": [
       "<Figure size 432x288 with 1 Axes>"
      ]
     },
     "metadata": {
      "needs_background": "light"
     },
     "output_type": "display_data"
    }
   ],
   "source": [
    "scaler = StandardScaler()\n",
    "\n",
    "for i in range(4):\n",
    "    \n",
    "    # version 1: get scaled tensor using masked numpy\n",
    "    # (same function is used inside Dataset_Reco_Level: processCartesianScaled)\n",
    "    feature = recoCPU[:,:,i]\n",
    "    feature_masked = np.ma.masked_array(feature, mask=np.logical_not(recoMask))\n",
    "    feature_maskedScaled = (feature_masked - feature_masked.mean())/feature_masked.std()\n",
    "    print(f\"MEAN: without mask: {feature.mean()} vs using mask: {feature_masked.mean()}\")\n",
    "    print(f\"STD: without mask: {feature.std()} vs using mask: {feature_masked.std()}\")\n",
    "    \n",
    "    # version 2: compute scaled tensor using scipy.StandardScaler\n",
    "    feature_norm = scaler.fit_transform(np.expand_dims(feature_masked.compressed(), 1))\n",
    "\n",
    "    # version 3: get scaled tensor from dataset\n",
    "    reco_f = recoScaled[:,:,i]\n",
    "    reco_masked = np.ma.masked_array(reco_f, mask=np.logical_not(recoMask))\n",
    "    print(f\"Scaled data: mean: {reco_masked.mean()} vs std: {reco_masked.std()}\")\n",
    "\n",
    "    plt.hist(feature_norm, bins = 100, range=(-5,5), label='x')\n",
    "    plt.hist(feature_maskedScaled.compressed(), bins=100, label='y')\n",
    "    plt.hist(reco_masked.compressed(), bins=100, label='z')\n",
    "    \n",
    "    plt.title(f\"Hist feature {i}\")\n",
    "    plt.legend(loc='upper right')\n",
    "    plt.show()"
   ]
  },
  {
   "cell_type": "markdown",
   "id": "5c287f81",
   "metadata": {},
   "source": [
    "# Test new"
   ]
  },
  {
   "cell_type": "code",
   "execution_count": 11,
   "id": "b534b609",
   "metadata": {},
   "outputs": [],
   "source": [
    "unscaledTensor = data_cuda.parton_data.log_data_higgs_t_tbar_ISR_cartesian.detach().cpu().numpy()\n",
    "scaledTensor = data_cuda.parton_data.logScaled_data_higgs_t_tbar_ISR_cartesian.detach().cpu().numpy()"
   ]
  },
  {
   "cell_type": "code",
   "execution_count": 20,
   "id": "559c6a40",
   "metadata": {},
   "outputs": [
    {
     "data": {
      "image/png": "[encoded data removed]",
      "text/plain": [
       "<Figure size 432x288 with 1 Axes>"
      ]
     },
     "metadata": {
      "needs_background": "light"
     },
     "output_type": "display_data"
    },
    {
     "data": {
      "image/png": "[encoded data removed]",
      "text/plain": [
       "<Figure size 432x288 with 1 Axes>"
      ]
     },
     "metadata": {
      "needs_background": "light"
     },
     "output_type": "display_data"
    },
    {
     "data": {
      "image/png": "[encoded data removed]",
      "text/plain": [
       "<Figure size 432x288 with 1 Axes>"
      ]
     },
     "metadata": {
      "needs_background": "light"
     },
     "output_type": "display_data"
    },
    {
     "data": {
      "image/png": "[encoded data removed]",
      "text/plain": [
       "<Figure size 432x288 with 1 Axes>"
      ]
     },
     "metadata": {
      "needs_background": "light"
     },
     "output_type": "display_data"
    }
   ],
   "source": [
    "for i in range(4):\n",
    "    plt.hist(unscaledTensor[:,:,i].flatten(), bins = 100, color = \"lightblue\", label='unscaled')\n",
    "    plt.hist(scaledTensor[:,:,i].flatten(), bins=100, color = \"red\", label='scaled')\n",
    "    plt.legend(loc='upper right')\n",
    "    plt.title(f\"Hist column{i}\")\n",
    "    plt.show()"
   ]
  },
  {
   "cell_type": "code",
   "execution_count": null,
   "id": "49403010",
   "metadata": {},
   "outputs": [],
   "source": []
  }
 ],
 "metadata": {
  "kernelspec": {
   "display_name": "myenv",
   "language": "python",
   "name": "myenv"
  },
  "language_info": {
   "codemirror_mode": {
    "name": "ipython",
    "version": 3
   },
   "file_extension": ".py",
   "mimetype": "text/x-python",
   "name": "python",
   "nbconvert_exporter": "python",
   "pygments_lexer": "ipython3",
   "version": "3.9.12"
  }
 },
 "nbformat": 4,
 "nbformat_minor": 5
}
