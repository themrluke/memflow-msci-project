{
 "cells": [
  {
   "cell_type": "code",
   "execution_count": 1,
   "id": "88794f21-b4c9-4c27-937b-945197af361d",
   "metadata": {},
   "outputs": [],
   "source": [
    "from torch.utils.data import DataLoader\n",
    "import torch.nn as nn\n",
    "import torch\n",
    "import numpy as np\n",
    "import matplotlib.pyplot as plt\n",
    "from matplotlib.colors import LogNorm\n",
    "import plot_loss\n",
    "from torch import optim\n",
    "from tqdm.notebook import trange\n",
    "\n",
    "from memflow.read_data.dataset_all import DatasetCombined\n",
    "from memflow.unfolding_network.conditional_transformer import ConditioningTransformerLayer\n",
    "\n",
    "from tensorboardX import SummaryWriter\n",
    "\n",
    "from torch.nn.functional import normalize\n",
    "from sklearn.preprocessing import StandardScaler\n",
    "\n",
    "from memflow.unfolding_flow.utils import *\n",
    "torch.cuda.empty_cache()"
   ]
  },
  {
   "cell_type": "code",
   "execution_count": 2,
   "id": "46e17007-d919-4d45-a9b5-b72058e73e82",
   "metadata": {},
   "outputs": [],
   "source": [
    "from omegaconf import OmegaConf\n",
    "\n",
    "config = {\n",
    "    \"name\": \"cond_pretraining_particles\",\n",
    "    \"version\": \"v3\",\n",
    "    \n",
    "    \"description\": \"\",\n",
    "    \"input_dataset\": \"../../../dataset/v7\",\n",
    "    \"input_shape\": {\n",
    "        \"number_jets\": 15,\n",
    "        \"input_features\": 5,\n",
    "        \"number_lept\": 1\n",
    "    },\n",
    "    \"conditioning_transformer\":{\n",
    "        \"out_features\": 4, # the 4 momenta\n",
    "        \"hidden_features\": 32,\n",
    "        \"dim_feedforward_transformer\": 512,\n",
    "        \"nhead_encoder\": 2,\n",
    "        \"no_layers_encoder\": 3,\n",
    "        \"nhead_decoder\": 1,\n",
    "        \"no_layers_decoder\": 1,\n",
    "        \"aggregate\": False,\n",
    "        \"no_decoders\": 3,\n",
    "        \n",
    "    },    \n",
    "    \"training_params\":\n",
    "    {\n",
    "        \"lr\": 1e-4,\n",
    "        \"batch_size\": 1024,\n",
    "        \"batch_size_training\": 1024,\n",
    "        \"batch_size_validation\": 1024,\n",
    "        \"nepochs\": 10,\n",
    "        \"traning_sample\": 500000,\n",
    "        \"validation_sample\": 69993\n",
    "    }\n",
    "}\n",
    "\n",
    "conf = OmegaConf.create(config)\n",
    "\n",
    "with open(f\"runs/config_{conf.name}_{conf.version}.yaml\", \"w\") as fo:\n",
    "    fo.write(OmegaConf.to_yaml(conf))"
   ]
  },
  {
   "cell_type": "code",
   "execution_count": 3,
   "id": "50a9a7e7-56a1-400a-8efd-38970b546a5b",
   "metadata": {},
   "outputs": [
    {
     "name": "stdout",
     "output_type": "stream",
     "text": [
      "jets file already exists\n",
      "lepton_reco file already exists\n",
      "met file already exists\n",
      "boost file already exists\n",
      "recoParticles_Cartesian file already exists\n",
      "LogData file already exists\n",
      "partons file already exists\n",
      "lepton_partons file already exists\n",
      "boost file already exists\n",
      "H_thad_tlep_ISR file already exists\n",
      "H_thad_tlep_ISR_cartesian file already exists\n",
      "Log_H_thad_tlep_ISR_cartesian file already exists\n"
     ]
    }
   ],
   "source": [
    "batch_size = conf.training_params.batch_size\n",
    "device = torch.device('cuda')\n",
    "\n",
    "data_cuda = DatasetCombined(conf.input_dataset, dev=device, dtype=torch.float64,\n",
    "                            reco_list=['scaledLogRecoParticles', 'mask_lepton', \n",
    "                                        'mask_jets','mask_met',\n",
    "                                        'mask_boost', 'data_boost'],\n",
    "                            parton_list=['logScaled_data_higgs_t_tbar_ISR_cartesian'])\n",
    "\n",
    "train_subset, val_subset = torch.utils.data.random_split(\n",
    "        data_cuda, [conf.training_params.traning_sample, conf.training_params.validation_sample],\n",
    "        generator=torch.Generator().manual_seed(1))\n",
    "\n"
   ]
  },
  {
   "cell_type": "code",
   "execution_count": 4,
   "id": "97a96ed6",
   "metadata": {},
   "outputs": [
    {
     "name": "stdout",
     "output_type": "stream",
     "text": [
      "tensor([[ 7.0944e+01, -2.2069e-01,  2.2823e+00,  9.9512e-01,  2.0000e+00],\n",
      "        [ 5.4230e+01,  4.4110e-01, -4.3881e-01,  7.3242e-01,  3.0000e+00],\n",
      "        [ 3.9741e+01,  3.9311e-01, -1.5126e+00,  7.9224e-02, -1.0000e+00],\n",
      "        [ 3.0028e+01, -1.0337e+00,  5.6881e-01,  4.9561e-01,  4.0000e+00],\n",
      "        [ 2.7028e+01,  1.3650e+00,  3.9750e-01,  4.3274e-02,  5.0000e+00],\n",
      "        [ 0.0000e+00,  0.0000e+00,  0.0000e+00,  0.0000e+00, -1.0000e+00],\n",
      "        [ 0.0000e+00,  0.0000e+00,  0.0000e+00,  0.0000e+00, -1.0000e+00],\n",
      "        [ 0.0000e+00,  0.0000e+00,  0.0000e+00,  0.0000e+00, -1.0000e+00],\n",
      "        [ 0.0000e+00,  0.0000e+00,  0.0000e+00,  0.0000e+00, -1.0000e+00],\n",
      "        [ 0.0000e+00,  0.0000e+00,  0.0000e+00,  0.0000e+00, -1.0000e+00],\n",
      "        [ 0.0000e+00,  0.0000e+00,  0.0000e+00,  0.0000e+00, -1.0000e+00],\n",
      "        [ 0.0000e+00,  0.0000e+00,  0.0000e+00,  0.0000e+00, -1.0000e+00],\n",
      "        [ 0.0000e+00,  0.0000e+00,  0.0000e+00,  0.0000e+00, -1.0000e+00],\n",
      "        [ 0.0000e+00,  0.0000e+00,  0.0000e+00,  0.0000e+00, -1.0000e+00],\n",
      "        [ 0.0000e+00,  0.0000e+00,  0.0000e+00,  0.0000e+00, -1.0000e+00]],\n",
      "       dtype=torch.float32)\n",
      "tensor([1., 1., 1., 1., 1., 0., 0., 0., 0., 0., 0., 0., 0., 0., 0.],\n",
      "       device='cuda:0')\n"
     ]
    }
   ],
   "source": [
    "print(data_cuda.reco_data.data_jets[0])\n",
    "print(data_cuda.reco_data.mask_jets[0])"
   ]
  },
  {
   "cell_type": "code",
   "execution_count": 5,
   "id": "d1fa6e7f",
   "metadata": {},
   "outputs": [
    {
     "name": "stdout",
     "output_type": "stream",
     "text": [
      "tensor([[56.8783,  0.5554,  2.4429, -1.0000,  0.0000]], dtype=torch.float32)\n",
      "tensor([1.], device='cuda:0')\n"
     ]
    }
   ],
   "source": [
    "print(data_cuda.reco_data.data_lepton[0])\n",
    "print(data_cuda.reco_data.mask_lepton[0])"
   ]
  },
  {
   "cell_type": "code",
   "execution_count": 6,
   "id": "3b7a64c7",
   "metadata": {},
   "outputs": [
    {
     "name": "stdout",
     "output_type": "stream",
     "text": [
      "tensor([[55.5022, -1.0634, -1.7842, -1.0000,  0.0000]], dtype=torch.float32)\n",
      "tensor([1.], device='cuda:0')\n"
     ]
    }
   ],
   "source": [
    "print(data_cuda.reco_data.data_met[0])\n",
    "print(data_cuda.reco_data.mask_met[0])"
   ]
  },
  {
   "cell_type": "code",
   "execution_count": 7,
   "id": "5b92e208",
   "metadata": {},
   "outputs": [
    {
     "name": "stdout",
     "output_type": "stream",
     "text": [
      "tensor([[ 19.4188,  -3.6695, 554.9426, 705.3148]], device='cuda:0')\n",
      "tensor([1.], device='cuda:0')\n"
     ]
    }
   ],
   "source": [
    "print(data_cuda.reco_data.data_boost[0])\n",
    "print(data_cuda.reco_data.mask_boost[0])"
   ]
  },
  {
   "cell_type": "code",
   "execution_count": 8,
   "id": "0446b7eb",
   "metadata": {},
   "outputs": [
    {
     "name": "stdout",
     "output_type": "stream",
     "text": [
      "torch.Size([569993, 17, 4])\n"
     ]
    }
   ],
   "source": [
    "print(data_cuda.reco_data.recoParticlesCartesian.shape)"
   ]
  },
  {
   "cell_type": "code",
   "execution_count": 9,
   "id": "12871e69",
   "metadata": {},
   "outputs": [
    {
     "name": "stdout",
     "output_type": "stream",
     "text": [
      "tensor([[ 1.6631, -0.2207,  2.2823,  0.9951,  2.0000],\n",
      "        [ 1.6117,  0.4411, -0.4388,  0.7324,  3.0000],\n",
      "        [ 1.5491,  0.3931, -1.5126,  0.0792, -1.0000],\n",
      "        [ 1.4895, -1.0337,  0.5688,  0.4956,  4.0000],\n",
      "        [ 1.4663,  1.3650,  0.3975,  0.0433,  5.0000],\n",
      "        [ 0.0000,  0.0000,  0.0000,  0.0000, -1.0000],\n",
      "        [ 0.0000,  0.0000,  0.0000,  0.0000, -1.0000],\n",
      "        [ 0.0000,  0.0000,  0.0000,  0.0000, -1.0000],\n",
      "        [ 0.0000,  0.0000,  0.0000,  0.0000, -1.0000],\n",
      "        [ 0.0000,  0.0000,  0.0000,  0.0000, -1.0000],\n",
      "        [ 0.0000,  0.0000,  0.0000,  0.0000, -1.0000],\n",
      "        [ 0.0000,  0.0000,  0.0000,  0.0000, -1.0000],\n",
      "        [ 0.0000,  0.0000,  0.0000,  0.0000, -1.0000],\n",
      "        [ 0.0000,  0.0000,  0.0000,  0.0000, -1.0000],\n",
      "        [ 0.0000,  0.0000,  0.0000,  0.0000, -1.0000],\n",
      "        [ 1.6210,  0.5554,  2.4429, -1.0000,  0.0000],\n",
      "        [ 1.6163, -1.0634, -1.7842, -1.0000,  0.0000]], dtype=torch.float32)\n",
      "tensor([1., 1., 1., 1., 1., 0., 0., 0., 0., 0., 0., 0., 0., 0., 0., 1., 1.],\n",
      "       device='cuda:0')\n"
     ]
    }
   ],
   "source": [
    "print(data_cuda.reco_data.recoParticles[0])\n",
    "mask_recoParticles = torch.cat((data_cuda.reco_data.mask_jets,\n",
    "                                data_cuda.reco_data.mask_lepton,\n",
    "                                data_cuda.reco_data.mask_met), dim=1)\n",
    "print(mask_recoParticles[0])"
   ]
  },
  {
   "cell_type": "code",
   "execution_count": 10,
   "id": "8e53fdd0",
   "metadata": {},
   "outputs": [
    {
     "name": "stdout",
     "output_type": "stream",
     "text": [
      "tensor([[-0.1243, -0.2601,  1.2565,  0.9951,  2.0000],\n",
      "        [-0.5655,  0.5236, -0.2375,  0.7324,  3.0000],\n",
      "        [-1.0733,  0.4668, -0.8271,  0.0792, -1.0000],\n",
      "        [-1.5278, -1.2228,  0.3158,  0.4956,  4.0000],\n",
      "        [-1.6974,  1.6178,  0.2217,  0.0433,  5.0000],\n",
      "        [ 0.0000,  0.0000,  0.0000,  0.0000, -1.0000],\n",
      "        [ 0.0000,  0.0000,  0.0000,  0.0000, -1.0000],\n",
      "        [ 0.0000,  0.0000,  0.0000,  0.0000, -1.0000],\n",
      "        [ 0.0000,  0.0000,  0.0000,  0.0000, -1.0000],\n",
      "        [ 0.0000,  0.0000,  0.0000,  0.0000, -1.0000],\n",
      "        [ 0.0000,  0.0000,  0.0000,  0.0000, -1.0000],\n",
      "        [ 0.0000,  0.0000,  0.0000,  0.0000, -1.0000],\n",
      "        [ 0.0000,  0.0000,  0.0000,  0.0000, -1.0000],\n",
      "        [ 0.0000,  0.0000,  0.0000,  0.0000, -1.0000],\n",
      "        [ 0.0000,  0.0000,  0.0000,  0.0000, -1.0000]], dtype=torch.float32)\n",
      "torch.Size([569993, 15, 5])\n",
      "tensor([ 4.3504e+00, -1.0868e-03, -6.2631e-03], dtype=torch.float32)\n",
      "tensor([0.5992, 0.8444, 1.8213], dtype=torch.float32)\n"
     ]
    }
   ],
   "source": [
    "print(data_cuda.reco_data.scaledLogJets[0])\n",
    "print(data_cuda.reco_data.LogJets.shape)\n",
    "print(data_cuda.reco_data.meanJets)\n",
    "print(data_cuda.reco_data.stdJets)"
   ]
  },
  {
   "cell_type": "code",
   "execution_count": 11,
   "id": "97d44d99",
   "metadata": {},
   "outputs": [
    {
     "name": "stdout",
     "output_type": "stream",
     "text": [
      "tensor([[-0.3085,  0.6897,  1.3468, -1.0000,  0.0000]], dtype=torch.float32)\n",
      "torch.Size([569993, 1, 5])\n",
      "tensor([ 4.2242e+00, -7.4239e-04, -1.3822e-02], dtype=torch.float32)\n",
      "tensor([0.5374, 0.8064, 1.8241], dtype=torch.float32)\n"
     ]
    }
   ],
   "source": [
    "print(data_cuda.reco_data.scaledLogLepton[0])\n",
    "print(data_cuda.reco_data.LogLepton.shape)\n",
    "print(data_cuda.reco_data.meanLepton)\n",
    "print(data_cuda.reco_data.stdLepton)"
   ]
  },
  {
   "cell_type": "code",
   "execution_count": 12,
   "id": "dcd3ad04",
   "metadata": {},
   "outputs": [
    {
     "name": "stdout",
     "output_type": "stream",
     "text": [
      "tensor([[-0.3686, -1.7305, -1.1157, -1.0000,  0.0000]], dtype=torch.float32)\n",
      "torch.Size([569993, 1, 5])\n",
      "tensor([4.2505, 0.0057, 0.1345], dtype=torch.float32)\n",
      "tensor([0.5866, 0.6178, 1.7197], dtype=torch.float32)\n"
     ]
    }
   ],
   "source": [
    "print(data_cuda.reco_data.scaledLogMet[0])\n",
    "print(data_cuda.reco_data.LogMet.shape)\n",
    "print(data_cuda.reco_data.meanMet)\n",
    "print(data_cuda.reco_data.stdMet)"
   ]
  },
  {
   "cell_type": "code",
   "execution_count": 13,
   "id": "c8c4f386",
   "metadata": {},
   "outputs": [
    {
     "name": "stdout",
     "output_type": "stream",
     "text": [
      "tensor([[-0.4555, -1.0195,  1.0510, -0.7395],\n",
      "        [-0.7698,  1.0262, -0.8405,  0.8526],\n",
      "        [-1.2896,  0.3112, -0.9790,  0.7446],\n",
      "        [-1.1260,  0.8566,  0.7457, -0.9530],\n",
      "        [-0.8576,  0.8528,  0.6392,  1.0297],\n",
      "        [ 0.0000,  0.0000,  0.0000,  0.0000],\n",
      "        [ 0.0000,  0.0000,  0.0000,  0.0000],\n",
      "        [ 0.0000,  0.0000,  0.0000,  0.0000],\n",
      "        [ 0.0000,  0.0000,  0.0000,  0.0000],\n",
      "        [ 0.0000,  0.0000,  0.0000,  0.0000],\n",
      "        [ 0.0000,  0.0000,  0.0000,  0.0000],\n",
      "        [ 0.0000,  0.0000,  0.0000,  0.0000],\n",
      "        [ 0.0000,  0.0000,  0.0000,  0.0000],\n",
      "        [ 0.0000,  0.0000,  0.0000,  0.0000],\n",
      "        [ 0.0000,  0.0000,  0.0000,  0.0000],\n",
      "        [-0.6111, -1.0036,  0.9520,  0.9279],\n",
      "        [-0.1169, -0.6744, -1.0596, -1.1209]], dtype=torch.float32)\n",
      "torch.Size([569993, 17, 4])\n",
      "tensor([ 4.5831e+00,  1.5662e-02,  1.1767e-02, -2.4085e-03],\n",
      "       dtype=torch.float32)\n",
      "tensor([0.6221, 3.7985, 3.7972, 3.8107], dtype=torch.float32)\n"
     ]
    }
   ],
   "source": [
    "print(data_cuda.reco_data.scaledLogRecoParticlesCartesian[0])\n",
    "print(data_cuda.reco_data.LogRecoParticlesCartesian.shape)\n",
    "print(data_cuda.reco_data.meanRecoCartesian)\n",
    "print(data_cuda.reco_data.stdRecoCartesian)"
   ]
  },
  {
   "cell_type": "code",
   "execution_count": 14,
   "id": "6cfd7e91",
   "metadata": {},
   "outputs": [
    {
     "name": "stdout",
     "output_type": "stream",
     "text": [
      "tensor([[-0.0226, -0.2711,  1.2552,  0.9951,  2.0000],\n",
      "        [-0.4925,  0.5424, -0.2486,  0.7324,  3.0000],\n",
      "        [-1.0651,  0.4834, -0.8420,  0.0792, -1.0000],\n",
      "        [-1.6098, -1.2703,  0.3083,  0.4956,  4.0000],\n",
      "        [-1.8218,  1.6780,  0.2136,  0.0433,  5.0000],\n",
      "        [ 0.0000,  0.0000,  0.0000,  0.0000, -1.0000],\n",
      "        [ 0.0000,  0.0000,  0.0000,  0.0000, -1.0000],\n",
      "        [ 0.0000,  0.0000,  0.0000,  0.0000, -1.0000],\n",
      "        [ 0.0000,  0.0000,  0.0000,  0.0000, -1.0000],\n",
      "        [ 0.0000,  0.0000,  0.0000,  0.0000, -1.0000],\n",
      "        [ 0.0000,  0.0000,  0.0000,  0.0000, -1.0000],\n",
      "        [ 0.0000,  0.0000,  0.0000,  0.0000, -1.0000],\n",
      "        [ 0.0000,  0.0000,  0.0000,  0.0000, -1.0000],\n",
      "        [ 0.0000,  0.0000,  0.0000,  0.0000, -1.0000],\n",
      "        [ 0.0000,  0.0000,  0.0000,  0.0000, -1.0000],\n",
      "        [-0.4075,  0.6829,  1.3440, -1.0000,  0.0000],\n",
      "        [-0.4511, -1.3069, -0.9922, -1.0000,  0.0000]], device='cuda:0')\n",
      "torch.Size([569993, 17, 5])\n",
      "tensor([ 1.6656e+00, -1.6128e-04,  1.1039e-02], dtype=torch.float32)\n",
      "tensor([0.1094, 0.8136, 1.8094], dtype=torch.float32)\n"
     ]
    }
   ],
   "source": [
    "print(data_cuda.reco_data.scaledLogRecoParticles[0])\n",
    "print(data_cuda.reco_data.LogRecoParticles.shape)\n",
    "print(data_cuda.reco_data.meanRecoParticles)\n",
    "print(data_cuda.reco_data.stdRecoParticles)"
   ]
  },
  {
   "cell_type": "code",
   "execution_count": 15,
   "id": "af66ac56",
   "metadata": {},
   "outputs": [],
   "source": [
    "# just reload it, don't call again DatasetCombined\n",
    "#dataiterator = DataLoader(dataset=data_cuda, batch_size=batch_size, shuffle=True, drop_last=True)\n",
    "train_loader = DataLoader(dataset=train_subset, shuffle=True, batch_size=conf.training_params.batch_size_training)\n",
    "val_loader = DataLoader(dataset=val_subset, shuffle=True, batch_size=conf.training_params.batch_size_validation)"
   ]
  },
  {
   "cell_type": "code",
   "execution_count": 16,
   "id": "fa6b5088-98c0-448d-9584-919fb89d43f9",
   "metadata": {
    "jupyter": {
     "source_hidden": true
    },
    "tags": []
   },
   "outputs": [],
   "source": [
    "import torch.nn as nn\n",
    "from torch.nn.functional import gelu\n",
    "from torch.nn import ModuleList\n",
    "\n",
    "class PreTrainer(nn.Module):\n",
    "    \n",
    "    def __init__(self, conf, dtype=torch.float32):\n",
    "        super().__init__()\n",
    "        \n",
    "        self.cond_transformer = ConditioningTransformerLayer(\n",
    "                                            no_jets = conf.input_shape.number_jets,\n",
    "                                            jets_features=conf.input_shape.jets_features, \n",
    "                                            no_lept = conf.input_shape.number_lept,\n",
    "                                            lepton_features=conf.input_shape.lepton_features, \n",
    "                                            hidden_features=conf.conditioning_transformer.hidden_features,\n",
    "                                            out_features=conf.conditioning_transformer.out_features,\n",
    "                                            nhead=conf.conditioning_transformer.nhead,\n",
    "                                            no_layers=conf.conditioning_transformer.no_layers,\n",
    "                                            dtype=torch.float64) \n",
    "        \n",
    "        hidden_dim = conf.pretrainer_regression.hidden_layers \n",
    "        hidden_dim.append(4) # the output\n",
    "        \n",
    "        self.H_out = ModuleList([nn.Linear(in_features=conf.conditioning_transformer.out_features,\n",
    "                              out_features=hidden_dim[0], dtype=dtype)])\n",
    "        \n",
    "        self.Thad_out =  ModuleList([nn.Linear(in_features=conf.conditioning_transformer.out_features,\n",
    "                              out_features=hidden_dim[0], dtype=dtype)])\n",
    "        \n",
    "        self.Tlep_out =  ModuleList([nn.Linear(in_features=conf.conditioning_transformer.out_features,\n",
    "                              out_features=hidden_dim[0], dtype=dtype)])\n",
    "        \n",
    "        \n",
    "        for i in range(len(hidden_dim)-1):\n",
    "            self.H_out.append(nn.Linear(in_features=hidden_dim[i],\n",
    "                                       out_features=hidden_dim[i+1], dtype=dtype))\n",
    "            self.Thad_out.append(nn.Linear(in_features=hidden_dim[i],\n",
    "                                       out_features=hidden_dim[i+1], dtype=dtype))\n",
    "            self.Tlep_out.append(nn.Linear(in_features=hidden_dim[i],\n",
    "                                       out_features=hidden_dim[i+1], dtype=dtype))\n",
    "        \n",
    "    \n",
    "    def forward(self, x):\n",
    "        (logScaled_data_higgs_t_tbar_ISR_cartesian, \n",
    "        scaledLogRecoParticles, mask_lepton_reco, \n",
    "        mask_jets, mask_met, \n",
    "        mask_boost_reco, data_boost_reco) = x\n",
    "        \n",
    "        \n",
    "        out_cond = self.cond_transformer(data_jets,\n",
    "                    data_lepton_reco,\n",
    "                    data_met,\n",
    "                    data_boost_reco, \n",
    "                    mask_jets, \n",
    "                    mask_lepton_reco, \n",
    "                    mask_met, \n",
    "                    mask_boost_reco)\n",
    "\n",
    "        hout = out_cond\n",
    "        for mod in self.H_out[:-1]:\n",
    "            hout = gelu(mod(hout))\n",
    "        hout = self.H_out[-1](hout)\n",
    "        \n",
    "        tlepout = out_cond\n",
    "        for mod in self.Tlep_out[:-1]:\n",
    "            tlepout = gelu(mod(tlepout))\n",
    "        tlepout = self.Tlep_out[-1](tlepout)\n",
    "        \n",
    "        thadout = out_cond \n",
    "        for mod in self.Thad_out[:-1]:\n",
    "            thadout = gelu(mod(thadout))\n",
    "        thadout = self.Thad_out[-1](thadout)\n",
    "        \n",
    "        return out_cond, hout, tlepout, thadout"
   ]
  },
  {
   "cell_type": "code",
   "execution_count": 17,
   "id": "66743d02-4b85-4b56-9edd-98d34aaba049",
   "metadata": {},
   "outputs": [],
   "source": [
    "model = ConditioningTransformerLayer(no_jets = conf.input_shape.number_jets,\n",
    "                                    no_lept = conf.input_shape.number_lept,\n",
    "                                    input_features=conf.input_shape.input_features, \n",
    "                                    hidden_features=conf.conditioning_transformer.hidden_features,\n",
    "                                    dim_feedforward_transformer= conf.conditioning_transformer.dim_feedforward_transformer,\n",
    "                                    out_features=conf.conditioning_transformer.out_features,\n",
    "                                    nhead_encoder=conf.conditioning_transformer.nhead_encoder,\n",
    "                                    no_layers_encoder=conf.conditioning_transformer.no_layers_encoder,\n",
    "                                    nhead_decoder=conf.conditioning_transformer.nhead_decoder,\n",
    "                                    no_layers_decoder=conf.conditioning_transformer.no_layers_decoder,\n",
    "                                     no_decoders=conf.conditioning_transformer.no_decoders,\n",
    "                                     aggregate=conf.conditioning_transformer.aggregate,\n",
    "                                    dtype=torch.float64).cuda()"
   ]
  },
  {
   "cell_type": "code",
   "execution_count": 18,
   "id": "125799c4-7227-45a5-b6c5-31edaf1a0345",
   "metadata": {},
   "outputs": [
    {
     "name": "stdout",
     "output_type": "stream",
     "text": [
      "parameters total:226721\n"
     ]
    }
   ],
   "source": [
    "nepochs = conf.training_params.nepochs\n",
    "lr_init = conf.training_params.lr\n",
    "version = conf.version\n",
    "\n",
    "name_dir = f'runs/{conf.name}_{conf.version}'\n",
    "writer = SummaryWriter(name_dir)\n",
    "\n",
    "loss_fn = torch.nn.MSELoss()\n",
    "#scaler = torch.cuda.amp.GradScaler()\n",
    "\n",
    "optimizer = optim.Adam(list(model.parameters()) , lr=lr_init)\n",
    "\n",
    "# decay = 0.0001\n",
    "# fcn = lambda step: 1./(1. + decay*step)\n",
    "# scheduler = torch.optim.lr_scheduler.LambdaLR(optimizer, lr_lambda=fcn)\n",
    "\n",
    "#print(f\"parameters flow:{count_parameters(model.flow)}, parameters conditioner: {count_parameters(model.cond_transformer_lambda)}\")\n",
    "print(f\"parameters total:{count_parameters(model)}\")"
   ]
  },
  {
   "cell_type": "code",
   "execution_count": 19,
   "id": "3a24dfeb-d6b6-4645-93c8-b9879759d307",
   "metadata": {
    "tags": []
   },
   "outputs": [
    {
     "name": "stdout",
     "output_type": "stream",
     "text": [
      "Training steps: 489, Validation steps: 69\n",
      "Before training loop\n",
      "0\n",
      "10\n",
      "20\n",
      "30\n",
      "40\n",
      "50\n",
      "60\n",
      "70\n",
      "80\n",
      "90\n",
      "100\n",
      "110\n",
      "120\n",
      "130\n",
      "140\n",
      "150\n",
      "160\n",
      "170\n",
      "180\n",
      "190\n",
      "200\n",
      "210\n",
      "220\n",
      "230\n",
      "240\n",
      "250\n",
      "260\n",
      "270\n",
      "280\n",
      "290\n",
      "300\n",
      "310\n",
      "320\n",
      "330\n",
      "340\n",
      "350\n",
      "360\n",
      "370\n",
      "380\n",
      "390\n",
      "400\n",
      "410\n",
      "420\n",
      "430\n",
      "440\n",
      "450\n",
      "460\n",
      "470\n",
      "480\n",
      "Before validation loop\n",
      "Before training loop\n",
      "0\n",
      "10\n",
      "20\n",
      "30\n",
      "40\n",
      "50\n",
      "60\n",
      "70\n",
      "80\n",
      "90\n",
      "100\n",
      "110\n",
      "120\n",
      "130\n",
      "140\n",
      "150\n",
      "160\n",
      "170\n",
      "180\n",
      "190\n",
      "200\n",
      "210\n",
      "220\n",
      "230\n",
      "240\n",
      "250\n",
      "260\n",
      "270\n",
      "280\n",
      "290\n",
      "300\n",
      "310\n",
      "320\n",
      "330\n",
      "340\n",
      "350\n",
      "360\n",
      "370\n",
      "380\n",
      "390\n",
      "400\n",
      "410\n",
      "420\n",
      "430\n",
      "440\n",
      "450\n",
      "460\n",
      "470\n",
      "480\n",
      "Before validation loop\n",
      "Before training loop\n",
      "0\n",
      "10\n",
      "20\n",
      "30\n",
      "40\n",
      "50\n",
      "60\n",
      "70\n",
      "80\n",
      "90\n",
      "100\n",
      "110\n",
      "120\n",
      "130\n",
      "140\n",
      "150\n",
      "160\n",
      "170\n",
      "180\n",
      "190\n",
      "200\n",
      "210\n",
      "220\n",
      "230\n",
      "240\n",
      "250\n",
      "260\n",
      "270\n",
      "280\n",
      "290\n",
      "300\n",
      "310\n",
      "320\n",
      "330\n",
      "340\n",
      "350\n",
      "360\n",
      "370\n",
      "380\n",
      "390\n",
      "400\n",
      "410\n",
      "420\n",
      "430\n",
      "440\n",
      "450\n",
      "460\n",
      "470\n",
      "480\n",
      "Before validation loop\n",
      "Before training loop\n",
      "0\n",
      "10\n",
      "20\n",
      "30\n",
      "40\n",
      "50\n",
      "60\n",
      "70\n",
      "80\n",
      "90\n",
      "100\n",
      "110\n",
      "120\n",
      "130\n",
      "140\n",
      "150\n",
      "160\n",
      "170\n",
      "180\n",
      "190\n",
      "200\n",
      "210\n",
      "220\n",
      "230\n",
      "240\n",
      "250\n",
      "260\n",
      "270\n",
      "280\n",
      "290\n",
      "300\n",
      "310\n",
      "320\n",
      "330\n",
      "340\n",
      "350\n",
      "360\n",
      "370\n",
      "380\n",
      "390\n",
      "400\n",
      "410\n",
      "420\n",
      "430\n",
      "440\n",
      "450\n",
      "460\n",
      "470\n",
      "480\n",
      "Before validation loop\n",
      "Before training loop\n",
      "0\n",
      "10\n",
      "20\n",
      "30\n",
      "40\n",
      "50\n",
      "60\n",
      "70\n",
      "80\n",
      "90\n",
      "100\n",
      "110\n",
      "120\n",
      "130\n",
      "140\n",
      "150\n",
      "160\n",
      "170\n",
      "180\n",
      "190\n",
      "200\n",
      "210\n",
      "220\n",
      "230\n",
      "240\n",
      "250\n",
      "260\n",
      "270\n",
      "280\n",
      "290\n",
      "300\n",
      "310\n",
      "320\n",
      "330\n",
      "340\n",
      "350\n",
      "360\n",
      "370\n",
      "380\n",
      "390\n",
      "400\n",
      "410\n",
      "420\n",
      "430\n",
      "440\n",
      "450\n",
      "460\n",
      "470\n",
      "480\n",
      "Before validation loop\n",
      "Before training loop\n",
      "0\n",
      "10\n",
      "20\n",
      "30\n",
      "40\n",
      "50\n",
      "60\n",
      "70\n",
      "80\n",
      "90\n",
      "100\n",
      "110\n",
      "120\n",
      "130\n",
      "140\n",
      "150\n",
      "160\n",
      "170\n",
      "180\n",
      "190\n",
      "200\n",
      "210\n",
      "220\n",
      "230\n",
      "240\n",
      "250\n",
      "260\n",
      "270\n",
      "280\n",
      "290\n",
      "300\n",
      "310\n",
      "320\n",
      "330\n",
      "340\n",
      "350\n",
      "360\n",
      "370\n",
      "380\n",
      "390\n",
      "400\n",
      "410\n",
      "420\n",
      "430\n",
      "440\n",
      "450\n",
      "460\n",
      "470\n",
      "480\n",
      "Before validation loop\n",
      "Before training loop\n",
      "0\n",
      "10\n",
      "20\n",
      "30\n",
      "40\n",
      "50\n",
      "60\n",
      "70\n",
      "80\n",
      "90\n",
      "100\n",
      "110\n",
      "120\n",
      "130\n",
      "140\n",
      "150\n",
      "160\n",
      "170\n",
      "180\n",
      "190\n",
      "200\n",
      "210\n",
      "220\n",
      "230\n",
      "240\n",
      "250\n",
      "260\n",
      "270\n",
      "280\n",
      "290\n",
      "300\n",
      "310\n",
      "320\n",
      "330\n",
      "340\n",
      "350\n",
      "360\n",
      "370\n",
      "380\n",
      "390\n",
      "400\n",
      "410\n",
      "420\n",
      "430\n",
      "440\n",
      "450\n",
      "460\n",
      "470\n",
      "480\n",
      "Before validation loop\n",
      "Before training loop\n",
      "0\n",
      "10\n",
      "20\n",
      "30\n",
      "40\n",
      "50\n",
      "60\n",
      "70\n",
      "80\n",
      "90\n",
      "100\n",
      "110\n",
      "120\n",
      "130\n",
      "140\n",
      "150\n",
      "160\n",
      "170\n",
      "180\n",
      "190\n",
      "200\n",
      "210\n",
      "220\n",
      "230\n",
      "240\n",
      "250\n",
      "260\n",
      "270\n",
      "280\n",
      "290\n",
      "300\n",
      "310\n",
      "320\n",
      "330\n",
      "340\n",
      "350\n",
      "360\n",
      "370\n",
      "380\n",
      "390\n",
      "400\n",
      "410\n",
      "420\n",
      "430\n",
      "440\n",
      "450\n",
      "460\n",
      "470\n",
      "480\n",
      "Before validation loop\n",
      "Before training loop\n",
      "0\n",
      "10\n",
      "20\n",
      "30\n",
      "40\n",
      "50\n",
      "60\n",
      "70\n",
      "80\n",
      "90\n",
      "100\n",
      "110\n",
      "120\n",
      "130\n",
      "140\n",
      "150\n",
      "160\n",
      "170\n",
      "180\n",
      "190\n",
      "200\n",
      "210\n",
      "220\n",
      "230\n",
      "240\n",
      "250\n",
      "260\n",
      "270\n",
      "280\n",
      "290\n",
      "300\n",
      "310\n",
      "320\n",
      "330\n",
      "340\n",
      "350\n",
      "360\n",
      "370\n",
      "380\n",
      "390\n",
      "400\n",
      "410\n",
      "420\n",
      "430\n",
      "440\n",
      "450\n",
      "460\n",
      "470\n",
      "480\n",
      "Before validation loop\n",
      "Before training loop\n",
      "0\n",
      "10\n",
      "20\n",
      "30\n",
      "40\n",
      "50\n",
      "60\n",
      "70\n",
      "80\n",
      "90\n",
      "100\n",
      "110\n",
      "120\n",
      "130\n",
      "140\n",
      "150\n",
      "160\n",
      "170\n",
      "180\n",
      "190\n",
      "200\n",
      "210\n",
      "220\n",
      "230\n",
      "240\n",
      "250\n",
      "260\n",
      "270\n",
      "280\n",
      "290\n",
      "300\n",
      "310\n",
      "320\n",
      "330\n",
      "340\n",
      "350\n",
      "360\n",
      "370\n",
      "380\n",
      "390\n",
      "400\n",
      "410\n",
      "420\n",
      "430\n",
      "440\n",
      "450\n",
      "460\n",
      "470\n",
      "480\n",
      "Before validation loop\n"
     ]
    }
   ],
   "source": [
    "N_train = len(train_loader)\n",
    "N_valid = len(val_loader)\n",
    "print(f\"Training steps: {N_train}, Validation steps: {N_valid}\")\n",
    "\n",
    "ii = 0\n",
    "for e in range(nepochs):\n",
    "    \n",
    "    sum_loss = 0.\n",
    "    \n",
    "    print(\"Before training loop\")\n",
    "    for i, data in enumerate(train_loader):\n",
    "        ii += 1\n",
    "        if (i % 10 == 0):\n",
    "            print(i)\n",
    "        \n",
    "        (logScaled_data_higgs_t_tbar_ISR_cartesian, \n",
    "        scaledLogRecoParticles, mask_lepton_reco, \n",
    "        mask_jets, mask_met, \n",
    "        mask_boost_reco, data_boost_reco) = data\n",
    "        \n",
    "        \n",
    "        mask_recoParticles = torch.cat((mask_jets, mask_lepton_reco, mask_met), dim=1)\n",
    "        \n",
    "        optimizer.zero_grad()\n",
    "        \n",
    "        out = model(scaledLogRecoParticles, data_boost_reco, mask_recoParticles, mask_boost_reco)\n",
    "                \n",
    "        #out_cond, h_out, tlep_out, thad_out = model(data)\n",
    "        \n",
    "        target = data[0]\n",
    "        \n",
    "        lossH = loss_fn(target[:,0], out[0])\n",
    "        lossThad =  loss_fn(target[:,1], out[1])\n",
    "        lossTlep =  loss_fn(target[:,2], out[2])\n",
    "        writer.add_scalar('loss_H', lossH.item(), ii)\n",
    "        writer.add_scalar('loss_Thad', lossThad.item(), ii)\n",
    "        writer.add_scalar('loss_Tlep', lossTlep.item(), ii)\n",
    "        \n",
    "\n",
    "        loss = lossH + lossThad + lossTlep\n",
    "        #print(loss.item())\n",
    "        \n",
    "#         scaler.scale(loss).backward()\n",
    "#         scaler.step(optimizer)\n",
    "#         scaler.update()\n",
    "        loss.backward()\n",
    "        optimizer.step()\n",
    "    \n",
    "        sum_loss += loss.item()\n",
    "        \n",
    "        writer.add_scalar(\"Loss_step_train\", loss.item(), ii)\n",
    "        #steps.set_description(f\"Step loss: {loss.item()}\")\n",
    "\n",
    "    writer.add_scalar('Loss_epoch_train', sum_loss/N_train, e)\n",
    "    #epoch.set_description(sum_loss/N_train)\n",
    "    valid_loss = 0\n",
    "    valid_lossH = 0\n",
    "    valid_lossTlep = 0\n",
    "    valid_lossThad = 0\n",
    "    \n",
    "    # validation loop (don't update weights and gradients)\n",
    "    print(\"Before validation loop\")\n",
    "    for i, data in enumerate(val_loader):\n",
    "        \n",
    "        with torch.no_grad():\n",
    "            \n",
    "            (logScaled_data_higgs_t_tbar_ISR_cartesian, \n",
    "            scaledLogRecoParticles, mask_lepton_reco, \n",
    "            mask_jets, mask_met, \n",
    "            mask_boost_reco, data_boost_reco) = data\n",
    "\n",
    "            mask_recoParticles = torch.cat((mask_jets, mask_lepton_reco, mask_met), dim=1)\n",
    "        \n",
    "            out = model(scaledLogRecoParticles, data_boost_reco, mask_recoParticles, mask_boost_reco)\n",
    "\n",
    "            target = data[0]\n",
    "\n",
    "            lossH = loss_fn(target[:,0], out[0])\n",
    "            lossThad =  loss_fn(target[:,1], out[1])\n",
    "            lossTlep =  loss_fn(target[:,2], out[2])\n",
    "\n",
    "            loss = lossH + lossThad + lossTlep\n",
    "            valid_loss += loss.item()\n",
    "            valid_lossH += lossH.item()\n",
    "            valid_lossTlep += lossTlep.item()\n",
    "            valid_lossThad += lossThad.item()\n",
    "            \n",
    "            if i == 0:\n",
    "                for particle in range(3):\n",
    "                    for feature in range(4):\n",
    "                        particle_correct_order = particle\n",
    "                        if particle == 1:\n",
    "                            particle_correct_order = 2\n",
    "                        elif particle == 2:\n",
    "                            particle_correct_order = 1\n",
    "\n",
    "                        fig, ax = plt.subplots()\n",
    "                        h = ax.hist2d(out[particle_correct_order][:,feature].cpu().detach().numpy().flatten(),\n",
    "                                      target[:,particle,feature].detach().cpu().numpy(),\n",
    "                                      bins=50, range=((0, 1),(0, 1)))\n",
    "                        fig.colorbar(h[3], ax=ax)\n",
    "                        writer.add_figure(f\"Validation_particleNo_{particle}_Feature_{feature}\", fig, e)\n",
    "\n",
    "                        fig, ax = plt.subplots()\n",
    "                        h = ax.hist((out[particle_correct_order][:,feature].cpu().detach().numpy().flatten() - \\\n",
    "                                     target[:,particle,feature].detach().cpu().numpy()), bins=100)\n",
    "                        writer.add_figure(f\"Validation_particleNo_{particle}__Feature_{feature}_Diff\", fig, e)\n",
    "         \n",
    "        \n",
    "    writer.add_scalar('Loss_epoch_val', valid_loss/N_valid, e)\n",
    "    writer.add_scalar('Loss_epoch_val_H', valid_lossH/N_valid, e)\n",
    "    writer.add_scalar('Loss_epoch_val_Tlep', valid_lossTlep/N_valid, e)\n",
    "    writer.add_scalar('Loss_epoch_val_Thad', valid_lossThad/N_valid, e)\n",
    "        \n",
    "    \n",
    "writer.close()"
   ]
  },
  {
   "cell_type": "code",
   "execution_count": 9,
   "id": "4e0c6618-cd4a-4dd3-a8d9-3d1187e0b8df",
   "metadata": {},
   "outputs": [
    {
     "data": {
      "text/plain": [
       "<matplotlib.colorbar.Colorbar at 0x7f0a1dd52c10>"
      ]
     },
     "execution_count": 9,
     "metadata": {},
     "output_type": "execute_result"
    },
    {
     "data": {
      "image/png": "[encoded data removed]",
      "text/plain": [
       "<Figure size 432x288 with 2 Axes>"
      ]
     },
     "metadata": {
      "needs_background": "light"
     },
     "output_type": "display_data"
    }
   ],
   "source": [
    "plt.imshow(out[0].cpu().detach().numpy().T[:, 0:30])\n",
    "plt.colorbar()"
   ]
  },
  {
   "cell_type": "code",
   "execution_count": 10,
   "id": "1f3610a3-2e05-41f9-8dff-85e79f2ecb92",
   "metadata": {},
   "outputs": [
    {
     "data": {
      "text/plain": [
       "torch.Size([288, 4, 4])"
      ]
     },
     "execution_count": 10,
     "metadata": {},
     "output_type": "execute_result"
    }
   ],
   "source": [
    "target.shape"
   ]
  },
  {
   "cell_type": "code",
   "execution_count": 17,
   "id": "52b82b7e-b631-462e-bbca-7393a437a0d0",
   "metadata": {
    "scrolled": true
   },
   "outputs": [
    {
     "data": {
      "image/png": "[encoded data removed]",
      "text/plain": [
       "<Figure size 432x288 with 1 Axes>"
      ]
     },
     "metadata": {
      "needs_background": "light"
     },
     "output_type": "display_data"
    }
   ],
   "source": [
    "plt.hist2d(out[1][:,0].cpu().detach().numpy(), target[:,2,0].detach().cpu().numpy(), bins=100);"
   ]
  },
  {
   "cell_type": "code",
   "execution_count": 18,
   "id": "d6024885-5853-43a8-8bf0-5ff9b2927338",
   "metadata": {},
   "outputs": [
    {
     "data": {
      "image/png": "[encoded data removed]",
      "text/plain": [
       "<Figure size 432x288 with 1 Axes>"
      ]
     },
     "metadata": {
      "needs_background": "light"
     },
     "output_type": "display_data"
    }
   ],
   "source": [
    "plt.hist2d(out[1][:,0].cpu().detach().numpy(), target[:,0,0].detach().cpu().numpy(), bins=100);"
   ]
  },
  {
   "cell_type": "code",
   "execution_count": 19,
   "id": "ddf91ab4-0e25-4087-8f1d-f0a35862077e",
   "metadata": {},
   "outputs": [
    {
     "data": {
      "image/png": "[encoded data removed]",
      "text/plain": [
       "<Figure size 432x288 with 1 Axes>"
      ]
     },
     "metadata": {
      "needs_background": "light"
     },
     "output_type": "display_data"
    }
   ],
   "source": [
    "plt.hist2d(out[1][:,1].cpu().detach().numpy(), target[:,0,1].detach().cpu().numpy(), bins=100);"
   ]
  },
  {
   "cell_type": "code",
   "execution_count": 20,
   "id": "d38c72bb-9994-4a6a-a835-01fa0c797a73",
   "metadata": {},
   "outputs": [
    {
     "data": {
      "image/png": "[encoded data removed]",
      "text/plain": [
       "<Figure size 432x288 with 1 Axes>"
      ]
     },
     "metadata": {
      "needs_background": "light"
     },
     "output_type": "display_data"
    }
   ],
   "source": [
    "plt.hist2d(out[1][:,2].cpu().detach().numpy(), target[:,0,2].detach().cpu().numpy(), bins=100);"
   ]
  },
  {
   "cell_type": "code",
   "execution_count": 21,
   "id": "b0cafa43-48e7-40f2-a8ec-8d16bb94f95f",
   "metadata": {},
   "outputs": [
    {
     "data": {
      "image/png": "[encoded data removed]",
      "text/plain": [
       "<Figure size 432x288 with 1 Axes>"
      ]
     },
     "metadata": {
      "needs_background": "light"
     },
     "output_type": "display_data"
    }
   ],
   "source": [
    "plt.hist2d(out[1][:,3].cpu().detach().numpy(), target[:,0,3].detach().cpu().numpy(), bins=100);"
   ]
  },
  {
   "cell_type": "code",
   "execution_count": 54,
   "id": "5cfb2d73-4afc-41af-b741-ae74cec46f4b",
   "metadata": {},
   "outputs": [
    {
     "ename": "NameError",
     "evalue": "name 'ptrainer' is not defined",
     "output_type": "error",
     "traceback": [
      "\u001b[0;31m---------------------------------------------------------------------------\u001b[0m",
      "\u001b[0;31mNameError\u001b[0m                                 Traceback (most recent call last)",
      "\u001b[0;32m/tmp/adpetre/ipykernel_1468063/535157003.py\u001b[0m in \u001b[0;36m<module>\u001b[0;34m\u001b[0m\n\u001b[0;32m----> 1\u001b[0;31m \u001b[0mout_pret\u001b[0m \u001b[0;34m=\u001b[0m \u001b[0mptrainer\u001b[0m\u001b[0;34m(\u001b[0m\u001b[0mout\u001b[0m\u001b[0;34m)\u001b[0m\u001b[0;34m\u001b[0m\u001b[0;34m\u001b[0m\u001b[0m\n\u001b[0m",
      "\u001b[0;31mNameError\u001b[0m: name 'ptrainer' is not defined"
     ]
    }
   ],
   "source": [
    "out_pret = ptrainer(out)"
   ]
  },
  {
   "cell_type": "code",
   "execution_count": 81,
   "id": "99436a7d-a320-4a96-8118-91bbae89f757",
   "metadata": {},
   "outputs": [],
   "source": [
    "loss = torch.nn.MSELoss()"
   ]
  },
  {
   "cell_type": "code",
   "execution_count": 82,
   "id": "fbd28398-5c30-4766-ae34-cab84141c690",
   "metadata": {},
   "outputs": [
    {
     "data": {
      "text/plain": [
       "tensor(27682.3068, grad_fn=<MseLossBackward0>)"
      ]
     },
     "execution_count": 82,
     "metadata": {},
     "output_type": "execute_result"
    }
   ],
   "source": [
    "loss(out_pret[0] , data_httg_cartesian[:,0])"
   ]
  },
  {
   "cell_type": "code",
   "execution_count": 83,
   "id": "02a015e8-c8c5-4904-bf4d-148410abace8",
   "metadata": {},
   "outputs": [
    {
     "data": {
      "text/plain": [
       "tensor(57334.8288, grad_fn=<MseLossBackward0>)"
      ]
     },
     "execution_count": 83,
     "metadata": {},
     "output_type": "execute_result"
    }
   ],
   "source": [
    "loss(out_pret[1] , data_httg_cartesian[:,1])"
   ]
  },
  {
   "cell_type": "code",
   "execution_count": 40,
   "id": "e33b8804-3269-4eff-8f33-fe4bab8fe03e",
   "metadata": {},
   "outputs": [
    {
     "data": {
      "text/plain": [
       "(array([5.000e+00, 7.000e+00, 1.800e+01, 3.000e+01, 6.300e+01, 1.070e+02,\n",
       "        1.380e+02, 1.940e+02, 2.290e+02, 2.950e+02, 3.190e+02, 3.780e+02,\n",
       "        3.180e+02, 3.820e+02, 3.300e+02, 3.270e+02, 3.140e+02, 2.960e+02,\n",
       "        3.060e+02, 4.400e+02, 5.090e+02, 6.790e+02, 7.180e+02, 7.390e+02,\n",
       "        7.150e+02, 7.190e+02, 6.610e+02, 6.330e+02, 7.100e+02, 7.090e+02,\n",
       "        7.090e+02, 7.900e+02, 8.700e+02, 8.340e+02, 9.090e+02, 9.350e+02,\n",
       "        9.620e+02, 9.520e+02, 9.620e+02, 1.006e+03, 1.055e+03, 1.074e+03,\n",
       "        1.054e+03, 1.156e+03, 1.207e+03, 1.191e+03, 1.327e+03, 1.316e+03,\n",
       "        1.322e+03, 2.503e+03, 2.872e+03, 2.159e+03, 1.763e+03, 1.570e+03,\n",
       "        1.458e+03, 1.362e+03, 1.329e+03, 1.330e+03, 1.251e+03, 1.232e+03,\n",
       "        1.163e+03, 1.217e+03, 1.269e+03, 1.258e+03, 1.214e+03, 1.256e+03,\n",
       "        1.185e+03, 1.093e+03, 1.079e+03, 9.820e+02, 9.150e+02, 8.270e+02,\n",
       "        7.550e+02, 6.280e+02, 5.610e+02, 5.500e+02, 4.620e+02, 4.380e+02,\n",
       "        3.450e+02, 3.360e+02, 3.300e+02, 2.650e+02, 2.880e+02, 2.350e+02,\n",
       "        1.940e+02, 2.000e+02, 1.730e+02, 1.410e+02, 1.380e+02, 1.100e+02,\n",
       "        7.500e+01, 7.100e+01, 5.600e+01, 2.700e+01, 2.400e+01, 1.200e+01,\n",
       "        4.000e+00, 4.000e+00, 1.000e+00, 3.000e+00]),\n",
       " array([-2.20296388, -2.15806067, -2.11315747, -2.06825426, -2.02335105,\n",
       "        -1.97844785, -1.93354464, -1.88864143, -1.84373822, -1.79883502,\n",
       "        -1.75393181, -1.7090286 , -1.66412539, -1.61922219, -1.57431898,\n",
       "        -1.52941577, -1.48451256, -1.43960936, -1.39470615, -1.34980294,\n",
       "        -1.30489973, -1.25999653, -1.21509332, -1.17019011, -1.1252869 ,\n",
       "        -1.0803837 , -1.03548049, -0.99057728, -0.94567408, -0.90077087,\n",
       "        -0.85586766, -0.81096445, -0.76606125, -0.72115804, -0.67625483,\n",
       "        -0.63135162, -0.58644842, -0.54154521, -0.496642  , -0.45173879,\n",
       "        -0.40683559, -0.36193238, -0.31702917, -0.27212596, -0.22722276,\n",
       "        -0.18231955, -0.13741634, -0.09251313, -0.04760993, -0.00270672,\n",
       "         0.04219649,  0.08709969,  0.1320029 ,  0.17690611,  0.22180932,\n",
       "         0.26671252,  0.31161573,  0.35651894,  0.40142215,  0.44632535,\n",
       "         0.49122856,  0.53613177,  0.58103498,  0.62593818,  0.67084139,\n",
       "         0.7157446 ,  0.76064781,  0.80555101,  0.85045422,  0.89535743,\n",
       "         0.94026064,  0.98516384,  1.03006705,  1.07497026,  1.11987346,\n",
       "         1.16477667,  1.20967988,  1.25458309,  1.29948629,  1.3443895 ,\n",
       "         1.38929271,  1.43419592,  1.47909912,  1.52400233,  1.56890554,\n",
       "         1.61380875,  1.65871195,  1.70361516,  1.74851837,  1.79342158,\n",
       "         1.83832478,  1.88322799,  1.9281312 ,  1.97303441,  2.01793761,\n",
       "         2.06284082,  2.10774403,  2.15264723,  2.19755044,  2.24245365,\n",
       "         2.28735686]),\n",
       " <BarContainer object of 100 artists>)"
      ]
     },
     "execution_count": 40,
     "metadata": {},
     "output_type": "execute_result"
    },
    {
     "data": {
      "image/png": "[encoded data removed]",
      "text/plain": [
       "<Figure size 432x288 with 1 Axes>"
      ]
     },
     "metadata": {
      "needs_background": "light"
     },
     "output_type": "display_data"
    }
   ],
   "source": [
    "plt.hist(out.detach().flatten().numpy(), bins=100)"
   ]
  },
  {
   "cell_type": "markdown",
   "id": "f767cafe",
   "metadata": {},
   "source": [
    "# TEST scaled tensor"
   ]
  },
  {
   "cell_type": "code",
   "execution_count": 27,
   "id": "83c45378",
   "metadata": {},
   "outputs": [],
   "source": [
    "def showHist(tensor, scaledTensor, isCartesian=False):\n",
    "    if isCartesian:\n",
    "        no_elem = 4\n",
    "    else:\n",
    "        no_elem = 3\n",
    "    for i in range(no_elem):\n",
    "        plt.hist(Tensor[:,:,i].flatten(), bins = 100, color = \"lightblue\", label='unscaled')\n",
    "        plt.hist(scaledTensor[:,:,i].flatten(), bins=100, color = \"red\", label='scaled')\n",
    "        plt.legend(loc='upper right')\n",
    "        plt.title(f\"Hist column{i}\")\n",
    "        plt.show()\n",
    "    \n",
    "# CAREFUL peak at 0 because of padding when jets"
   ]
  },
  {
   "cell_type": "code",
   "execution_count": 29,
   "id": "17d23d3e",
   "metadata": {},
   "outputs": [
    {
     "data": {
      "image/png": "[encoded data removed]",
      "text/plain": [
       "<Figure size 432x288 with 1 Axes>"
      ]
     },
     "metadata": {
      "needs_background": "light"
     },
     "output_type": "display_data"
    },
    {
     "data": {
      "image/png": "[encoded data removed]",
      "text/plain": [
       "<Figure size 432x288 with 1 Axes>"
      ]
     },
     "metadata": {
      "needs_background": "light"
     },
     "output_type": "display_data"
    },
    {
     "data": {
      "image/png": "[encoded data removed]",
      "text/plain": [
       "<Figure size 432x288 with 1 Axes>"
      ]
     },
     "metadata": {
      "needs_background": "light"
     },
     "output_type": "display_data"
    },
    {
     "data": {
      "image/png": "[encoded data removed]",
      "text/plain": [
       "<Figure size 432x288 with 1 Axes>"
      ]
     },
     "metadata": {
      "needs_background": "light"
     },
     "output_type": "display_data"
    }
   ],
   "source": [
    "scaledTensor = data_cuda.reco_data.scaledLogRecoParticlesCartesian.detach().cpu().numpy()\n",
    "Tensor = data_cuda.reco_data.LogRecoParticlesCartesian.detach().cpu().numpy()\n",
    "showHist(Tensor, scaledTensor, isCartesian=True)"
   ]
  },
  {
   "cell_type": "code",
   "execution_count": 31,
   "id": "f0b721fb",
   "metadata": {},
   "outputs": [
    {
     "name": "stdout",
     "output_type": "stream",
     "text": [
      "(569993, 15, 5)\n"
     ]
    },
    {
     "data": {
      "image/png": "[encoded data removed]",
      "text/plain": [
       "<Figure size 432x288 with 1 Axes>"
      ]
     },
     "metadata": {
      "needs_background": "light"
     },
     "output_type": "display_data"
    },
    {
     "data": {
      "image/png": "[encoded data removed]",
      "text/plain": [
       "<Figure size 432x288 with 1 Axes>"
      ]
     },
     "metadata": {
      "needs_background": "light"
     },
     "output_type": "display_data"
    },
    {
     "data": {
      "image/png": "[encoded data removed]",
      "text/plain": [
       "<Figure size 432x288 with 1 Axes>"
      ]
     },
     "metadata": {
      "needs_background": "light"
     },
     "output_type": "display_data"
    }
   ],
   "source": [
    "scaledTensor = data_cuda.reco_data.scaledLogJets.detach().cpu().numpy()\n",
    "Tensor = data_cuda.reco_data.LogJets.detach().cpu().numpy()\n",
    "showHist(Tensor, scaledTensor, isCartesian=False)"
   ]
  },
  {
   "cell_type": "code",
   "execution_count": 32,
   "id": "1041dfe1",
   "metadata": {},
   "outputs": [
    {
     "data": {
      "image/png": "[encoded data removed]",
      "text/plain": [
       "<Figure size 432x288 with 1 Axes>"
      ]
     },
     "metadata": {
      "needs_background": "light"
     },
     "output_type": "display_data"
    },
    {
     "data": {
      "image/png": "[encoded data removed]",
      "text/plain": [
       "<Figure size 432x288 with 1 Axes>"
      ]
     },
     "metadata": {
      "needs_background": "light"
     },
     "output_type": "display_data"
    },
    {
     "data": {
      "image/png": "[encoded data removed]",
      "text/plain": [
       "<Figure size 432x288 with 1 Axes>"
      ]
     },
     "metadata": {
      "needs_background": "light"
     },
     "output_type": "display_data"
    }
   ],
   "source": [
    "scaledTensor = data_cuda.reco_data.scaledLogLepton.detach().cpu().numpy()\n",
    "Tensor = data_cuda.reco_data.LogLepton.detach().cpu().numpy()\n",
    "showHist(Tensor, scaledTensor, isCartesian=False)"
   ]
  },
  {
   "cell_type": "code",
   "execution_count": 33,
   "id": "d8938b02",
   "metadata": {},
   "outputs": [
    {
     "data": {
      "image/png": "[encoded data removed]",
      "text/plain": [
       "<Figure size 432x288 with 1 Axes>"
      ]
     },
     "metadata": {
      "needs_background": "light"
     },
     "output_type": "display_data"
    },
    {
     "data": {
      "image/png": "[encoded data removed]",
      "text/plain": [
       "<Figure size 432x288 with 1 Axes>"
      ]
     },
     "metadata": {
      "needs_background": "light"
     },
     "output_type": "display_data"
    },
    {
     "data": {
      "image/png": "[encoded data removed]",
      "text/plain": [
       "<Figure size 432x288 with 1 Axes>"
      ]
     },
     "metadata": {
      "needs_background": "light"
     },
     "output_type": "display_data"
    }
   ],
   "source": [
    "scaledTensor = data_cuda.reco_data.scaledLogMet.detach().cpu().numpy()\n",
    "Tensor = data_cuda.reco_data.LogMet.detach().cpu().numpy()\n",
    "showHist(Tensor, scaledTensor, isCartesian=False)"
   ]
  },
  {
   "cell_type": "code",
   "execution_count": 34,
   "id": "5fe86c34",
   "metadata": {},
   "outputs": [
    {
     "data": {
      "image/png": "[encoded data removed]",
      "text/plain": [
       "<Figure size 432x288 with 1 Axes>"
      ]
     },
     "metadata": {
      "needs_background": "light"
     },
     "output_type": "display_data"
    },
    {
     "data": {
      "image/png": "[encoded data removed]",
      "text/plain": [
       "<Figure size 432x288 with 1 Axes>"
      ]
     },
     "metadata": {
      "needs_background": "light"
     },
     "output_type": "display_data"
    },
    {
     "data": {
      "image/png": "[encoded data removed]",
      "text/plain": [
       "<Figure size 432x288 with 1 Axes>"
      ]
     },
     "metadata": {
      "needs_background": "light"
     },
     "output_type": "display_data"
    },
    {
     "data": {
      "image/png": "[encoded data removed]",
      "text/plain": [
       "<Figure size 432x288 with 1 Axes>"
      ]
     },
     "metadata": {
      "needs_background": "light"
     },
     "output_type": "display_data"
    }
   ],
   "source": [
    "scaledTensor = data_cuda.reco_data.scaledLogBoost.detach().cpu().numpy()\n",
    "Tensor = data_cuda.reco_data.LogBoost.detach().cpu().numpy()\n",
    "showHist(Tensor, scaledTensor, isCartesian=True)"
   ]
  },
  {
   "cell_type": "code",
   "execution_count": 36,
   "id": "cab2a997",
   "metadata": {},
   "outputs": [
    {
     "data": {
      "image/png": "[encoded data removed]",
      "text/plain": [
       "<Figure size 432x288 with 1 Axes>"
      ]
     },
     "metadata": {
      "needs_background": "light"
     },
     "output_type": "display_data"
    },
    {
     "data": {
      "image/png": "[encoded data removed]",
      "text/plain": [
       "<Figure size 432x288 with 1 Axes>"
      ]
     },
     "metadata": {
      "needs_background": "light"
     },
     "output_type": "display_data"
    },
    {
     "data": {
      "image/png": "[encoded data removed]",
      "text/plain": [
       "<Figure size 432x288 with 1 Axes>"
      ]
     },
     "metadata": {
      "needs_background": "light"
     },
     "output_type": "display_data"
    }
   ],
   "source": [
    "scaledTensor = data_cuda.reco_data.scaledLogRecoParticles.detach().cpu().numpy()\n",
    "Tensor = data_cuda.reco_data.LogRecoParticles.detach().cpu().numpy()\n",
    "showHist(Tensor, scaledTensor, isCartesian=False)"
   ]
  },
  {
   "cell_type": "code",
   "execution_count": null,
   "id": "06cc3231",
   "metadata": {},
   "outputs": [],
   "source": []
  },
  {
   "cell_type": "markdown",
   "id": "5c287f81",
   "metadata": {},
   "source": [
    "# Test Parton_Level"
   ]
  },
  {
   "cell_type": "code",
   "execution_count": 11,
   "id": "b534b609",
   "metadata": {},
   "outputs": [],
   "source": [
    "unscaledTensor = data_cuda.parton_data.log_data_higgs_t_tbar_ISR_cartesian.detach().cpu().numpy()\n",
    "scaledTensor = data_cuda.parton_data.logScaled_data_higgs_t_tbar_ISR_cartesian.detach().cpu().numpy()"
   ]
  },
  {
   "cell_type": "code",
   "execution_count": 20,
   "id": "559c6a40",
   "metadata": {},
   "outputs": [
    {
     "data": {
      "image/png": "[encoded data removed]",
      "text/plain": [
       "<Figure size 432x288 with 1 Axes>"
      ]
     },
     "metadata": {
      "needs_background": "light"
     },
     "output_type": "display_data"
    },
    {
     "data": {
      "image/png": "[encoded data removed]",
      "text/plain": [
       "<Figure size 432x288 with 1 Axes>"
      ]
     },
     "metadata": {
      "needs_background": "light"
     },
     "output_type": "display_data"
    },
    {
     "data": {
      "image/png": "[encoded data removed]",
      "text/plain": [
       "<Figure size 432x288 with 1 Axes>"
      ]
     },
     "metadata": {
      "needs_background": "light"
     },
     "output_type": "display_data"
    },
    {
     "data": {
      "image/png": "[encoded data removed]",
      "text/plain": [
       "<Figure size 432x288 with 1 Axes>"
      ]
     },
     "metadata": {
      "needs_background": "light"
     },
     "output_type": "display_data"
    }
   ],
   "source": [
    "for i in range(4):\n",
    "    plt.hist(unscaledTensor[:,:,i].flatten(), bins = 100, color = \"lightblue\", label='unscaled')\n",
    "    plt.hist(scaledTensor[:,:,i].flatten(), bins=100, color = \"red\", label='scaled')\n",
    "    plt.legend(loc='upper right')\n",
    "    plt.title(f\"Hist column{i}\")\n",
    "    plt.show()"
   ]
  },
  {
   "cell_type": "code",
   "execution_count": null,
   "id": "49403010",
   "metadata": {},
   "outputs": [],
   "source": []
  }
 ],
 "metadata": {
  "kernelspec": {
   "display_name": "myenv",
   "language": "python",
   "name": "myenv"
  },
  "language_info": {
   "codemirror_mode": {
    "name": "ipython",
    "version": 3
   },
   "file_extension": ".py",
   "mimetype": "text/x-python",
   "name": "python",
   "nbconvert_exporter": "python",
   "pygments_lexer": "ipython3",
   "version": "3.9.12"
  }
 },
 "nbformat": 4,
 "nbformat_minor": 5
}
