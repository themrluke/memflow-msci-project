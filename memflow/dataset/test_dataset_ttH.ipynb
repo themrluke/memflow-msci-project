{
 "cells": [
  {
   "cell_type": "code",
   "execution_count": 1,
   "id": "b0a7bc2a-42e5-48ff-8ddd-a01ed240d9d1",
   "metadata": {},
   "outputs": [],
   "source": [
    "%load_ext autoreload\n",
    "%autoreload 2\n",
    "\n",
    "import copy\n",
    "import torch\n",
    "import numpy as np\n",
    "import awkward as ak\n",
    "import uproot\n",
    "import pandas as pd\n",
    "import dask\n",
    "import vector\n",
    "import particle\n",
    "import hepunits\n",
    "\n",
    "from torch.utils.data import DataLoader\n",
    "\n",
    "from memflow.dataset.data import RootData,ParquetData\n",
    "from memflow.dataset.dataset import CombinedDataset\n",
    "from memflow.dataset.tth import ttHRecoDataset,ttHGenDataset\n",
    "from memflow.read_data import utils\n",
    "\n",
    "vector.register_awkward()"
   ]
  },
  {
   "cell_type": "code",
   "execution_count": 2,
   "id": "d6a68956-c2a9-4fbd-b11a-9025f8339cb4",
   "metadata": {
    "scrolled": true
   },
   "outputs": [
    {
     "name": "stdout",
     "output_type": "stream",
     "text": [
      "Data object\n",
      "Loaded branches:\n",
      "   ... file: 462769\n",
      "   ... sample: 462769\n",
      "   ... tree: 462769\n",
      "Branch in files not loaded:\n",
      "   ... generator_info\n",
      "   ... higgs\n",
      "   ... jets\n",
      "   ... lepton_partons\n",
      "   ... lepton_reco\n",
      "   ... met\n",
      "   ... partons\n",
      "   ... partons_matched\n",
      "   ... weight\n"
     ]
    }
   ],
   "source": [
    "data = ParquetData(\n",
    "    files = [\n",
    "        'all_jets_fullRun2_ttHTobb_forTraining_2016_PreVFP_v3.parquet',\n",
    "    ],\n",
    "    lazy = True,\n",
    "    #N = 100000,\n",
    ")\n",
    "print (data)"
   ]
  },
  {
   "cell_type": "code",
   "execution_count": 3,
   "id": "abd35299-f40b-4864-9132-67a95e03acd3",
   "metadata": {},
   "outputs": [
    {
     "name": "stderr",
     "output_type": "stream",
     "text": [
      "/home/lw23382/anaconda3/envs/mem-flow/lib/python3.10/site-packages/numpy/core/_methods.py:176: RuntimeWarning: overflow encountered in multiply\n",
      "  x = um.multiply(x, x, out=x)\n",
      "/home/lw23382/anaconda3/envs/mem-flow/lib/python3.10/site-packages/numpy/core/_methods.py:187: RuntimeWarning: overflow encountered in reduce\n",
      "  ret = umr_sum(x, axis, dtype, out, keepdims=keepdims, where=where)\n"
     ]
    },
    {
     "name": "stdout",
     "output_type": "stream",
     "text": [
      "Saving objects to /home/lw23382/Documents/MEM_DNN_project/MEMFlow/memflow/dataset/tth_gen\n",
      "Parton dataset with 462769 events\n",
      " Initial states pdgids : [21, 21]\n",
      " Final states pdgids   : [25, 6, -6, 21]\n",
      " Final states masses   : [125.25, 172.5, 172.5, 0.0]\n",
      "Containing the following tensors\n",
      "boost         : data ([462769, 1, 4]), mask ([462769, 1])\n",
      "                Presences : [100.00%]\n",
      "                Features : ['x', 'y', 'z', 't']\n",
      "                Selected for batches : True\n",
      "partons       : data ([462769, 7, 6]), mask ([462769, 7])\n",
      "                Presences : [100.00%, 100.00%, 100.00%, 100.00%, 100.00%, 100.00%, 99.99%]\n",
      "                Features : ['pt', 'eta', 'phi', 'mass', 'pdgId', 'prov']\n",
      "                Selected for batches : True\n",
      "leptons       : data ([462769, 2, 5]), mask ([462769, 2])\n",
      "                Presences : [100.00%, 100.00%]\n",
      "                Features : ['pt', 'eta', 'phi', 'mass', 'pdgId']\n",
      "                Selected for batches : False\n",
      "higgs         : data ([462769, 1, 4]), mask ([462769, 1])\n",
      "                Presences : [100.00%]\n",
      "                Features : ['E', 'px', 'py', 'pz']\n",
      "                Selected for batches : True\n",
      "W_leptonic    : data ([462769, 1, 4]), mask ([462769, 1])\n",
      "                Presences : [100.00%]\n",
      "                Features : ['E', 'px', 'py', 'pz']\n",
      "                Selected for batches : False\n",
      "W_hadronic    : data ([462769, 1, 4]), mask ([462769, 1])\n",
      "                Presences : [100.00%]\n",
      "                Features : ['E', 'px', 'py', 'pz']\n",
      "                Selected for batches : False\n",
      "top_leptonic  : data ([462769, 1, 4]), mask ([462769, 1])\n",
      "                Presences : [100.00%]\n",
      "                Features : ['E', 'px', 'py', 'pz']\n",
      "                Selected for batches : True\n",
      "top_hadronic  : data ([462769, 1, 4]), mask ([462769, 1])\n",
      "                Presences : [100.00%]\n",
      "                Features : ['E', 'px', 'py', 'pz']\n",
      "                Selected for batches : True\n",
      "ISR           : data ([462769, 1, 4]), mask ([462769, 1])\n",
      "                Presences : [99.99%]\n",
      "                Features : ['E', 'px', 'py', 'pz']\n",
      "                Selected for batches : True\n",
      "ps            : data ([462769, 10, 1]), mask ([462769, 10])\n",
      "                Presences : [100.00%, 100.00%, 100.00%, 100.00%, 100.00%, 100.00%, 100.00%, 100.00%, 100.00%, 100.00%]\n",
      "                Features : ['ps_0', 'ps_1', 'ps_2', 'ps_3', 'ps_4', 'ps_5', 'ps_6', 'ps_7', 'ps_8', 'ps_9']\n",
      "                Selected for batches : False\n",
      "detjinv       : data ([462769, 1, 1]), mask ([462769, 1])\n",
      "                Presences : [100.00%]\n",
      "                Features : ['det']\n",
      "                Selected for batches : False\n"
     ]
    }
   ],
   "source": [
    "gen_dataset = ttHGenDataset(\n",
    "    data = data,\n",
    "    selection = [\n",
    "        'boost',\n",
    "        'partons',\n",
    "        'higgs',\n",
    "        'top_leptonic',\n",
    "        'top_hadronic',\n",
    "        'ISR',\n",
    "    ],\n",
    "    build = True,\n",
    ")\n",
    "print (gen_dataset)"
   ]
  },
  {
   "cell_type": "code",
   "execution_count": 4,
   "id": "47776673-da9c-4c0d-b92d-39a73349df2f",
   "metadata": {},
   "outputs": [
    {
     "name": "stdout",
     "output_type": "stream",
     "text": [
      "boost torch.Size([32, 1, 4])\n",
      "partons torch.Size([32, 7, 6])\n",
      "higgs torch.Size([32, 1, 4])\n",
      "top_leptonic torch.Size([32, 1, 4])\n",
      "top_hadronic torch.Size([32, 1, 4])\n",
      "ISR torch.Size([32, 1, 4])\n"
     ]
    }
   ],
   "source": [
    "loader_parton = DataLoader(\n",
    "    gen_dataset,\n",
    "    batch_size = 32,\n",
    ")\n",
    "batch = next(iter(loader_parton))\n",
    "\n",
    "for obj,sel in zip(batch,loader_parton.dataset.selection):\n",
    "    print (sel,obj.shape)"
   ]
  },
  {
   "cell_type": "code",
   "execution_count": 5,
   "id": "e781dae8-05ad-462e-b91a-bc544337a39f",
   "metadata": {},
   "outputs": [
    {
     "name": "stdout",
     "output_type": "stream",
     "text": [
      "Saving objects to /home/lw23382/Documents/MEM_DNN_project/MEMFlow/memflow/dataset/tth_reco\n",
      "Object boost : discarding features ['m']\n",
      "Object jets : discarding features ['m', 'matched', 'prov']\n",
      "Object lepton : discarding features ['m']\n",
      "Object met : discarding features ['m']\n",
      "Reco dataset with 462769 events\n",
      "Containing the following tensors\n",
      "boost   : data ([462769, 1, 5]), mask ([462769, 1])\n",
      "          Presences : [100.00%]\n",
      "          Features : ['pt', 'eta', 'phi', 'mass', 'btag']\n",
      "          Selected for batches : False\n",
      "jets    : data ([462769, 15, 5]), mask ([462769, 15])\n",
      "          Presences : [100.00%, 100.00%, 100.00%, 100.00%, 79.92%, 46.55%, 20.02%, 6.95%, 2.11%, 0.57%, 0.13%, 0.03%, <0.01%, <0.01%, <0.01%]\n",
      "          Features : ['pt', 'eta', 'phi', 'mass', 'btag']\n",
      "          Selected for batches : True\n",
      "lepton  : data ([462769, 1, 5]), mask ([462769, 1])\n",
      "          Presences : [100.00%]\n",
      "          Features : ['pt', 'eta', 'phi', 'mass', 'btag']\n",
      "          Selected for batches : True\n",
      "met     : data ([462769, 1, 5]), mask ([462769, 1])\n",
      "          Presences : [100.00%]\n",
      "          Features : ['pt', 'eta', 'phi', 'mass', 'btag']\n",
      "          Selected for batches : True\n"
     ]
    }
   ],
   "source": [
    "reco_dataset = ttHRecoDataset(\n",
    "    data = data,\n",
    "    selection = [\n",
    "        'jets',\n",
    "        'lepton',\n",
    "        'met',\n",
    "    ],\n",
    "    default_features = {\n",
    "        'pt' : 0.,\n",
    "        'eta' : 0.,\n",
    "        'phi' : 0.,\n",
    "        'mass' : 0.,\n",
    "        'btag' : -1.,\n",
    "    },\n",
    "    build = True,\n",
    ")\n",
    "print (reco_dataset)"
   ]
  },
  {
   "cell_type": "code",
   "execution_count": 6,
   "id": "c290aa9f-1bed-4c0e-b461-73f2c465db45",
   "metadata": {},
   "outputs": [
    {
     "name": "stdout",
     "output_type": "stream",
     "text": [
      "jets torch.Size([32, 15, 5])\n",
      "lepton torch.Size([32, 1, 5])\n",
      "met torch.Size([32, 1, 5])\n"
     ]
    }
   ],
   "source": [
    "loader_reco = DataLoader(\n",
    "    reco_dataset,\n",
    "    batch_size = 32,\n",
    ")\n",
    "batch = next(iter(loader_reco))\n",
    "\n",
    "for obj,sel in zip(batch,loader_reco.dataset.selection):\n",
    "    print (sel,obj.shape)"
   ]
  },
  {
   "cell_type": "code",
   "execution_count": 7,
   "id": "c12a63d7-eafc-43ef-8147-d0887d4bceec",
   "metadata": {},
   "outputs": [
    {
     "name": "stdout",
     "output_type": "stream",
     "text": [
      "Combined dataset :\n",
      "Parton dataset with 462769 events\n",
      " Initial states pdgids : [21, 21]\n",
      " Final states pdgids   : [25, 6, -6, 21]\n",
      " Final states masses   : [125.25, 172.5, 172.5, 0.0]\n",
      "Containing the following tensors\n",
      "boost         : data ([462769, 1, 4]), mask ([462769, 1])\n",
      "                Presences : [100.00%]\n",
      "                Features : ['x', 'y', 'z', 't']\n",
      "                Selected for batches : True\n",
      "partons       : data ([462769, 7, 6]), mask ([462769, 7])\n",
      "                Presences : [100.00%, 100.00%, 100.00%, 100.00%, 100.00%, 100.00%, 99.99%]\n",
      "                Features : ['pt', 'eta', 'phi', 'mass', 'pdgId', 'prov']\n",
      "                Selected for batches : True\n",
      "leptons       : data ([462769, 2, 5]), mask ([462769, 2])\n",
      "                Presences : [100.00%, 100.00%]\n",
      "                Features : ['pt', 'eta', 'phi', 'mass', 'pdgId']\n",
      "                Selected for batches : False\n",
      "higgs         : data ([462769, 1, 4]), mask ([462769, 1])\n",
      "                Presences : [100.00%]\n",
      "                Features : ['E', 'px', 'py', 'pz']\n",
      "                Selected for batches : True\n",
      "W_leptonic    : data ([462769, 1, 4]), mask ([462769, 1])\n",
      "                Presences : [100.00%]\n",
      "                Features : ['E', 'px', 'py', 'pz']\n",
      "                Selected for batches : False\n",
      "W_hadronic    : data ([462769, 1, 4]), mask ([462769, 1])\n",
      "                Presences : [100.00%]\n",
      "                Features : ['E', 'px', 'py', 'pz']\n",
      "                Selected for batches : False\n",
      "top_leptonic  : data ([462769, 1, 4]), mask ([462769, 1])\n",
      "                Presences : [100.00%]\n",
      "                Features : ['E', 'px', 'py', 'pz']\n",
      "                Selected for batches : True\n",
      "top_hadronic  : data ([462769, 1, 4]), mask ([462769, 1])\n",
      "                Presences : [100.00%]\n",
      "                Features : ['E', 'px', 'py', 'pz']\n",
      "                Selected for batches : True\n",
      "ISR           : data ([462769, 1, 4]), mask ([462769, 1])\n",
      "                Presences : [99.99%]\n",
      "                Features : ['E', 'px', 'py', 'pz']\n",
      "                Selected for batches : True\n",
      "ps            : data ([462769, 10, 1]), mask ([462769, 10])\n",
      "                Presences : [100.00%, 100.00%, 100.00%, 100.00%, 100.00%, 100.00%, 100.00%, 100.00%, 100.00%, 100.00%]\n",
      "                Features : ['ps_0', 'ps_1', 'ps_2', 'ps_3', 'ps_4', 'ps_5', 'ps_6', 'ps_7', 'ps_8', 'ps_9']\n",
      "                Selected for batches : False\n",
      "detjinv       : data ([462769, 1, 1]), mask ([462769, 1])\n",
      "                Presences : [100.00%]\n",
      "                Features : ['det']\n",
      "                Selected for batches : False\n",
      "Reco dataset with 462769 events\n",
      "Containing the following tensors\n",
      "boost   : data ([462769, 1, 5]), mask ([462769, 1])\n",
      "          Presences : [100.00%]\n",
      "          Features : ['pt', 'eta', 'phi', 'mass', 'btag']\n",
      "          Selected for batches : False\n",
      "jets    : data ([462769, 15, 5]), mask ([462769, 15])\n",
      "          Presences : [100.00%, 100.00%, 100.00%, 100.00%, 79.92%, 46.55%, 20.02%, 6.95%, 2.11%, 0.57%, 0.13%, 0.03%, <0.01%, <0.01%, <0.01%]\n",
      "          Features : ['pt', 'eta', 'phi', 'mass', 'btag']\n",
      "          Selected for batches : True\n",
      "lepton  : data ([462769, 1, 5]), mask ([462769, 1])\n",
      "          Presences : [100.00%]\n",
      "          Features : ['pt', 'eta', 'phi', 'mass', 'btag']\n",
      "          Selected for batches : True\n",
      "met     : data ([462769, 1, 5]), mask ([462769, 1])\n",
      "          Presences : [100.00%]\n",
      "          Features : ['pt', 'eta', 'phi', 'mass', 'btag']\n",
      "          Selected for batches : True\n"
     ]
    }
   ],
   "source": [
    "comb_dataset = CombinedDataset(\n",
    "    gen_dataset = gen_dataset,\n",
    "    reco_dataset = reco_dataset,\n",
    ")\n",
    "print (comb_dataset)"
   ]
  },
  {
   "cell_type": "code",
   "execution_count": 8,
   "id": "76acc7c1-02e8-4c7f-8354-69090de0a9a5",
   "metadata": {},
   "outputs": [
    {
     "name": "stdout",
     "output_type": "stream",
     "text": [
      "boost torch.Size([32, 1, 4])\n",
      "partons torch.Size([32, 7, 6])\n",
      "higgs torch.Size([32, 1, 4])\n",
      "top_leptonic torch.Size([32, 1, 4])\n",
      "top_hadronic torch.Size([32, 1, 4])\n",
      "ISR torch.Size([32, 1, 4])\n",
      "jets torch.Size([32, 15, 5])\n",
      "lepton torch.Size([32, 1, 5])\n",
      "met torch.Size([32, 1, 5])\n"
     ]
    }
   ],
   "source": [
    "loader_comb = DataLoader(\n",
    "    comb_dataset,\n",
    "    batch_size = 32,\n",
    ")\n",
    "batch = next(iter(loader_comb))\n",
    "\n",
    "for obj,sel in zip(batch,loader_comb.dataset.gen_dataset.selection+loader_comb.dataset.reco_dataset.selection):\n",
    "    print (sel,obj.shape)"
   ]
  },
  {
   "cell_type": "code",
   "execution_count": null,
   "id": "29d1a603-2888-49e5-805a-d9f0ca8d04dd",
   "metadata": {},
   "outputs": [],
   "source": []
  }
 ],
 "metadata": {
  "kernelspec": {
   "display_name": "Python 3 (ipykernel)",
   "language": "python",
   "name": "python3"
  },
  "language_info": {
   "codemirror_mode": {
    "name": "ipython",
    "version": 3
   },
   "file_extension": ".py",
   "mimetype": "text/x-python",
   "name": "python",
   "nbconvert_exporter": "python",
   "pygments_lexer": "ipython3",
   "version": "3.10.13"
  }
 },
 "nbformat": 4,
 "nbformat_minor": 5
}
