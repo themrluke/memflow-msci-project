{
 "cells": [
  {
   "cell_type": "code",
   "execution_count": 2,
   "id": "e05fb560-8cf0-480c-ab72-85c0b1d766c9",
   "metadata": {},
   "outputs": [
    {
     "name": "stdout",
     "output_type": "stream",
     "text": [
      "The autoreload extension is already loaded. To reload it, use:\n",
      "  %reload_ext autoreload\n"
     ]
    }
   ],
   "source": [
    "%load_ext autoreload\n",
    "%autoreload 2\n",
    "    \n",
    "import numpy as np\n",
    "import awkward as ak\n",
    "\n",
    "import pandas as pd\n",
    "import dask\n",
    "import vector\n",
    "import particle\n",
    "import hepunits\n",
    "\n",
    "\n",
    "from memflow.read_data import utils\n",
    "from data import RootData,ParquetData\n",
    "\n",
    "vector.register_awkward()"
   ]
  },
  {
   "cell_type": "code",
   "execution_count": 3,
   "id": "6d4703f3-1282-471b-a940-979b6031868d",
   "metadata": {},
   "outputs": [
    {
     "name": "stdout",
     "output_type": "stream",
     "text": [
      "Data object\n",
      "Loaded branches:\n",
      "   ... file: 100000\n",
      "   ... sample: 100000\n",
      "   ... tree: 100000\n",
      "Branch in files not loaded:\n",
      "   ... generator_info\n",
      "   ... higgs\n",
      "   ... jets\n",
      "   ... lepton_partons\n",
      "   ... lepton_reco\n",
      "   ... met\n",
      "   ... partons\n",
      "   ... partons_matched\n",
      "   ... weight\n"
     ]
    }
   ],
   "source": [
    "data = ParquetData(\n",
    "    files = [\n",
    "        'all_jets_fullRun2_ttHTobb_forTraining_2016_PreVFP_v3.parquet',\n",
    "    ],\n",
    "    lazy = True,\n",
    "    N = 100000,\n",
    ")\n",
    "print (data)"
   ]
  },
  {
   "cell_type": "code",
   "execution_count": 4,
   "id": "4790053b-1a44-4e1e-9e42-9e7bed1bafde",
   "metadata": {
    "scrolled": true
   },
   "outputs": [],
   "source": [
    "data.make_particles('lepton_reco_vec','lepton_reco')\n",
    "data.make_particles('jets_vec','jets')"
   ]
  },
  {
   "cell_type": "code",
   "execution_count": 5,
   "id": "2965e439-055c-4194-a157-6a2751855d03",
   "metadata": {
    "scrolled": true
   },
   "outputs": [
    {
     "name": "stdout",
     "output_type": "stream",
     "text": [
      "100000 * var * Momentum4D[\n",
      "    pt: float32,\n",
      "    eta: float32,\n",
      "    phi: float32,\n",
      "    m: float32\n",
      "]\n",
      "100000 * var * Momentum4D[\n",
      "    pt: float32,\n",
      "    eta: float32,\n",
      "    phi: float32,\n",
      "    btag: float32,\n",
      "    m: float32,\n",
      "    matched: bool,\n",
      "    prov: float64\n",
      "]\n"
     ]
    }
   ],
   "source": [
    "data['lepton_reco_vec'].type.show()\n",
    "data['jets_vec'].type.show()"
   ]
  },
  {
   "cell_type": "code",
   "execution_count": 6,
   "id": "de3074fa-541b-45fe-b90e-1c656be0d6c5",
   "metadata": {},
   "outputs": [
    {
     "name": "stdout",
     "output_type": "stream",
     "text": [
      "5\n",
      "4\n",
      "5\n",
      "7\n",
      "7\n"
     ]
    }
   ],
   "source": [
    "for i in range(5):\n",
    "    print (len(data['jets_vec'][i]))"
   ]
  },
  {
   "cell_type": "code",
   "execution_count": 7,
   "id": "26fdd497-9bdd-4be3-b941-ae6bd10551ba",
   "metadata": {},
   "outputs": [
    {
     "data": {
      "text/html": [
       "<pre>[{pt: 30.6, eta: 3.99, phi: -2.53, mass: 0.33, pdgId: 1, prov: 4},\n",
       " {pt: 153, eta: -0.313, phi: 0.942, mass: 4.75, pdgId: 5, prov: 3},\n",
       " {pt: 167, eta: 0.802, phi: -1.56, mass: 4.75, pdgId: -5, prov: 2},\n",
       " {pt: 27.9, eta: 0.296, phi: -1.28, mass: 0.5, pdgId: 3, prov: 5},\n",
       " {pt: 81.8, eta: 1.08, phi: -2.91, mass: 1.5, pdgId: -4, prov: 5},\n",
       " {pt: 44.5, eta: 0.971, phi: -1.45, mass: 0, pdgId: 5, prov: 1},\n",
       " {pt: 82.2, eta: 0.184, phi: 1.04, mass: 0, pdgId: -5, prov: 1}]\n",
       "-------------------------------------------------------------------\n",
       "type: 7 * {\n",
       "    pt: float64,\n",
       "    eta: float64,\n",
       "    phi: float64,\n",
       "    mass: float64,\n",
       "    pdgId: float64,\n",
       "    prov: float64\n",
       "}</pre>"
      ],
      "text/plain": [
       "<Array [{pt: 30.6, eta: 3.99, ...}, ..., {...}] type='7 * {pt: float64, eta...'>"
      ]
     },
     "execution_count": 7,
     "metadata": {},
     "output_type": "execute_result"
    }
   ],
   "source": [
    "data['partons'][0]"
   ]
  },
  {
   "cell_type": "code",
   "execution_count": 8,
   "id": "2451bf8b-049f-43c7-bd52-6ceeecae2154",
   "metadata": {},
   "outputs": [
    {
     "name": "stdout",
     "output_type": "stream",
     "text": [
      "{pdgid1: 1, pdgid2: 21, x1: 0.21, x2: 0.0441}\n"
     ]
    }
   ],
   "source": [
    "print (data[\"generator_info\"][0])"
   ]
  },
  {
   "cell_type": "code",
   "execution_count": 9,
   "id": "a38e2fc2-1808-4185-8614-4da007b3dd82",
   "metadata": {},
   "outputs": [
    {
     "data": {
      "text/plain": [
       "'Momentum4D'"
      ]
     },
     "execution_count": 9,
     "metadata": {},
     "output_type": "execute_result"
    }
   ],
   "source": [
    "data['lepton_reco_vec'].layout.content.parameters['__record__']"
   ]
  },
  {
   "cell_type": "code",
   "execution_count": null,
   "id": "1c42f006-341e-43f2-bfdc-cd0a8bb43c31",
   "metadata": {},
   "outputs": [],
   "source": []
  },
  {
   "cell_type": "code",
   "execution_count": null,
   "id": "fd0f89f4-1c0c-4b3a-a05b-8ad34d7f9cd9",
   "metadata": {},
   "outputs": [],
   "source": []
  }
 ],
 "metadata": {
  "kernelspec": {
   "display_name": "Python 3 (ipykernel)",
   "language": "python",
   "name": "python3"
  },
  "language_info": {
   "codemirror_mode": {
    "name": "ipython",
    "version": 3
   },
   "file_extension": ".py",
   "mimetype": "text/x-python",
   "name": "python",
   "nbconvert_exporter": "python",
   "pygments_lexer": "ipython3",
   "version": "3.10.13"
  }
 },
 "nbformat": 4,
 "nbformat_minor": 5
}
