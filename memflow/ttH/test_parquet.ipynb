{
 "cells": [
  {
   "cell_type": "code",
   "execution_count": 1,
   "id": "e05fb560-8cf0-480c-ab72-85c0b1d766c9",
   "metadata": {},
   "outputs": [],
   "source": [
    "%load_ext autoreload\n",
    "%autoreload 2\n",
    "    \n",
    "import numpy as np\n",
    "import awkward as ak\n",
    "\n",
    "import pandas as pd\n",
    "import dask\n",
    "import vector\n",
    "import particle\n",
    "import hepunits\n",
    "\n",
    "from memflow.dataset.data import ParquetData\n",
    "\n",
    "vector.register_awkward()"
   ]
  },
  {
   "cell_type": "code",
   "execution_count": 2,
   "id": "6d4703f3-1282-471b-a940-979b6031868d",
   "metadata": {},
   "outputs": [
    {
     "name": "stdout",
     "output_type": "stream",
     "text": [
      "Data object\n",
      "Loaded branches:\n",
      "   ... file: 100000\n",
      "   ... sample: 100000\n",
      "   ... tree: 100000\n",
      "Branch in files not loaded:\n",
      "   ... generator_info\n",
      "   ... higgs\n",
      "   ... jets\n",
      "   ... lepton_partons\n",
      "   ... lepton_reco\n",
      "   ... met\n",
      "   ... partons\n",
      "   ... partons_matched\n",
      "   ... weight\n"
     ]
    }
   ],
   "source": [
    "data = ParquetData(\n",
    "    files = [\n",
    "        'all_jets_fullRun2_ttHTobb_forTraining_2016_PreVFP_v3.parquet',\n",
    "    ],\n",
    "    lazy = True,\n",
    "    N = 100000,\n",
    ")\n",
    "print (data)"
   ]
  },
  {
   "cell_type": "code",
   "execution_count": 4,
   "id": "d287a66f-41e6-4c05-9774-b9b335ba475e",
   "metadata": {},
   "outputs": [
    {
     "data": {
      "text/html": [
       "<pre>[[{pt: 43.8, eta: 0.21, phi: 2.76, m: 0}],\n",
       " [{pt: 45.1, eta: -0.487, phi: -3, m: 0}],\n",
       " [{pt: 47.9, eta: -0.74, phi: 2.61, m: 0}],\n",
       " [{pt: 60.8, eta: 0.0489, phi: -0.498, m: 0}],\n",
       " [{pt: 28.1, eta: -1.21, phi: -0.154, m: 0}],\n",
       " [{pt: 32.8, eta: 1.41, phi: 0.137, m: 0}],\n",
       " [{pt: 92.3, eta: -0.22, phi: 2.67, m: 0}],\n",
       " [{pt: 75.9, eta: 0.728, phi: 2.83, m: 0}],\n",
       " [{pt: 32.7, eta: -1.5, phi: -0.451, m: 0}],\n",
       " [{pt: 120, eta: 0.183, phi: -1.18, m: 0}],\n",
       " ...,\n",
       " [{pt: 50.6, eta: 1.74, phi: -1.44, m: 0}],\n",
       " [{pt: 37.9, eta: -1.41, phi: -1.36, m: 0}],\n",
       " [{pt: 48.1, eta: 0.64, phi: 0.113, m: 0}],\n",
       " [{pt: 83.8, eta: 0.358, phi: 0.485, m: 0}],\n",
       " [{pt: 131, eta: 1.86, phi: 2.18, m: 0}],\n",
       " [{pt: 130, eta: 0.463, phi: -0.051, m: 0}],\n",
       " [{pt: 120, eta: -1.68, phi: 1.68, m: 0}],\n",
       " [{pt: 117, eta: -0.94, phi: 1.29, m: 0}],\n",
       " [{pt: 76, eta: 1.45, phi: -1.98, m: 0}]]\n",
       "----------------------------------------------\n",
       "type: 100000 * var * {\n",
       "    pt: float32,\n",
       "    eta: float32,\n",
       "    phi: float32,\n",
       "    m: float32\n",
       "}</pre>"
      ],
      "text/plain": [
       "<Array [[{pt: 43.8, eta: 0.21, ...}], ...] type='100000 * var * {pt: float3...'>"
      ]
     },
     "execution_count": 4,
     "metadata": {},
     "output_type": "execute_result"
    }
   ],
   "source": [
    "data['lepton_reco']"
   ]
  },
  {
   "cell_type": "code",
   "execution_count": 5,
   "id": "4790053b-1a44-4e1e-9e42-9e7bed1bafde",
   "metadata": {
    "scrolled": true
   },
   "outputs": [
    {
     "data": {
      "text/html": [
       "<pre>[[{pt: 178, eta: 0.829, phi: -1.51, btag: 0.991, m: 0, matched: ..., ...}, ...],\n",
       " [{pt: 118, eta: -0.354, phi: 1.56, btag: 0.998, m: 0, matched: ..., ...}, ...],\n",
       " [{pt: 283, eta: -0.0822, phi: 0.0597, btag: 0.00724, m: 0, ...}, ..., {...}],\n",
       " [{pt: 394, eta: 0.0429, phi: 2.43, btag: 0.0127, m: 0, ...}, ..., {...}],\n",
       " [{pt: 118, eta: -1.11, phi: -2.04, btag: 0.942, m: 0, matched: ..., ...}, ...],\n",
       " [{pt: 142, eta: -0.421, phi: 1.5, btag: 0.00543, m: 0, ...}, ..., {...}],\n",
       " [{pt: 246, eta: -1.16, phi: 2.28, btag: 0.0681, m: 0, matched: ..., ...}, ...],\n",
       " [{pt: 188, eta: 0.735, phi: -0.573, btag: 0.473, m: 0, ...}, ..., {...}],\n",
       " [{pt: 202, eta: 0.204, phi: 1.64, btag: 0.869, m: 0, matched: True, ...}, ...],\n",
       " [{pt: 161, eta: 0.0879, phi: 2.54, btag: 0.999, m: 0, matched: ..., ...}, ...],\n",
       " ...,\n",
       " [{pt: 135, eta: 0.556, phi: 0.817, btag: 0.992, m: 0, matched: ..., ...}, ...],\n",
       " [{pt: 180, eta: -0.707, phi: -3.13, btag: 0.972, m: 0, ...}, ..., {...}],\n",
       " [{pt: 86.6, eta: -1.02, phi: -0.847, btag: 0.817, m: 0, ...}, ..., {...}],\n",
       " [{pt: 120, eta: 0.0711, phi: -3.07, btag: 0.021, m: 0, ...}, ..., {...}],\n",
       " [{pt: 244, eta: 0.44, phi: -0.756, btag: 0.34, m: 0, matched: True, ...}, ...],\n",
       " [{pt: 110, eta: 1.56, phi: -2.31, btag: 0.999, m: 0, matched: True, ...}, ...],\n",
       " [{pt: 99.9, eta: -0.928, phi: -2.73, btag: 0.978, m: 0, ...}, ..., {...}],\n",
       " [{pt: 115, eta: -1.06, phi: -1.49, btag: 0.0163, m: 0, ...}, ..., {...}],\n",
       " [{pt: 144, eta: -1.15, phi: 0.899, btag: 0.97, m: 0, matched: True, ...}, ...]]\n",
       "--------------------------------------------------------------------------------\n",
       "type: 100000 * var * Momentum4D[\n",
       "    pt: float32,\n",
       "    eta: float32,\n",
       "    phi: float32,\n",
       "    btag: float32,\n",
       "    m: float32,\n",
       "    matched: bool,\n",
       "    prov: float64\n",
       "]</pre>"
      ],
      "text/plain": [
       "<MomentumArray4D [[{pt: 178, eta: 0.829, ...}, ...], ...] type='100000 * va...'>"
      ]
     },
     "execution_count": 5,
     "metadata": {},
     "output_type": "execute_result"
    }
   ],
   "source": [
    "data.make_particles('lepton_reco_vec','lepton_reco')\n",
    "data.make_particles('jets_vec','jets')"
   ]
  },
  {
   "cell_type": "code",
   "execution_count": 6,
   "id": "2965e439-055c-4194-a157-6a2751855d03",
   "metadata": {
    "scrolled": true
   },
   "outputs": [
    {
     "name": "stdout",
     "output_type": "stream",
     "text": [
      "100000 * var * Momentum4D[\n",
      "    pt: float32,\n",
      "    eta: float32,\n",
      "    phi: float32,\n",
      "    m: float32\n",
      "]\n",
      "100000 * var * Momentum4D[\n",
      "    pt: float32,\n",
      "    eta: float32,\n",
      "    phi: float32,\n",
      "    btag: float32,\n",
      "    m: float32,\n",
      "    matched: bool,\n",
      "    prov: float64\n",
      "]\n"
     ]
    }
   ],
   "source": [
    "data['lepton_reco_vec'].type.show()\n",
    "data['jets_vec'].type.show()"
   ]
  },
  {
   "cell_type": "code",
   "execution_count": 7,
   "id": "de3074fa-541b-45fe-b90e-1c656be0d6c5",
   "metadata": {},
   "outputs": [
    {
     "name": "stdout",
     "output_type": "stream",
     "text": [
      "5\n",
      "4\n",
      "5\n",
      "7\n",
      "7\n"
     ]
    }
   ],
   "source": [
    "for i in range(5):\n",
    "    print (len(data['jets_vec'][i]))"
   ]
  },
  {
   "cell_type": "code",
   "execution_count": 8,
   "id": "26fdd497-9bdd-4be3-b941-ae6bd10551ba",
   "metadata": {},
   "outputs": [
    {
     "data": {
      "text/html": [
       "<pre>[{pt: 30.6, eta: 3.99, phi: -2.53, mass: 0.33, pdgId: 1, prov: 4},\n",
       " {pt: 153, eta: -0.313, phi: 0.942, mass: 4.75, pdgId: 5, prov: 3},\n",
       " {pt: 167, eta: 0.802, phi: -1.56, mass: 4.75, pdgId: -5, prov: 2},\n",
       " {pt: 27.9, eta: 0.296, phi: -1.28, mass: 0.5, pdgId: 3, prov: 5},\n",
       " {pt: 81.8, eta: 1.08, phi: -2.91, mass: 1.5, pdgId: -4, prov: 5},\n",
       " {pt: 44.5, eta: 0.971, phi: -1.45, mass: 0, pdgId: 5, prov: 1},\n",
       " {pt: 82.2, eta: 0.184, phi: 1.04, mass: 0, pdgId: -5, prov: 1}]\n",
       "-------------------------------------------------------------------\n",
       "type: 7 * {\n",
       "    pt: float64,\n",
       "    eta: float64,\n",
       "    phi: float64,\n",
       "    mass: float64,\n",
       "    pdgId: float64,\n",
       "    prov: float64\n",
       "}</pre>"
      ],
      "text/plain": [
       "<Array [{pt: 30.6, eta: 3.99, ...}, ..., {...}] type='7 * {pt: float64, eta...'>"
      ]
     },
     "execution_count": 8,
     "metadata": {},
     "output_type": "execute_result"
    }
   ],
   "source": [
    "data['partons'][0]"
   ]
  },
  {
   "cell_type": "code",
   "execution_count": 10,
   "id": "2451bf8b-049f-43c7-bd52-6ceeecae2154",
   "metadata": {},
   "outputs": [
    {
     "name": "stdout",
     "output_type": "stream",
     "text": [
      "{pdgid1: 1, pdgid2: 21, x1: 0.21, x2: 0.0441}\n"
     ]
    }
   ],
   "source": [
    "print (data[\"generator_info\"][0])"
   ]
  },
  {
   "cell_type": "code",
   "execution_count": null,
   "id": "1c42f006-341e-43f2-bfdc-cd0a8bb43c31",
   "metadata": {},
   "outputs": [],
   "source": []
  },
  {
   "cell_type": "code",
   "execution_count": null,
   "id": "f31ff95f-e157-454a-9868-da31514cd440",
   "metadata": {},
   "outputs": [],
   "source": []
  }
 ],
 "metadata": {
  "kernelspec": {
   "display_name": "Python 3 (ipykernel)",
   "language": "python",
   "name": "python3"
  },
  "language_info": {
   "codemirror_mode": {
    "name": "ipython",
    "version": 3
   },
   "file_extension": ".py",
   "mimetype": "text/x-python",
   "name": "python",
   "nbconvert_exporter": "python",
   "pygments_lexer": "ipython3",
   "version": "3.10.14"
  }
 },
 "nbformat": 4,
 "nbformat_minor": 5
}
