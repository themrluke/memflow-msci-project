{
 "cells": [
  {
   "cell_type": "code",
   "execution_count": 1,
   "id": "b0a7bc2a-42e5-48ff-8ddd-a01ed240d9d1",
   "metadata": {},
   "outputs": [
    {
     "name": "stdout",
     "output_type": "stream",
     "text": [
      "Running on GPU : True\n",
      "Accelerator : gpu\n",
      "|===========================================================================|\n",
      "|                  PyTorch CUDA memory summary, device ID 0                 |\n",
      "|---------------------------------------------------------------------------|\n",
      "|            CUDA OOMs: 0            |        cudaMalloc retries: 0         |\n",
      "|===========================================================================|\n",
      "|        Metric         | Cur Usage  | Peak Usage | Tot Alloc  | Tot Freed  |\n",
      "|---------------------------------------------------------------------------|\n",
      "| Allocated memory      |      0 B   |      0 B   |      0 B   |      0 B   |\n",
      "|---------------------------------------------------------------------------|\n",
      "| Active memory         |      0 B   |      0 B   |      0 B   |      0 B   |\n",
      "|---------------------------------------------------------------------------|\n",
      "| Requested memory      |      0 B   |      0 B   |      0 B   |      0 B   |\n",
      "|---------------------------------------------------------------------------|\n",
      "| GPU reserved memory   |      0 B   |      0 B   |      0 B   |      0 B   |\n",
      "|---------------------------------------------------------------------------|\n",
      "| Non-releasable memory |      0 B   |      0 B   |      0 B   |      0 B   |\n",
      "|---------------------------------------------------------------------------|\n",
      "| Allocations           |       0    |       0    |       0    |       0    |\n",
      "|---------------------------------------------------------------------------|\n",
      "| Active allocs         |       0    |       0    |       0    |       0    |\n",
      "|---------------------------------------------------------------------------|\n",
      "| GPU reserved segments |       0    |       0    |       0    |       0    |\n",
      "|---------------------------------------------------------------------------|\n",
      "| Non-releasable allocs |       0    |       0    |       0    |       0    |\n",
      "|---------------------------------------------------------------------------|\n",
      "| Oversize allocations  |       0    |       0    |       0    |       0    |\n",
      "|---------------------------------------------------------------------------|\n",
      "| Oversize GPU segments |       0    |       0    |       0    |       0    |\n",
      "|===========================================================================|\n",
      "\n"
     ]
    }
   ],
   "source": [
    "%load_ext autoreload\n",
    "%autoreload 2\n",
    "\n",
    "import time\n",
    "import yaml\n",
    "import math\n",
    "import copy\n",
    "import torch\n",
    "from torch import nn, optim\n",
    "import numpy as np\n",
    "import awkward as ak\n",
    "import uproot\n",
    "import pandas as pd\n",
    "import dask\n",
    "import vector\n",
    "import particle\n",
    "import hepunits\n",
    "\n",
    "import zuko\n",
    "import torch\n",
    "from torch import nn, optim\n",
    "import lightning as L\n",
    "from lightning.pytorch import loggers as pl_loggers\n",
    "\n",
    "from torch.utils.data import DataLoader\n",
    "\n",
    "from memflow.dataset.data import RootData,ParquetData\n",
    "from memflow.dataset.dataset import CombinedDataset, MultiCombinedDataset\n",
    "from memflow.callbacks.transfer_flow_callbacks import *\n",
    "from memflow.models.custom_flows import *\n",
    "from memflow.models.transfer_flow_model import TransferFlow\n",
    "\n",
    "from matplotlib import pyplot as plt\n",
    "plt.rcParams.update({'figure.max_open_warning': 100})\n",
    "\n",
    "vector.register_awkward()\n",
    "\n",
    "print (f\"Running on GPU : {torch.cuda.is_available()}\")\n",
    "accelerator = 'gpu' if torch.cuda.is_available() else 'cpu'\n",
    "print (f\"Accelerator : {accelerator}\")\n",
    "torch.set_float32_matmul_precision('medium')  \n",
    "if accelerator =='gpu':\n",
    "    torch.cuda.empty_cache()\n",
    "    print (torch.cuda.memory_summary(device=None, abbreviated=True))"
   ]
  },
  {
   "cell_type": "markdown",
   "id": "509e5da0-64e8-49fb-8818-3c7cb8594234",
   "metadata": {},
   "source": [
    "# Datasets"
   ]
  },
  {
   "cell_type": "code",
   "execution_count": 12,
   "id": "fc000364-7db2-40b9-a7da-19cf0bd96b31",
   "metadata": {
    "scrolled": true
   },
   "outputs": [
    {
     "name": "stdout",
     "output_type": "stream",
     "text": [
      "====================================================================================================\n",
      "Loading dataset for STminus\n",
      "Hard data loading\n",
      "\t... done : 1000000 events\n",
      "Reco data loading\n",
      "\t... done : 1000000 events\n",
      "Hard dataset\n",
      "Checking particle quantities\n",
      "\tParticle(s) ('antitop',) : required {1}, found {1}\n",
      "\tParticle(s) ('antibottom',) : required {0, 1}, found {0, 1}\n",
      "\tParticle(s) ('W_minus_from_antitop',) : required {1}, found {1}\n",
      "\tParticle(s) ('lep_minus_from_antitop', 'antineutrino_from_antitop') : required {0, 2}, found {0, 2}\n",
      "\tParticle(s) ('quark_down_from_antitop', 'antiquark_up_from_antitop') : required {0, 2}, found {0, 2}\n",
      "\tParticle(s) ('lep_minus_from_antitop', 'antineutrino_from_antitop', 'quark_down_from_antitop', 'antiquark_up_from_antitop') : required {2}, found {2}\n",
      "\tParticle(s) ('W_plus_prompt',) : required {1}, found {1}\n",
      "\tParticle(s) ('lep_plus_from_prompt_W', 'neutrino_from_prompt_W') : required {0, 2}, found {0, 2}\n",
      "\tParticle(s) ('quark_up_from_prompt_W', 'antiquark_down_from_prompt_W') : required {0, 2}, found {0, 2}\n",
      "\tParticle(s) ('lep_plus_from_prompt_W', 'neutrino_from_prompt_W', 'quark_up_from_prompt_W', 'antiquark_down_from_prompt_W') : required {2}, found {2}\n",
      "... done, no problem found\n",
      "Selecting decay : 105028 events out of 1000000\n",
      "Out of 105028 events :\n",
      "  -      831 [0.79%] events with n(ISR) = 0\n",
      "  -   104197 [99.21%] events with n(ISR) = 1\n",
      "Required 1 ISR : selecting 104197 events\n",
      "Saving objects to /nfs/scratch/fynu/fbury/MEMFlow_data/transfer_flow_v7/st_minus_hard\n",
      "Saving preprocessing to /nfs/scratch/fynu/fbury/MEMFlow_data/transfer_flow_v7/st_minus_hard\n",
      "Will overwrite what is in output directory /nfs/scratch/fynu/fbury/MEMFlow_data/transfer_flow_v7/st_minus_hard/preprocessing\n",
      "Preprocessing saved in /nfs/scratch/fynu/fbury/MEMFlow_data/transfer_flow_v7/st_minus_hard/preprocessing\n",
      "\t... done\n",
      "Parton dataset with 104197 events\n",
      " Initial states pdgids : [21, 21]\n",
      " Final states pdgids   : [6, -6, 11, -12, -11, 12]\n",
      " Final states masses   : [172.5, 172.5, 0.0005109989499999999, 0.0, 0.0005109989499999999, 0.0]\n",
      "Containing the following tensors\n",
      "ISR           : data ([104197, 1, 5]), mask ([104197, 1])\n",
      "                Mask exist    : [100.00%]\n",
      "                Mask attn     : [True]\n",
      "                Weights       : 104197.00\n",
      "                Features      : ['pt', 'eta', 'phi', 'mass', 'pdgId']\n",
      "                Selected for batches : True\n",
      "final_states  : data ([104197, 5, 5]), mask ([104197, 5])\n",
      "                Mask exist    : [100.00%, 100.00%, 100.00%, 100.00%, 100.00%]\n",
      "                Mask attn     : [True, True, True, True, True]\n",
      "                Weights       : 104197.00, 104197.00, 104197.00, 104197.00, 104197.00\n",
      "                Features      : ['pt', 'eta', 'phi', 'mass', 'pdgId']\n",
      "                Selected for batches : True\n",
      "Preprocessing steps\n",
      "Step applied to ['final_states', 'ISR']\n",
      "\tpdgId  : <class 'memflow.dataset.preprocessing.SklearnScaler'>\n",
      "  - final_states : ('pdgId',)\n",
      "  - ISR          : ('pdgId',)\n",
      "Step applied to ['final_states', 'ISR']\n",
      "\tpt  : <class 'memflow.dataset.preprocessing.logmodulus'>\n",
      "  - final_states : ('pt',)\n",
      "  - ISR          : ('pt',)\n",
      "Step applied to ['final_states', 'ISR']\n",
      "\tpt   : <class 'memflow.dataset.preprocessing.SklearnScaler'>\n",
      "\teta  : <class 'memflow.dataset.preprocessing.SklearnScaler'>\n",
      "\tphi  : <class 'memflow.dataset.preprocessing.SklearnScaler'>\n",
      "\tm    : <class 'memflow.dataset.preprocessing.SklearnScaler'>\n",
      "  - final_states : ('pt', 'eta', 'phi', 'm')\n",
      "  - ISR          : ('pt', 'eta', 'phi', 'm')\n",
      "\n",
      "Reco dataset\n",
      "Initial reco events : 1000000\n",
      "Dilepton cut : 28118\n",
      "Resolved events : 10487\n",
      "Saving objects to /nfs/scratch/fynu/fbury/MEMFlow_data/transfer_flow_v7/st_minus_reco\n",
      "Saving preprocessing to /nfs/scratch/fynu/fbury/MEMFlow_data/transfer_flow_v7/st_minus_reco\n",
      "Will overwrite what is in output directory /nfs/scratch/fynu/fbury/MEMFlow_data/transfer_flow_v7/st_minus_reco/preprocessing\n",
      "Preprocessing saved in /nfs/scratch/fynu/fbury/MEMFlow_data/transfer_flow_v7/st_minus_reco/preprocessing\n",
      "\t... done\n",
      "Reco dataset with 10487 events\n",
      "Containing the following tensors\n",
      "boost      : data ([10487, 1, 7]), mask ([10487, 1])\n",
      "             Mask exist    : [100.00%]\n",
      "             Mask attn     : [True]\n",
      "             Weights       : 10487.00\n",
      "             Features      : ['pt', 'eta', 'phi', 'mass', 'btag', 'pdgId', 'charge']\n",
      "             Selected for batches : False\n",
      "jets       : data ([10487, 4, 7]), mask ([10487, 4])\n",
      "             Mask exist    : [100.00%, 100.00%, 42.20%, 14.37%]\n",
      "             Mask attn     : [True, True, False, False]\n",
      "             Weights       : 10487.00, 10487.00, 10487.00, 10487.00\n",
      "             Features      : ['pt', 'eta', 'phi', 'mass', 'btag', 'pdgId', 'charge']\n",
      "             Selected for batches : True\n",
      "electrons  : data ([10487, 2, 7]), mask ([10487, 2])\n",
      "             Mask exist    : [43.02%, 43.66%]\n",
      "             Mask attn     : [True, True]\n",
      "             Weights       : 10487.00, 10487.00\n",
      "             Features      : ['pt', 'eta', 'phi', 'mass', 'btag', 'pdgId', 'charge']\n",
      "             Selected for batches : True\n",
      "muons      : data ([10487, 2, 7]), mask ([10487, 2])\n",
      "             Mask exist    : [56.95%, 56.37%]\n",
      "             Mask attn     : [True, True]\n",
      "             Weights       : 10487.00, 10487.00\n",
      "             Features      : ['pt', 'eta', 'phi', 'mass', 'btag', 'pdgId', 'charge']\n",
      "             Selected for batches : True\n",
      "met        : data ([10487, 1, 7]), mask ([10487, 1])\n",
      "             Mask exist    : [100.00%]\n",
      "             Mask attn     : [True]\n",
      "             Weights       : 10487.00\n",
      "             Features      : ['pt', 'eta', 'phi', 'mass', 'btag', 'pdgId', 'charge']\n",
      "             Selected for batches : True\n",
      "Preprocessing steps\n",
      "Step applied to ['muons', 'electrons']\n",
      "\tpt  : <class 'memflow.dataset.preprocessing.lowercutshift'>\n",
      "  - muons     : ('pt',)\n",
      "  - electrons : ('pt',)\n",
      "Step applied to ['jets']\n",
      "\tpt  : <class 'memflow.dataset.preprocessing.lowercutshift'>\n",
      "  - jets : ('pt',)\n",
      "Step applied to ['jets', 'electrons', 'muons', 'met']\n",
      "\tpt    : <class 'memflow.dataset.preprocessing.logmodulus'>\n",
      "\tmass  : <class 'memflow.dataset.preprocessing.logmodulus'>\n",
      "  - jets      : ('pt', 'mass')\n",
      "  - electrons : ('pt', 'mass')\n",
      "  - muons     : ('pt', 'mass')\n",
      "  - met       : ('pt',)\n",
      "Step applied to ['electrons', 'muons', 'jets', 'met']\n",
      "\tpt      : <class 'memflow.dataset.preprocessing.SklearnScaler'>\n",
      "\teta     : <class 'memflow.dataset.preprocessing.SklearnScaler'>\n",
      "\tphi     : <class 'memflow.dataset.preprocessing.SklearnScaler'>\n",
      "\tmass    : <class 'memflow.dataset.preprocessing.SklearnScaler'>\n",
      "\tpdgId   : <class 'memflow.dataset.preprocessing.SklearnScaler'>\n",
      "\tcharge  : <class 'memflow.dataset.preprocessing.SklearnScaler'>\n",
      "  - electrons : ('pt', 'eta', 'phi', 'mass', 'pdgId', 'charge')\n",
      "  - muons     : ('pt', 'eta', 'phi', 'mass', 'pdgId', 'charge')\n",
      "  - jets      : ('pt', 'eta', 'phi', 'mass')\n",
      "  - met       : ('pt', 'phi')\n",
      "\n",
      "Combined dataset\n",
      "Intersection branches : `event` for hard dataset and `event` for reco dataset\n",
      "Looking into file metadata\n",
      "\tentry 0 : ['/home/ucl/cp3/fbury/scratch/MEM_data/Transfermer_v7_2016/results/ST_tW_antitop_5f.root']\n",
      "\tentry 1 : ['/home/ucl/cp3/fbury/scratch/MEM_data/Transfermer_v7_2016/results/ST_tW_antitop_5f.root']\n",
      "Will only consider common files : ['/home/ucl/cp3/fbury/scratch/MEM_data/Transfermer_v7_2016/results/ST_tW_antitop_5f.root']\n",
      "(Note : this assumes the files have the same order between the different metadata objects)\n",
      "For entry 0 : from 104197 events, 10385 selected\n",
      "For entry 1 : from 10487 events, 10385 selected\n",
      "\t... done\n",
      "STminus    :  10385 events\n"
     ]
    }
   ],
   "source": [
    "from memflow.HH.dataset_utils import *\n",
    "\n",
    "# suffixes = ['HH', 'TT','ZZ','ZH','STplus','STminus']\n",
    "suffixes = ['STminus']\n",
    "\n",
    "combined_datasets = {\n",
    "    suffix : select_dataset(suffix,build=True,fit=True,N=int(1e6))\n",
    "    for suffix in suffixes\n",
    "}\n",
    "\n",
    "for suffix,dataset in combined_datasets.items():\n",
    "    print (f'{suffix:10s} : {len(dataset):6d} events')\n"
   ]
  },
  {
   "cell_type": "code",
   "execution_count": 3,
   "id": "b0fd9f69-6c6a-466b-b21d-dfe9ada30960",
   "metadata": {},
   "outputs": [
    {
     "data": {
      "image/png": "[encoded data removed]",
      "text/plain": [
       "<Figure size 640x480 with 1 Axes>"
      ]
     },
     "metadata": {},
     "output_type": "display_data"
    }
   ],
   "source": [
    "combined_datasets['DY'].hard_dataset._undo_preprocessing()\n",
    "tensor = combined_datasets['DY'].hard_dataset._objects['final_states'][0]\n",
    "\n",
    "ll = ak.zip(\n",
    "    {\n",
    "        'pt' : tensor[...,0],\n",
    "        'eta' : tensor[...,1],\n",
    "        'phi' : tensor[...,2],\n",
    "        'mass' : tensor[...,3],\n",
    "    },\n",
    "    with_name = 'Momentum4D',\n",
    ")\n",
    "m_ll = ak.sum(ll,axis=1).mass\n",
    "plt.hist(m_ll.to_numpy(),bins=np.linspace(0,150,100))\n",
    "plt.yscale('log')\n",
    "plt.show()\n",
    "\n",
    "combined_datasets['DY'].hard_dataset._do_preprocessing()\n"
   ]
  },
  {
   "cell_type": "code",
   "execution_count": 4,
   "id": "e6db6854-384c-49d6-9e2f-fb5e60d533bb",
   "metadata": {
    "scrolled": true
   },
   "outputs": [
    {
     "name": "stdout",
     "output_type": "stream",
     "text": [
      "====================================================================================================\n",
      "DY\n"
     ]
    },
    {
     "data": {
      "image/png": "[encoded data removed]",
      "text/plain": [
       "<Figure size 2700x400 with 6 Axes>"
      ]
     },
     "metadata": {},
     "output_type": "display_data"
    },
    {
     "data": {
      "image/png": "[encoded data removed]",
      "text/plain": [
       "<Figure size 3600x400 with 8 Axes>"
      ]
     },
     "metadata": {},
     "output_type": "display_data"
    },
    {
     "data": {
      "image/png": "[encoded data removed]",
      "text/plain": [
       "<Figure size 3600x400 with 8 Axes>"
      ]
     },
     "metadata": {},
     "output_type": "display_data"
    },
    {
     "data": {
      "image/png": "[encoded data removed]",
      "text/plain": [
       "<Figure size 3150x400 with 7 Axes>"
      ]
     },
     "metadata": {},
     "output_type": "display_data"
    },
    {
     "data": {
      "image/png": "[encoded data removed]",
      "text/plain": [
       "<Figure size 3600x400 with 8 Axes>"
      ]
     },
     "metadata": {},
     "output_type": "display_data"
    }
   ],
   "source": [
    "for suffix,dataset in combined_datasets.items():\n",
    "    print ('='*100)\n",
    "    print (suffix)\n",
    "    # dataset.hard_dataset.plot(selection=True,raw=True,log=True)\n",
    "    # dataset.hard_dataset.plot(fields_to_plot=['pt','eta','phi','mass'],selection=True,raw=False,log=True)\n",
    "    # dataset.hard_dataset.plot(fields_to_plot='pdgId',selection=True,raw=False,log=True)\n",
    "    # dataset.reco_dataset.plot(selection=True,raw=True,log=True)\n",
    "    dataset.hard_dataset.plot(selection=True,raw=True,log=True)\n",
    "    dataset.reco_dataset.plot(selection=True,raw=True,log=True)\n"
   ]
  },
  {
   "cell_type": "code",
   "execution_count": 5,
   "id": "7b16543d-069a-4f29-821c-dfb4b5dfc602",
   "metadata": {
    "scrolled": true
   },
   "outputs": [
    {
     "name": "stdout",
     "output_type": "stream",
     "text": [
      "Processing the hard datasets\n",
      "... Undoing preprocessing\n",
      "... Equalizing datasets\n",
      "Reweighting factor : 1.00000\n",
      "... Matching preprocessing\n",
      "\n",
      "Preprocessing steps\n",
      "Step applied to ['ISR', 'final_states']\n",
      "\tpdgId  : <class 'memflow.dataset.preprocessing.SklearnScaler'>\n",
      "  - ISR          : ('pdgId',)\n",
      "  - final_states : ('pdgId',)\n",
      "Step applied to ['ISR', 'final_states']\n",
      "\tpt  : <class 'memflow.dataset.preprocessing.logmodulus'>\n",
      "  - ISR          : ('pt',)\n",
      "  - final_states : ('pt',)\n",
      "Step applied to ['ISR', 'final_states']\n",
      "\tpt   : <class 'memflow.dataset.preprocessing.SklearnScaler'>\n",
      "\teta  : <class 'memflow.dataset.preprocessing.SklearnScaler'>\n",
      "\tphi  : <class 'memflow.dataset.preprocessing.SklearnScaler'>\n",
      "\tm    : <class 'memflow.dataset.preprocessing.SklearnScaler'>\n",
      "  - ISR          : ('pt', 'eta', 'phi', 'm')\n",
      "  - final_states : ('pt', 'eta', 'phi', 'm')\n",
      "\n",
      "Saving preprocessing to /nfs/scratch/fynu/fbury/MEMFlow_data/transfer_flow_v7/dy_hard\n",
      "Will overwrite what is in output directory /nfs/scratch/fynu/fbury/MEMFlow_data/transfer_flow_v7/dy_hard/preprocessing\n",
      "Preprocessing saved in /nfs/scratch/fynu/fbury/MEMFlow_data/transfer_flow_v7/dy_hard/preprocessing\n",
      "... Re-applying common preprocessing\n",
      "... Checking attention mask\n",
      "Processing the reco datasets\n",
      "... Undoing preprocessing\n",
      "... Equalizing datasets\n",
      "Reweighting factor : 1.00000\n",
      "... Matching preprocessing\n",
      "\n",
      "Preprocessing steps\n",
      "Step applied to ['muons', 'electrons']\n",
      "\tpt  : <class 'memflow.dataset.preprocessing.lowercutshift'>\n",
      "  - muons     : ('pt',)\n",
      "  - electrons : ('pt',)\n",
      "Step applied to ['jets']\n",
      "\tpt  : <class 'memflow.dataset.preprocessing.lowercutshift'>\n",
      "  - jets : ('pt',)\n",
      "Step applied to ['met', 'jets', 'muons', 'electrons']\n",
      "\tpt    : <class 'memflow.dataset.preprocessing.logmodulus'>\n",
      "\tmass  : <class 'memflow.dataset.preprocessing.logmodulus'>\n",
      "  - met       : ('pt',)\n",
      "  - jets      : ('pt', 'mass')\n",
      "  - muons     : ('pt', 'mass')\n",
      "  - electrons : ('pt', 'mass')\n",
      "Step applied to ['met', 'jets', 'muons', 'electrons']\n",
      "\tpt      : <class 'memflow.dataset.preprocessing.SklearnScaler'>\n",
      "\teta     : <class 'memflow.dataset.preprocessing.SklearnScaler'>\n",
      "\tphi     : <class 'memflow.dataset.preprocessing.SklearnScaler'>\n",
      "\tmass    : <class 'memflow.dataset.preprocessing.SklearnScaler'>\n",
      "\tpdgId   : <class 'memflow.dataset.preprocessing.SklearnScaler'>\n",
      "\tcharge  : <class 'memflow.dataset.preprocessing.SklearnScaler'>\n",
      "  - met       : ('pt', 'phi')\n",
      "  - jets      : ('pt', 'eta', 'phi', 'mass')\n",
      "  - muons     : ('pt', 'eta', 'phi', 'mass', 'pdgId', 'charge')\n",
      "  - electrons : ('pt', 'eta', 'phi', 'mass', 'pdgId', 'charge')\n",
      "\n",
      "Saving preprocessing to /nfs/scratch/fynu/fbury/MEMFlow_data/transfer_flow_v7/dy_reco\n",
      "Will overwrite what is in output directory /nfs/scratch/fynu/fbury/MEMFlow_data/transfer_flow_v7/dy_reco/preprocessing\n",
      "Preprocessing saved in /nfs/scratch/fynu/fbury/MEMFlow_data/transfer_flow_v7/dy_reco/preprocessing\n",
      "... Re-applying common preprocessing\n",
      "... Checking attention mask\n",
      "MultiCombined dataset :\n",
      "Combined dataset (extracting 15952 events of the following) :\n",
      "Parton dataset with 1111725 events\n",
      " Initial states pdgids : [21, 21]\n",
      " Final states pdgids   : [6, -6, 11, -11]\n",
      " Final states masses   : [172.5, 172.5, 0.0005109989499999999, 0.0005109989499999999]\n",
      "Containing the following tensors\n",
      "ISR           : data ([1111725, 2, 5]), mask ([1111725, 2])\n",
      "                Mask exist    : [100.00%, 100.00%]\n",
      "                Mask attn     : [True, True]\n",
      "                Weights       : 1111725.00, 1111725.00\n",
      "                Features      : ['pt', 'eta', 'phi', 'mass', 'pdgId']\n",
      "                Selected for batches : False\n",
      "final_states  : data ([1111725, 2, 5]), mask ([1111725, 2])\n",
      "                Mask exist    : [100.00%, 100.00%]\n",
      "                Mask attn     : [True, True]\n",
      "                Weights       : 1111725.00, 1111725.00\n",
      "                Features      : ['pt', 'eta', 'phi', 'mass', 'pdgId']\n",
      "                Selected for batches : True\n",
      "Preprocessing steps\n",
      "Step applied to ['ISR', 'final_states']\n",
      "\tpdgId  : <class 'memflow.dataset.preprocessing.SklearnScaler'>\n",
      "  - ISR          : ('pdgId',)\n",
      "  - final_states : ('pdgId',)\n",
      "Step applied to ['ISR', 'final_states']\n",
      "\tpt  : <class 'memflow.dataset.preprocessing.logmodulus'>\n",
      "  - ISR          : ('pt',)\n",
      "  - final_states : ('pt',)\n",
      "Step applied to ['ISR', 'final_states']\n",
      "\tpt   : <class 'memflow.dataset.preprocessing.SklearnScaler'>\n",
      "\teta  : <class 'memflow.dataset.preprocessing.SklearnScaler'>\n",
      "\tphi  : <class 'memflow.dataset.preprocessing.SklearnScaler'>\n",
      "\tm    : <class 'memflow.dataset.preprocessing.SklearnScaler'>\n",
      "  - ISR          : ('pt', 'eta', 'phi', 'm')\n",
      "  - final_states : ('pt', 'eta', 'phi', 'm')\n",
      "\n",
      "Reco dataset with 26130 events\n",
      "Containing the following tensors\n",
      "boost      : data ([26130, 1, 7]), mask ([26130, 1])\n",
      "             Mask exist    : [100.00%]\n",
      "             Mask attn     : [True]\n",
      "             Weights       : 26130.00\n",
      "             Features      : ['pt', 'eta', 'phi', 'mass', 'btag', 'pdgId', 'charge']\n",
      "             Selected for batches : False\n",
      "jets       : data ([26130, 4, 7]), mask ([26130, 4])\n",
      "             Mask exist    : [100.00%, 100.00%, 34.62%, 9.97%]\n",
      "             Mask attn     : [True, True, False, False]\n",
      "             Weights       : 26130.00, 26130.00, 26130.00, 26130.00\n",
      "             Features      : ['pt', 'eta', 'phi', 'mass', 'btag', 'pdgId', 'charge']\n",
      "             Selected for batches : True\n",
      "electrons  : data ([26130, 2, 7]), mask ([26130, 2])\n",
      "             Mask exist    : [37.11%, 37.11%]\n",
      "             Mask attn     : [True, True]\n",
      "             Weights       : 26130.00, 26130.00\n",
      "             Features      : ['pt', 'eta', 'phi', 'mass', 'btag', 'pdgId', 'charge']\n",
      "             Selected for batches : True\n",
      "muons      : data ([26130, 2, 7]), mask ([26130, 2])\n",
      "             Mask exist    : [62.89%, 62.89%]\n",
      "             Mask attn     : [True, True]\n",
      "             Weights       : 26130.00, 26130.00\n",
      "             Features      : ['pt', 'eta', 'phi', 'mass', 'btag', 'pdgId', 'charge']\n",
      "             Selected for batches : True\n",
      "met        : data ([26130, 1, 7]), mask ([26130, 1])\n",
      "             Mask exist    : [100.00%]\n",
      "             Mask attn     : [True]\n",
      "             Weights       : 26130.00\n",
      "             Features      : ['pt', 'eta', 'phi', 'mass', 'btag', 'pdgId', 'charge']\n",
      "             Selected for batches : True\n",
      "Preprocessing steps\n",
      "Step applied to ['muons', 'electrons']\n",
      "\tpt  : <class 'memflow.dataset.preprocessing.lowercutshift'>\n",
      "  - muons     : ('pt',)\n",
      "  - electrons : ('pt',)\n",
      "Step applied to ['jets']\n",
      "\tpt  : <class 'memflow.dataset.preprocessing.lowercutshift'>\n",
      "  - jets : ('pt',)\n",
      "Step applied to ['met', 'jets', 'muons', 'electrons']\n",
      "\tpt    : <class 'memflow.dataset.preprocessing.logmodulus'>\n",
      "\tmass  : <class 'memflow.dataset.preprocessing.logmodulus'>\n",
      "  - met       : ('pt',)\n",
      "  - jets      : ('pt', 'mass')\n",
      "  - muons     : ('pt', 'mass')\n",
      "  - electrons : ('pt', 'mass')\n",
      "Step applied to ['met', 'jets', 'muons', 'electrons']\n",
      "\tpt      : <class 'memflow.dataset.preprocessing.SklearnScaler'>\n",
      "\teta     : <class 'memflow.dataset.preprocessing.SklearnScaler'>\n",
      "\tphi     : <class 'memflow.dataset.preprocessing.SklearnScaler'>\n",
      "\tmass    : <class 'memflow.dataset.preprocessing.SklearnScaler'>\n",
      "\tpdgId   : <class 'memflow.dataset.preprocessing.SklearnScaler'>\n",
      "\tcharge  : <class 'memflow.dataset.preprocessing.SklearnScaler'>\n",
      "  - met       : ('pt', 'phi')\n",
      "  - jets      : ('pt', 'eta', 'phi', 'mass')\n",
      "  - muons     : ('pt', 'eta', 'phi', 'mass', 'pdgId', 'charge')\n",
      "  - electrons : ('pt', 'eta', 'phi', 'mass', 'pdgId', 'charge')\n",
      "\n"
     ]
    }
   ],
   "source": [
    "combined_dataset = MultiCombinedDataset(\n",
    "    datasets = combined_datasets,\n",
    ")\n",
    "print (combined_dataset)"
   ]
  },
  {
   "cell_type": "code",
   "execution_count": null,
   "id": "e1b0bcc4-353f-4016-9974-cfaa356dba9a",
   "metadata": {
    "scrolled": true
   },
   "outputs": [],
   "source": [
    "combined_datasets['DY'].hard_dataset._undo_preprocessing()\n",
    "combined_datasets['DY'].reco_dataset._undo_preprocessing()\n",
    "\n",
    "muons,mask_m,_ = combined_datasets['DY'].reco_dataset._objects['muons']\n",
    "muons = muons[combined_datasets['DY'].reco_idx]\n",
    "print (mask_m.sum(dim=0))\n",
    "\n",
    "electrons,mask_e,_ = combined_datasets['DY'].reco_dataset._objects['electrons']\n",
    "electrons = electrons[combined_datasets['DY'].reco_idx]\n",
    "print (mask_e.sum(dim=0))\n",
    "\n",
    "final_states,mask_hard,_ = combined_datasets['DY'].hard_dataset._objects['final_states']\n",
    "final_states = final_states[combined_datasets['DY'].hard_idx]\n",
    "print (final_states)\n",
    "\n",
    "combined_datasets['DY'].hard_dataset._do_preprocessing()\n",
    "combined_datasets['DY'].reco_dataset._do_preprocessing()"
   ]
  },
  {
   "cell_type": "code",
   "execution_count": null,
   "id": "8f8de8f7-25af-4aa1-907f-ac0e1dc71888",
   "metadata": {},
   "outputs": [],
   "source": [
    "mask_sel = torch.round(final_states[:,1,-1],decimals=3) == -13.\n",
    "print (mask_sel.shape)\n",
    "print (mask_sel)\n",
    "idx = torch.where(mask_sel)\n",
    "print (idx)"
   ]
  },
  {
   "cell_type": "code",
   "execution_count": null,
   "id": "edf691b1-4802-4a77-acd2-f7647dc63a91",
   "metadata": {},
   "outputs": [],
   "source": [
    "muons_hard = final_states[mask_sel,1,:]\n",
    "print (muons_hard.shape)\n",
    "muons_reco = muons[mask_sel,1,:]\n",
    "print (muons_reco.shape)"
   ]
  },
  {
   "cell_type": "code",
   "execution_count": null,
   "id": "6bf8f379-14ff-452b-b6ec-76d190c60d34",
   "metadata": {
    "scrolled": true
   },
   "outputs": [],
   "source": [
    "plt.hist(muons_reco[:,0]-muons_hard[:,0],bins=100)\n",
    "plt.yscale('log')\n",
    "plt.show()\n",
    "\n",
    "plt.hist(muons_reco[:,1]-muons_hard[:,1],bins=100)\n",
    "plt.yscale('log')\n",
    "plt.show()\n",
    "\n",
    "plt.hist(muons_reco[:,2]-muons_hard[:,2],bins=100)\n",
    "plt.yscale('log')\n",
    "plt.show()\n",
    "\n"
   ]
  },
  {
   "cell_type": "markdown",
   "id": "06889454-395a-4231-ab54-a8b70d63b058",
   "metadata": {},
   "source": [
    "# Training"
   ]
  },
  {
   "cell_type": "code",
   "execution_count": 8,
   "id": "4f041f89-c7a4-4c17-8e9a-3b21d1b55007",
   "metadata": {},
   "outputs": [
    {
     "name": "stdout",
     "output_type": "stream",
     "text": [
      "Dataset : training 14356 / validation 1596\n",
      "Batching 15 / Validation 1\n"
     ]
    }
   ],
   "source": [
    "# Split dataset into training and validation\n",
    "# Not randomly for reproducilibility, but just based on number\n",
    "train_frac = 0.9\n",
    "combined_valid_datasets = {}\n",
    "combined_train_indices = []\n",
    "combined_valid_indices = []\n",
    "\n",
    "n = 0\n",
    "for suffix,dataset in combined_datasets.items():\n",
    "    # Get indices per dataset #\n",
    "    indices = torch.arange(len(dataset))\n",
    "    sep = int(train_frac*len(dataset))\n",
    "    train_indices = indices[:sep]\n",
    "    valid_indices = indices[sep:]\n",
    "    # Save valid datasets for plottings #\n",
    "    combined_valid_datasets[suffix] = torch.utils.data.Subset(dataset,valid_indices)\n",
    "    # Save indices #\n",
    "    combined_train_indices.append(train_indices + n)\n",
    "    combined_valid_indices.append(valid_indices + n)\n",
    "    n += len(dataset)\n",
    "\n",
    "combined_train_indices = torch.cat(combined_train_indices,dim=0)\n",
    "combined_valid_indices = torch.cat(combined_valid_indices,dim=0)\n",
    "\n",
    "combined_dataset_train = torch.utils.data.Subset(combined_dataset,combined_train_indices)\n",
    "combined_dataset_valid = torch.utils.data.Subset(combined_dataset,combined_valid_indices)\n",
    "\n",
    "print (f'Dataset : training {len(combined_dataset_train)} / validation {len(combined_dataset_valid)}')\n",
    "\n",
    "batch_size = 1024\n",
    "\n",
    "loader_combined_train = DataLoader(\n",
    "    combined_dataset_train,\n",
    "    batch_size = batch_size,\n",
    "    shuffle = True,\n",
    ")\n",
    "loader_combined_valid = DataLoader(\n",
    "    combined_dataset_valid,\n",
    "    batch_size = 10000,\n",
    "    shuffle = False,\n",
    ")\n",
    "print (f'Batching {len(loader_combined_train)} / Validation {len(loader_combined_valid)}')"
   ]
  },
  {
   "cell_type": "code",
   "execution_count": 9,
   "id": "42338669-b470-453c-a0ad-9c02de2ba6ce",
   "metadata": {
    "scrolled": true
   },
   "outputs": [
    {
     "name": "stdout",
     "output_type": "stream",
     "text": [
      "No hard attention mask provided, will use the exist mask for the attention\n",
      "log_probs tensor([[4.0348, 5.1768, 4.6716,  ..., 4.4430, 4.5963, 4.6181],\n",
      "        [3.1215, 3.0006, 4.2790,  ..., 7.1187, 2.9245, 2.8816],\n",
      "        [3.0424, 2.8982, 4.1947,  ..., 5.1225, 3.0550, 2.9501],\n",
      "        ...,\n",
      "        [5.5125, 5.2744, 4.1875,  ..., 4.5363, 5.0757, 4.0972],\n",
      "        [4.3470, 1.9795, 4.8003,  ..., 5.5433, 4.7277, 4.6908],\n",
      "        [4.3214, 3.8695, 2.7245,  ..., 4.8613, 5.6192, 2.9097]],\n",
      "       grad_fn=<NegBackward0>) torch.Size([1024, 9])\n",
      "mask tensor([[ True,  True, False,  ...,  True, False, False],\n",
      "        [False, False,  True,  ...,  True, False, False],\n",
      "        [False, False,  True,  ...,  True, False, False],\n",
      "        ...,\n",
      "        [ True,  True, False,  ...,  True,  True, False],\n",
      "        [ True,  True, False,  ...,  True, False, False],\n",
      "        [ True,  True, False,  ...,  True,  True, False]]) torch.Size([1024, 9])\n",
      "weights tensor([[1., 1., 1.,  ..., 1., 1., 1.],\n",
      "        [1., 1., 1.,  ..., 1., 1., 1.],\n",
      "        [1., 1., 1.,  ..., 1., 1., 1.],\n",
      "        ...,\n",
      "        [1., 1., 1.,  ..., 1., 1., 1.],\n",
      "        [1., 1., 1.,  ..., 1., 1., 1.],\n",
      "        [1., 1., 1.,  ..., 1., 1., 1.]]) torch.Size([1024, 9])\n",
      "tot log probs tensor(4.4127, grad_fn=<MeanBackward0>)\n",
      "samples\n",
      "\t torch.Size([100, 1024, 2, 4])\n",
      "\t torch.Size([100, 1024, 2, 4])\n",
      "\t torch.Size([100, 1024, 1, 2])\n",
      "\t torch.Size([100, 1024, 4, 4])\n",
      "TransferFlow(\n",
      "  (hard_embeddings): ModuleList(\n",
      "    (0): Sequential(\n",
      "      (0): Linear(in_features=5, out_features=32, bias=True)\n",
      "      (1): GELU(approximate='none')\n",
      "      (2): Linear(in_features=32, out_features=64, bias=True)\n",
      "    )\n",
      "  )\n",
      "  (reco_embeddings): ModuleList(\n",
      "    (0-3): 4 x Sequential(\n",
      "      (0): Linear(in_features=7, out_features=32, bias=True)\n",
      "      (1): GELU(approximate='none')\n",
      "      (2): Linear(in_features=32, out_features=64, bias=True)\n",
      "    )\n",
      "  )\n",
      "  (transformer): Transformer(\n",
      "    (encoder): TransformerEncoder(\n",
      "      (layers): ModuleList(\n",
      "        (0-7): 8 x TransformerEncoderLayer(\n",
      "          (self_attn): MultiheadAttention(\n",
      "            (out_proj): NonDynamicallyQuantizableLinear(in_features=64, out_features=64, bias=True)\n",
      "          )\n",
      "          (linear1): Linear(in_features=64, out_features=128, bias=True)\n",
      "          (dropout): Dropout(p=0.0, inplace=False)\n",
      "          (linear2): Linear(in_features=128, out_features=64, bias=True)\n",
      "          (norm1): LayerNorm((64,), eps=1e-05, elementwise_affine=True)\n",
      "          (norm2): LayerNorm((64,), eps=1e-05, elementwise_affine=True)\n",
      "          (dropout1): Dropout(p=0.0, inplace=False)\n",
      "          (dropout2): Dropout(p=0.0, inplace=False)\n",
      "        )\n",
      "      )\n",
      "      (norm): LayerNorm((64,), eps=1e-05, elementwise_affine=True)\n",
      "    )\n",
      "    (decoder): TransformerDecoder(\n",
      "      (layers): ModuleList(\n",
      "        (0-7): 8 x TransformerDecoderLayer(\n",
      "          (self_attn): MultiheadAttention(\n",
      "            (out_proj): NonDynamicallyQuantizableLinear(in_features=64, out_features=64, bias=True)\n",
      "          )\n",
      "          (multihead_attn): MultiheadAttention(\n",
      "            (out_proj): NonDynamicallyQuantizableLinear(in_features=64, out_features=64, bias=True)\n",
      "          )\n",
      "          (linear1): Linear(in_features=64, out_features=128, bias=True)\n",
      "          (dropout): Dropout(p=0.0, inplace=False)\n",
      "          (linear2): Linear(in_features=128, out_features=64, bias=True)\n",
      "          (norm1): LayerNorm((64,), eps=1e-05, elementwise_affine=True)\n",
      "          (norm2): LayerNorm((64,), eps=1e-05, elementwise_affine=True)\n",
      "          (norm3): LayerNorm((64,), eps=1e-05, elementwise_affine=True)\n",
      "          (dropout1): Dropout(p=0.0, inplace=False)\n",
      "          (dropout2): Dropout(p=0.0, inplace=False)\n",
      "          (dropout3): Dropout(p=0.0, inplace=False)\n",
      "        )\n",
      "      )\n",
      "      (norm): LayerNorm((64,), eps=1e-05, elementwise_affine=True)\n",
      "    )\n",
      "  )\n",
      "  (flows): ModuleList(\n",
      "    (0): ModuleDict(\n",
      "      (pt): NSF(\n",
      "        (transform): LazyComposedTransform(\n",
      "          (0-4): 5 x ElementWiseTransform(\n",
      "            (base): MonotonicRQSTransform(bins=16)\n",
      "            (hyper): MLP(\n",
      "              (0): Linear(in_features=66, out_features=128, bias=True)\n",
      "              (1): ReLU()\n",
      "              (2): Linear(in_features=128, out_features=128, bias=True)\n",
      "              (3): ReLU()\n",
      "              (4): Linear(in_features=128, out_features=47, bias=True)\n",
      "            )\n",
      "          )\n",
      "        )\n",
      "        (base): UnconditionalDistribution(DiagNormal(loc: tensor([0.]), scale: tensor([1.])))\n",
      "      )\n",
      "      (eta): UniformNSF(\n",
      "        (transform): LazyComposedTransform(\n",
      "          (0-4): 5 x ElementWiseTransform(\n",
      "            (base): MonotonicRQSTransform(bins=16)\n",
      "            (hyper): MLP(\n",
      "              (0): Linear(in_features=66, out_features=128, bias=True)\n",
      "              (1): ReLU()\n",
      "              (2): Linear(in_features=128, out_features=128, bias=True)\n",
      "              (3): ReLU()\n",
      "              (4): Linear(in_features=128, out_features=47, bias=True)\n",
      "            )\n",
      "          )\n",
      "        )\n",
      "        (base): UnconditionalDistribution(BoxUniform(low: tensor([-1.0000]), high: tensor([1.0000])))\n",
      "      )\n",
      "      (phi): UniformNCSF(\n",
      "        (transform): LazyComposedTransform(\n",
      "          (0-4): 5 x ElementWiseTransform(\n",
      "            (base): ComposedTransform(\n",
      "              (0): CircularShiftTransform(bound=1.0)\n",
      "              (1): MonotonicRQSTransform(bins=16)\n",
      "            )\n",
      "            (hyper): MLP(\n",
      "              (0): Linear(in_features=66, out_features=128, bias=True)\n",
      "              (1): ReLU()\n",
      "              (2): Linear(in_features=128, out_features=128, bias=True)\n",
      "              (3): ReLU()\n",
      "              (4): Linear(in_features=128, out_features=47, bias=True)\n",
      "            )\n",
      "          )\n",
      "        )\n",
      "        (base): UnconditionalDistribution(BoxUniform(low: tensor([-1.]), high: tensor([1.])))\n",
      "      )\n",
      "      (mass): NSF(\n",
      "        (transform): LazyComposedTransform(\n",
      "          (0-4): 5 x ElementWiseTransform(\n",
      "            (base): MonotonicRQSTransform(bins=16)\n",
      "            (hyper): MLP(\n",
      "              (0): Linear(in_features=67, out_features=128, bias=True)\n",
      "              (1): ReLU()\n",
      "              (2): Linear(in_features=128, out_features=128, bias=True)\n",
      "              (3): ReLU()\n",
      "              (4): Linear(in_features=128, out_features=47, bias=True)\n",
      "            )\n",
      "          )\n",
      "        )\n",
      "        (base): UnconditionalDistribution(DiagNormal(loc: tensor([0.]), scale: tensor([1.])))\n",
      "      )\n",
      "    )\n",
      "  )\n",
      ")\n"
     ]
    }
   ],
   "source": [
    "# Combined transfer flow #\n",
    "model = TransferFlow(\n",
    "    # General args #\n",
    "    dropout = 0.,\n",
    "    process_names = combined_dataset.names,\n",
    "    # Embedding arguments #\n",
    "    embed_dims = [32,64],\n",
    "    embed_act = nn.GELU,\n",
    "    # Particle features, names, masks, and number for printouts and logging #\n",
    "    n_hard_particles_per_type = combined_dataset.hard_datasets[0].number_particles_per_type,\n",
    "    hard_particle_type_names = combined_dataset.hard_datasets[0].selection,\n",
    "    hard_input_features_per_type = combined_dataset.hard_datasets[0].input_features,\n",
    "    n_reco_particles_per_type = combined_dataset.reco_datasets[0].number_particles_per_type,\n",
    "    reco_particle_type_names = combined_dataset.reco_datasets[0].selection,\n",
    "    reco_input_features_per_type = combined_dataset.reco_datasets[0].input_features,\n",
    "    flow_input_features = [ # features to be used in the flows (different from the tranformer)\n",
    "        ['pt','eta','phi','mass'], # muons\n",
    "        ['pt','eta','phi','mass'], # electrons\n",
    "        ['pt','phi'],              # met\n",
    "        ['pt','eta','phi','mass'], # jets\n",
    "    ],\n",
    "    hard_mask_attn = None, #combined_dataset.hard_datasets[0].attention_mask,\n",
    "    reco_mask_attn = combined_dataset.reco_datasets[0].attention_mask,\n",
    "    # Transformer arguments #\n",
    "    onehot_encoding = False, # add onehot encoded position vector to particles\n",
    "    transformer_args = { # to be passed to the Transformer pytorch class\n",
    "        'nhead' : 8,\n",
    "        'num_encoder_layers' : 8, \n",
    "        'num_decoder_layers' : 8, \n",
    "        'dim_feedforward' : 128, \n",
    "        'activation' : 'gelu', \n",
    "    },\n",
    "    # Flow args #\n",
    "    flow_common_args = { # common args for all flows\n",
    "        'bins' : 16,\n",
    "        'transforms' : 5,\n",
    "        'randperm' : True,\n",
    "        'passes' : None,\n",
    "        'hidden_features' : [128] * 2,   \n",
    "    },\n",
    "    flow_classes = { # classes for each feature\n",
    "        'pt'  : zuko.flows.NSF,\n",
    "        'eta' : UniformNSF,\n",
    "        'phi' : UniformNCSF,\n",
    "        'mass': zuko.flows.NSF,\n",
    "    },\n",
    "    flow_specific_args = { # specific args for each class above\n",
    "        'eta' : {'bound' : 1.},\n",
    "        'phi' : {'bound' : 1.},\n",
    "    },\n",
    "    flow_mode = 'global', # 'global', 'type' or 'particle'\n",
    ")\n",
    "model = model.cpu()\n",
    "\n",
    "batch = next(iter(loader_combined_train))\n",
    "\n",
    "log_probs, mask, weights = model(batch)\n",
    "mask = mask > 0\n",
    "print ('log_probs',log_probs,log_probs.shape)\n",
    "print ('mask',mask,mask.shape)\n",
    "print ('weights',weights,weights.shape)\n",
    "\n",
    "log_probs_tot = model.shared_eval(batch,0,'test')\n",
    "print ('tot log probs',log_probs_tot)\n",
    "\n",
    "samples = model.sample(batch['hard']['data'],batch['hard']['mask'],batch['reco']['data'],batch['reco']['mask'],N=100)\n",
    "print ('samples')\n",
    "for sample in samples:\n",
    "    print ('\\t',sample.shape)\n",
    "\n",
    "print (model)"
   ]
  },
  {
   "cell_type": "code",
   "execution_count": 10,
   "id": "21137b99-6318-4594-84d4-0682dae8288b",
   "metadata": {
    "scrolled": true
   },
   "outputs": [],
   "source": [
    "biases = [\n",
    "     BiasCallback(\n",
    "        dataset = combined_valid_datasets[suffix],\n",
    "        preprocessing = combined_datasets[suffix].reco_dataset._preprocessing,\n",
    "        N_sample = 100,\n",
    "        frequency = 10,\n",
    "        bins = 51,\n",
    "        points = 20,\n",
    "        log_scale = True,\n",
    "        batch_size = 5000,\n",
    "        #N_batch = 1,\n",
    "        suffix = suffix,\n",
    "        label_names = {\n",
    "            'pt' : 'p_T',\n",
    "            'eta' : '\\eta',\n",
    "            'phi' : '\\phi',\n",
    "            'mass' : 'M',\n",
    "        },\n",
    "    )\n",
    "    for suffix in suffixes\n",
    "]\n",
    "\n",
    "# for bias in biases:\n",
    "#     bias.make_bias_plots(model.cuda(),show=True)"
   ]
  },
  {
   "cell_type": "code",
   "execution_count": 11,
   "id": "b99f1a44-c9ba-4e45-a354-5d95bb3b5e32",
   "metadata": {},
   "outputs": [
    {
     "name": "stdout",
     "output_type": "stream",
     "text": [
      "Training   : Batch size = 1024 => 15 steps per epoch\n"
     ]
    },
    {
     "name": "stderr",
     "output_type": "stream",
     "text": [
      "CometLogger will be initialized in online mode\n",
      "\u001b[1;38;5;214mCOMET WARNING:\u001b[0m To get all data logged automatically, import comet_ml before the following modules: torch, sklearn.\n",
      "\u001b[1;38;5;214mCOMET WARNING:\u001b[0m As you are running in a Jupyter environment, you will need to call `experiment.end()` when finished to ensure all metrics and code are logged before exiting.\n",
      "\u001b[1;38;5;39mCOMET INFO:\u001b[0m Experiment is live on comet.com https://www.comet.com/florianbury/mem-flow-hh/96134cfe16624ecb9ae238b859c2ef69\n",
      "\n",
      "/home/ucl/cp3/fbury/scratch/anaconda3/envs/mem-flow/lib/python3.10/site-packages/lightning/fabric/plugins/environments/slurm.py:204: The `srun` command is available on your system but is not used. HINT: If your intention is to run Lightning on SLURM, prepend your python command with `srun` like so: srun python /home/ucl/cp3/fbury/scratch/anaconda3/envs/mem-flow/ ...\n",
      "Trainer already configured with model summary callbacks: [<class 'lightning.pytorch.callbacks.model_summary.ModelSummary'>]. Skipping setting a default `ModelSummary` callback.\n",
      "GPU available: True (cuda), used: True\n",
      "TPU available: False, using: 0 TPU cores\n",
      "HPU available: False, using: 0 HPUs\n",
      "LOCAL_RANK: 0 - CUDA_VISIBLE_DEVICES: [0]\n",
      "\n",
      "  | Name                | Type               | Params | Mode \n",
      "-------------------------------------------------------------------\n",
      "0 | hard_embeddings     | ModuleList         | 2.3 K  | train\n",
      "1 | hard_embeddings.0   | Sequential         | 2.3 K  | train\n",
      "2 | reco_embeddings     | ModuleList         | 2.4 K  | train\n",
      "3 | reco_embeddings.0   | Sequential         | 2.4 K  | train\n",
      "4 | transformer         | Transformer        | 669 K  | train\n",
      "5 | transformer.encoder | TransformerEncoder | 267 K  | train\n",
      "6 | transformer.decoder | TransformerDecoder | 402 K  | train\n",
      "7 | flows               | ModuleList         | 623 K  | train\n",
      "8 | flows.0             | ModuleDict         | 623 K  | train\n",
      "-------------------------------------------------------------------\n",
      "1.3 M     Trainable params\n",
      "0         Non-trainable params\n",
      "1.3 M     Total params\n",
      "5.193     Total estimated model params size (MB)\n"
     ]
    },
    {
     "data": {
      "application/vnd.jupyter.widget-view+json": {
       "model_id": "",
       "version_major": 2,
       "version_minor": 0
      },
      "text/plain": [
       "Sanity Checking: |                                                                            | 0/? [00:00<?, …"
      ]
     },
     "metadata": {},
     "output_type": "display_data"
    },
    {
     "name": "stderr",
     "output_type": "stream",
     "text": [
      "/home/ucl/cp3/fbury/scratch/anaconda3/envs/mem-flow/lib/python3.10/site-packages/torch/nn/modules/transformer.py:380: UserWarning: The PyTorch API of nested tensors is in prototype stage and will change in the near future. (Triggered internally at /opt/conda/conda-bld/pytorch_1699449181202/work/aten/src/ATen/NestedTensorImpl.cpp:178.)\n",
      "  output = torch._nested_tensor_from_mask(output, src_key_padding_mask.logical_not(), mask_check=False)\n",
      "/home/ucl/cp3/fbury/scratch/anaconda3/envs/mem-flow/lib/python3.10/site-packages/zuko/transforms.py:494: UserWarning: torch.searchsorted(): input value tensor is non-contiguous, this will lower the performance due to extra data copy when converting non-contiguous tensor to contiguous, please use contiguous input value tensor if possible. This message will only appear once per program. (Triggered internally at /opt/conda/conda-bld/pytorch_1699449181202/work/aten/src/ATen/native/BucketizationUtils.h:32.)\n",
      "  return torch.searchsorted(seq, value).squeeze(dim=-1)\n"
     ]
    },
    {
     "data": {
      "application/vnd.jupyter.widget-view+json": {
       "model_id": "e91823f81245492992a0eb98df5b7f0b",
       "version_major": 2,
       "version_minor": 0
      },
      "text/plain": [
       "Training: |                                                                                   | 0/? [00:00<?, …"
      ]
     },
     "metadata": {},
     "output_type": "display_data"
    },
    {
     "data": {
      "application/vnd.jupyter.widget-view+json": {
       "model_id": "",
       "version_major": 2,
       "version_minor": 0
      },
      "text/plain": [
       "Validation: |                                                                                 | 0/? [00:00<?, …"
      ]
     },
     "metadata": {},
     "output_type": "display_data"
    },
    {
     "data": {
      "application/vnd.jupyter.widget-view+json": {
       "model_id": "",
       "version_major": 2,
       "version_minor": 0
      },
      "text/plain": [
       "Validation: |                                                                                 | 0/? [00:00<?, …"
      ]
     },
     "metadata": {},
     "output_type": "display_data"
    },
    {
     "data": {
      "application/vnd.jupyter.widget-view+json": {
       "model_id": "",
       "version_major": 2,
       "version_minor": 0
      },
      "text/plain": [
       "Validation: |                                                                                 | 0/? [00:00<?, …"
      ]
     },
     "metadata": {},
     "output_type": "display_data"
    },
    {
     "data": {
      "application/vnd.jupyter.widget-view+json": {
       "model_id": "",
       "version_major": 2,
       "version_minor": 0
      },
      "text/plain": [
       "Validation: |                                                                                 | 0/? [00:00<?, …"
      ]
     },
     "metadata": {},
     "output_type": "display_data"
    },
    {
     "data": {
      "application/vnd.jupyter.widget-view+json": {
       "model_id": "",
       "version_major": 2,
       "version_minor": 0
      },
      "text/plain": [
       "Validation: |                                                                                 | 0/? [00:00<?, …"
      ]
     },
     "metadata": {},
     "output_type": "display_data"
    },
    {
     "data": {
      "application/vnd.jupyter.widget-view+json": {
       "model_id": "",
       "version_major": 2,
       "version_minor": 0
      },
      "text/plain": [
       "Validation: |                                                                                 | 0/? [00:00<?, …"
      ]
     },
     "metadata": {},
     "output_type": "display_data"
    },
    {
     "data": {
      "application/vnd.jupyter.widget-view+json": {
       "model_id": "",
       "version_major": 2,
       "version_minor": 0
      },
      "text/plain": [
       "Validation: |                                                                                 | 0/? [00:00<?, …"
      ]
     },
     "metadata": {},
     "output_type": "display_data"
    },
    {
     "data": {
      "application/vnd.jupyter.widget-view+json": {
       "model_id": "",
       "version_major": 2,
       "version_minor": 0
      },
      "text/plain": [
       "Validation: |                                                                                 | 0/? [00:00<?, …"
      ]
     },
     "metadata": {},
     "output_type": "display_data"
    },
    {
     "data": {
      "application/vnd.jupyter.widget-view+json": {
       "model_id": "",
       "version_major": 2,
       "version_minor": 0
      },
      "text/plain": [
       "Validation: |                                                                                 | 0/? [00:00<?, …"
      ]
     },
     "metadata": {},
     "output_type": "display_data"
    },
    {
     "data": {
      "application/vnd.jupyter.widget-view+json": {
       "model_id": "",
       "version_major": 2,
       "version_minor": 0
      },
      "text/plain": [
       "Validation: |                                                                                 | 0/? [00:00<?, …"
      ]
     },
     "metadata": {},
     "output_type": "display_data"
    },
    {
     "data": {
      "application/vnd.jupyter.widget-view+json": {
       "model_id": "",
       "version_major": 2,
       "version_minor": 0
      },
      "text/plain": [
       "Validation: |                                                                                 | 0/? [00:00<?, …"
      ]
     },
     "metadata": {},
     "output_type": "display_data"
    },
    {
     "data": {
      "application/vnd.jupyter.widget-view+json": {
       "model_id": "",
       "version_major": 2,
       "version_minor": 0
      },
      "text/plain": [
       "Validation: |                                                                                 | 0/? [00:00<?, …"
      ]
     },
     "metadata": {},
     "output_type": "display_data"
    },
    {
     "data": {
      "application/vnd.jupyter.widget-view+json": {
       "model_id": "",
       "version_major": 2,
       "version_minor": 0
      },
      "text/plain": [
       "Validation: |                                                                                 | 0/? [00:00<?, …"
      ]
     },
     "metadata": {},
     "output_type": "display_data"
    },
    {
     "data": {
      "application/vnd.jupyter.widget-view+json": {
       "model_id": "",
       "version_major": 2,
       "version_minor": 0
      },
      "text/plain": [
       "Validation: |                                                                                 | 0/? [00:00<?, …"
      ]
     },
     "metadata": {},
     "output_type": "display_data"
    },
    {
     "data": {
      "application/vnd.jupyter.widget-view+json": {
       "model_id": "",
       "version_major": 2,
       "version_minor": 0
      },
      "text/plain": [
       "Validation: |                                                                                 | 0/? [00:00<?, …"
      ]
     },
     "metadata": {},
     "output_type": "display_data"
    },
    {
     "data": {
      "application/vnd.jupyter.widget-view+json": {
       "model_id": "",
       "version_major": 2,
       "version_minor": 0
      },
      "text/plain": [
       "Validation: |                                                                                 | 0/? [00:00<?, …"
      ]
     },
     "metadata": {},
     "output_type": "display_data"
    },
    {
     "data": {
      "application/vnd.jupyter.widget-view+json": {
       "model_id": "",
       "version_major": 2,
       "version_minor": 0
      },
      "text/plain": [
       "Validation: |                                                                                 | 0/? [00:00<?, …"
      ]
     },
     "metadata": {},
     "output_type": "display_data"
    },
    {
     "data": {
      "application/vnd.jupyter.widget-view+json": {
       "model_id": "",
       "version_major": 2,
       "version_minor": 0
      },
      "text/plain": [
       "Validation: |                                                                                 | 0/? [00:00<?, …"
      ]
     },
     "metadata": {},
     "output_type": "display_data"
    },
    {
     "data": {
      "application/vnd.jupyter.widget-view+json": {
       "model_id": "",
       "version_major": 2,
       "version_minor": 0
      },
      "text/plain": [
       "Validation: |                                                                                 | 0/? [00:00<?, …"
      ]
     },
     "metadata": {},
     "output_type": "display_data"
    },
    {
     "data": {
      "application/vnd.jupyter.widget-view+json": {
       "model_id": "",
       "version_major": 2,
       "version_minor": 0
      },
      "text/plain": [
       "Validation: |                                                                                 | 0/? [00:00<?, …"
      ]
     },
     "metadata": {},
     "output_type": "display_data"
    },
    {
     "data": {
      "application/vnd.jupyter.widget-view+json": {
       "model_id": "",
       "version_major": 2,
       "version_minor": 0
      },
      "text/plain": [
       "Validation: |                                                                                 | 0/? [00:00<?, …"
      ]
     },
     "metadata": {},
     "output_type": "display_data"
    },
    {
     "data": {
      "application/vnd.jupyter.widget-view+json": {
       "model_id": "",
       "version_major": 2,
       "version_minor": 0
      },
      "text/plain": [
       "Validation: |                                                                                 | 0/? [00:00<?, …"
      ]
     },
     "metadata": {},
     "output_type": "display_data"
    },
    {
     "data": {
      "application/vnd.jupyter.widget-view+json": {
       "model_id": "",
       "version_major": 2,
       "version_minor": 0
      },
      "text/plain": [
       "Validation: |                                                                                 | 0/? [00:00<?, …"
      ]
     },
     "metadata": {},
     "output_type": "display_data"
    },
    {
     "data": {
      "application/vnd.jupyter.widget-view+json": {
       "model_id": "",
       "version_major": 2,
       "version_minor": 0
      },
      "text/plain": [
       "Validation: |                                                                                 | 0/? [00:00<?, …"
      ]
     },
     "metadata": {},
     "output_type": "display_data"
    },
    {
     "data": {
      "application/vnd.jupyter.widget-view+json": {
       "model_id": "",
       "version_major": 2,
       "version_minor": 0
      },
      "text/plain": [
       "Validation: |                                                                                 | 0/? [00:00<?, …"
      ]
     },
     "metadata": {},
     "output_type": "display_data"
    },
    {
     "data": {
      "application/vnd.jupyter.widget-view+json": {
       "model_id": "",
       "version_major": 2,
       "version_minor": 0
      },
      "text/plain": [
       "Validation: |                                                                                 | 0/? [00:00<?, …"
      ]
     },
     "metadata": {},
     "output_type": "display_data"
    },
    {
     "data": {
      "application/vnd.jupyter.widget-view+json": {
       "model_id": "",
       "version_major": 2,
       "version_minor": 0
      },
      "text/plain": [
       "Validation: |                                                                                 | 0/? [00:00<?, …"
      ]
     },
     "metadata": {},
     "output_type": "display_data"
    },
    {
     "data": {
      "application/vnd.jupyter.widget-view+json": {
       "model_id": "",
       "version_major": 2,
       "version_minor": 0
      },
      "text/plain": [
       "Validation: |                                                                                 | 0/? [00:00<?, …"
      ]
     },
     "metadata": {},
     "output_type": "display_data"
    },
    {
     "data": {
      "application/vnd.jupyter.widget-view+json": {
       "model_id": "",
       "version_major": 2,
       "version_minor": 0
      },
      "text/plain": [
       "Validation: |                                                                                 | 0/? [00:00<?, …"
      ]
     },
     "metadata": {},
     "output_type": "display_data"
    },
    {
     "data": {
      "application/vnd.jupyter.widget-view+json": {
       "model_id": "",
       "version_major": 2,
       "version_minor": 0
      },
      "text/plain": [
       "Validation: |                                                                                 | 0/? [00:00<?, …"
      ]
     },
     "metadata": {},
     "output_type": "display_data"
    },
    {
     "data": {
      "application/vnd.jupyter.widget-view+json": {
       "model_id": "",
       "version_major": 2,
       "version_minor": 0
      },
      "text/plain": [
       "Validation: |                                                                                 | 0/? [00:00<?, …"
      ]
     },
     "metadata": {},
     "output_type": "display_data"
    },
    {
     "data": {
      "application/vnd.jupyter.widget-view+json": {
       "model_id": "",
       "version_major": 2,
       "version_minor": 0
      },
      "text/plain": [
       "Validation: |                                                                                 | 0/? [00:00<?, …"
      ]
     },
     "metadata": {},
     "output_type": "display_data"
    },
    {
     "data": {
      "application/vnd.jupyter.widget-view+json": {
       "model_id": "",
       "version_major": 2,
       "version_minor": 0
      },
      "text/plain": [
       "Validation: |                                                                                 | 0/? [00:00<?, …"
      ]
     },
     "metadata": {},
     "output_type": "display_data"
    },
    {
     "data": {
      "application/vnd.jupyter.widget-view+json": {
       "model_id": "",
       "version_major": 2,
       "version_minor": 0
      },
      "text/plain": [
       "Validation: |                                                                                 | 0/? [00:00<?, …"
      ]
     },
     "metadata": {},
     "output_type": "display_data"
    },
    {
     "data": {
      "application/vnd.jupyter.widget-view+json": {
       "model_id": "",
       "version_major": 2,
       "version_minor": 0
      },
      "text/plain": [
       "Validation: |                                                                                 | 0/? [00:00<?, …"
      ]
     },
     "metadata": {},
     "output_type": "display_data"
    },
    {
     "data": {
      "application/vnd.jupyter.widget-view+json": {
       "model_id": "",
       "version_major": 2,
       "version_minor": 0
      },
      "text/plain": [
       "Validation: |                                                                                 | 0/? [00:00<?, …"
      ]
     },
     "metadata": {},
     "output_type": "display_data"
    },
    {
     "data": {
      "application/vnd.jupyter.widget-view+json": {
       "model_id": "",
       "version_major": 2,
       "version_minor": 0
      },
      "text/plain": [
       "Validation: |                                                                                 | 0/? [00:00<?, …"
      ]
     },
     "metadata": {},
     "output_type": "display_data"
    },
    {
     "data": {
      "application/vnd.jupyter.widget-view+json": {
       "model_id": "",
       "version_major": 2,
       "version_minor": 0
      },
      "text/plain": [
       "Validation: |                                                                                 | 0/? [00:00<?, …"
      ]
     },
     "metadata": {},
     "output_type": "display_data"
    },
    {
     "data": {
      "application/vnd.jupyter.widget-view+json": {
       "model_id": "",
       "version_major": 2,
       "version_minor": 0
      },
      "text/plain": [
       "Validation: |                                                                                 | 0/? [00:00<?, …"
      ]
     },
     "metadata": {},
     "output_type": "display_data"
    },
    {
     "data": {
      "application/vnd.jupyter.widget-view+json": {
       "model_id": "",
       "version_major": 2,
       "version_minor": 0
      },
      "text/plain": [
       "Validation: |                                                                                 | 0/? [00:00<?, …"
      ]
     },
     "metadata": {},
     "output_type": "display_data"
    },
    {
     "data": {
      "application/vnd.jupyter.widget-view+json": {
       "model_id": "",
       "version_major": 2,
       "version_minor": 0
      },
      "text/plain": [
       "Validation: |                                                                                 | 0/? [00:00<?, …"
      ]
     },
     "metadata": {},
     "output_type": "display_data"
    },
    {
     "data": {
      "application/vnd.jupyter.widget-view+json": {
       "model_id": "",
       "version_major": 2,
       "version_minor": 0
      },
      "text/plain": [
       "Validation: |                                                                                 | 0/? [00:00<?, …"
      ]
     },
     "metadata": {},
     "output_type": "display_data"
    },
    {
     "data": {
      "application/vnd.jupyter.widget-view+json": {
       "model_id": "",
       "version_major": 2,
       "version_minor": 0
      },
      "text/plain": [
       "Validation: |                                                                                 | 0/? [00:00<?, …"
      ]
     },
     "metadata": {},
     "output_type": "display_data"
    },
    {
     "data": {
      "application/vnd.jupyter.widget-view+json": {
       "model_id": "",
       "version_major": 2,
       "version_minor": 0
      },
      "text/plain": [
       "Validation: |                                                                                 | 0/? [00:00<?, …"
      ]
     },
     "metadata": {},
     "output_type": "display_data"
    },
    {
     "data": {
      "application/vnd.jupyter.widget-view+json": {
       "model_id": "",
       "version_major": 2,
       "version_minor": 0
      },
      "text/plain": [
       "Validation: |                                                                                 | 0/? [00:00<?, …"
      ]
     },
     "metadata": {},
     "output_type": "display_data"
    },
    {
     "data": {
      "application/vnd.jupyter.widget-view+json": {
       "model_id": "606bb9c1a52f4c80b211fdcaf2296263",
       "version_major": 2,
       "version_minor": 0
      },
      "text/plain": [
       "Validation: |                                                                                 | 0/? [00:00<?, …"
      ]
     },
     "metadata": {},
     "output_type": "display_data"
    },
    {
     "data": {
      "application/vnd.jupyter.widget-view+json": {
       "model_id": "9fdc6df9a26d47f58132f3225d899596",
       "version_major": 2,
       "version_minor": 0
      },
      "text/plain": [
       "Validation: |                                                                                 | 0/? [00:00<?, …"
      ]
     },
     "metadata": {},
     "output_type": "display_data"
    },
    {
     "name": "stderr",
     "output_type": "stream",
     "text": [
      "/home/ucl/cp3/fbury/scratch/anaconda3/envs/mem-flow/lib/python3.10/site-packages/lightning/pytorch/trainer/call.py:54: Detected KeyboardInterrupt, attempting graceful shutdown...\n",
      "\u001b[1;38;5;39mCOMET INFO:\u001b[0m ---------------------------------------------------------------------------------------\n",
      "\u001b[1;38;5;39mCOMET INFO:\u001b[0m Comet.ml Experiment Summary\n",
      "\u001b[1;38;5;39mCOMET INFO:\u001b[0m ---------------------------------------------------------------------------------------\n",
      "\u001b[1;38;5;39mCOMET INFO:\u001b[0m   Data:\n",
      "\u001b[1;38;5;39mCOMET INFO:\u001b[0m     display_summary_level : 1\n",
      "\u001b[1;38;5;39mCOMET INFO:\u001b[0m     name                  : combined\n",
      "\u001b[1;38;5;39mCOMET INFO:\u001b[0m     url                   : https://www.comet.com/florianbury/mem-flow-hh/96134cfe16624ecb9ae238b859c2ef69\n",
      "\u001b[1;38;5;39mCOMET INFO:\u001b[0m   Metrics [count] (min, max):\n",
      "\u001b[1;38;5;39mCOMET INFO:\u001b[0m     scheduler                 : 0.0001\n",
      "\u001b[1;38;5;39mCOMET INFO:\u001b[0m     val/loss_electrons_0 [62] : (-6.698272228240967, 1.9099386930465698)\n",
      "\u001b[1;38;5;39mCOMET INFO:\u001b[0m     val/loss_electrons_1 [62] : (-6.1056904792785645, 2.092271089553833)\n",
      "\u001b[1;38;5;39mCOMET INFO:\u001b[0m     val/loss_jets_0 [62]      : (2.3520278930664062, 4.014499664306641)\n",
      "\u001b[1;38;5;39mCOMET INFO:\u001b[0m     val/loss_jets_1 [62]      : (2.5070533752441406, 4.096620082855225)\n",
      "\u001b[1;38;5;39mCOMET INFO:\u001b[0m     val/loss_jets_2 [62]      : (2.74635910987854, 4.437516689300537)\n",
      "\u001b[1;38;5;39mCOMET INFO:\u001b[0m     val/loss_jets_3 [62]      : (2.788167715072632, 4.254570007324219)\n",
      "\u001b[1;38;5;39mCOMET INFO:\u001b[0m     val/loss_met_0 [62]       : (1.6808762550354004, 1.800119161605835)\n",
      "\u001b[1;38;5;39mCOMET INFO:\u001b[0m     val/loss_muons_0 [62]     : (-8.562868118286133, 1.8765699863433838)\n",
      "\u001b[1;38;5;39mCOMET INFO:\u001b[0m     val/loss_muons_1 [62]     : (-7.625077247619629, 2.0028669834136963)\n",
      "\u001b[1;38;5;39mCOMET INFO:\u001b[0m     val/loss_process_DY [62]  : (-1.3505746126174927, 2.873251438140869)\n",
      "\u001b[1;38;5;39mCOMET INFO:\u001b[0m     val/loss_tot [62]         : (-1.3505746126174927, 2.873251438140869)\n",
      "\u001b[1;38;5;39mCOMET INFO:\u001b[0m   Others:\n",
      "\u001b[1;38;5;39mCOMET INFO:\u001b[0m     Created from : pytorch-lightning\n",
      "\u001b[1;38;5;39mCOMET INFO:\u001b[0m     Name         : combined\n",
      "\u001b[1;38;5;39mCOMET INFO:\u001b[0m   Uploads:\n",
      "\u001b[1;38;5;39mCOMET INFO:\u001b[0m     conda-environment-definition : 1\n",
      "\u001b[1;38;5;39mCOMET INFO:\u001b[0m     conda-info                   : 1\n",
      "\u001b[1;38;5;39mCOMET INFO:\u001b[0m     conda-specification          : 1\n",
      "\u001b[1;38;5;39mCOMET INFO:\u001b[0m     environment details          : 1\n",
      "\u001b[1;38;5;39mCOMET INFO:\u001b[0m     figures                      : 108\n",
      "\u001b[1;38;5;39mCOMET INFO:\u001b[0m     filename                     : 1\n",
      "\u001b[1;38;5;39mCOMET INFO:\u001b[0m     git metadata                 : 1\n",
      "\u001b[1;38;5;39mCOMET INFO:\u001b[0m     git-patch (uncompressed)     : 1 (191.66 KB)\n",
      "\u001b[1;38;5;39mCOMET INFO:\u001b[0m     installed packages           : 1\n",
      "\u001b[1;38;5;39mCOMET INFO:\u001b[0m     model graph                  : 1\n",
      "\u001b[1;38;5;39mCOMET INFO:\u001b[0m     notebook                     : 2 (29.90 KB)\n",
      "\u001b[1;38;5;39mCOMET INFO:\u001b[0m     source_code                  : 1\n",
      "\u001b[1;38;5;39mCOMET INFO:\u001b[0m \n",
      "\u001b[1;38;5;214mCOMET WARNING:\u001b[0m To get all data logged automatically, import comet_ml before the following modules: torch, sklearn.\n",
      "\n",
      "KeyboardInterrupt\n",
      "\n"
     ]
    }
   ],
   "source": [
    "##### Parameters #####\n",
    "epochs = 200\n",
    "steps_per_epoch_train = math.ceil(len(combined_dataset_train)/loader_combined_train.batch_size)\n",
    "\n",
    "print (f'Training   : Batch size = {loader_combined_train.batch_size} => {steps_per_epoch_train} steps per epoch')\n",
    "##### Optimizer #####\n",
    "optimizer = optim.Adam(model.parameters(), lr=1e-4)\n",
    "model.set_optimizer(optimizer)\n",
    "\n",
    "##### Scheduler #####\n",
    "# scheduler = torch.optim.lr_scheduler.OneCycleLR(\n",
    "#     optimizer = optimizer, \n",
    "#     max_lr = 1e-3, \n",
    "#     epochs = epochs, \n",
    "#     steps_per_epoch = steps_per_epoch_train, \n",
    "#     pct_start = 0.25,\n",
    "#     anneal_strategy='linear', \n",
    "#     cycle_momentum=True, \n",
    "#     base_momentum=0.85, \n",
    "#     max_momentum=0.95, \n",
    "#     div_factor=1e1, \n",
    "#     final_div_factor=1e1,\n",
    "#     three_phase = True,\n",
    "# )\n",
    "scheduler = torch.optim.lr_scheduler.ReduceLROnPlateau(\n",
    "    optimizer = optimizer,\n",
    "    mode='min', \n",
    "    factor=0.1, \n",
    "    patience=10, \n",
    "    threshold=0.001, \n",
    "    threshold_mode='rel', \n",
    "    cooldown=0, \n",
    "    min_lr=1e-7\n",
    ")\n",
    "model.set_scheduler_config(\n",
    "    {\n",
    "        'scheduler' : scheduler,\n",
    "        'interval' : 'step' if isinstance(scheduler,optim.lr_scheduler.OneCycleLR) else 'epoch',\n",
    "        'frequency' : 1,\n",
    "        'monitor' : 'val/loss_tot',\n",
    "        'strict' : True,\n",
    "        'name' : 'scheduler',\n",
    "    }\n",
    ")\n",
    "\n",
    "##### Callbacks #####\n",
    "callbacks = [\n",
    "    L.pytorch.callbacks.LearningRateMonitor(logging_interval = 'epoch'),\n",
    "    L.pytorch.callbacks.ModelSummary(max_depth=2),\n",
    "] + biases\n",
    "\n",
    "##### Logger #####\n",
    "logger = pl_loggers.CometLogger(\n",
    "    save_dir = '../comet_logs',\n",
    "    project_name = 'mem-flow-HH',\n",
    "    experiment_name = 'combined',\n",
    "    offline = False,\n",
    ") \n",
    "logger.log_graph(model)\n",
    "# logger.log_hyperparams()\n",
    "# logger.experiment.log_code(folder='../src/')\n",
    "logger.experiment.log_notebook(filename=globals()['__session__'],overwrite=True)\n",
    "\n",
    "##### Trainer #####\n",
    "trainer = L.Trainer(    \n",
    "    min_epochs = 5,\n",
    "    max_epochs = epochs,\n",
    "    callbacks = callbacks,\n",
    "    devices = 'auto',\n",
    "    accelerator = accelerator,\n",
    "    logger = logger,\n",
    "    log_every_n_steps = steps_per_epoch_train/100,\n",
    ")\n",
    "##### Fit #####\n",
    "trainer.fit(\n",
    "    model = model, \n",
    "    train_dataloaders = loader_combined_train,\n",
    "    val_dataloaders = loader_combined_valid,\n",
    ")"
   ]
  },
  {
   "cell_type": "code",
   "execution_count": null,
   "id": "6c8fa0db-b726-415e-a8d6-01df77100d8c",
   "metadata": {
    "scrolled": true
   },
   "outputs": [],
   "source": [
    "for bias in biases:\n",
    "    bias.make_bias_plots(model.cuda(),show=True)"
   ]
  },
  {
   "cell_type": "code",
   "execution_count": null,
   "id": "e684f06a-f33f-41bb-866f-0729c8bee9cf",
   "metadata": {
    "scrolled": true
   },
   "outputs": [],
   "source": [
    "idx_to_monitor = [0,1,2]\n",
    "samplings = [\n",
    "    SamplingCallback(\n",
    "        dataset = combined_valid_datasets[suffix],\n",
    "        preprocessing = combined_datasets[suffix].reco_dataset._preprocessing,\n",
    "        idx_to_monitor = idx_to_monitor,\n",
    "        N_sample = 1000000, \n",
    "        frequency = 5,\n",
    "        bins = 51,\n",
    "        log_scale = True,\n",
    "        label_names = {\n",
    "            'pt' : 'p_T',\n",
    "            'eta' : '\\eta',\n",
    "            'phi' : '\\phi',\n",
    "            'mass' : 'M',\n",
    "        },\n",
    "    )\n",
    "    for suffix in suffixes\n",
    "]\n",
    "for sampling in samplings:\n",
    "    figs = sampling.make_sampling_plots(model.cuda(),show=True)\n"
   ]
  },
  {
   "cell_type": "code",
   "execution_count": null,
   "id": "6d6c7ad7-b6ab-451b-bebd-3e44437badb7",
   "metadata": {},
   "outputs": [],
   "source": [
    "torch.save(model,'TF_combined.pt')"
   ]
  },
  {
   "cell_type": "markdown",
   "id": "3bb0812c-fa47-44b1-a728-ddc628e05e1a",
   "metadata": {},
   "source": [
    "# Debug"
   ]
  },
  {
   "cell_type": "code",
   "execution_count": null,
   "id": "94c9212f-4d7a-4bea-bd66-fbf5646c909c",
   "metadata": {},
   "outputs": [],
   "source": [
    "suffix = 'HH'\n",
    "\n",
    "dataset = combined_datasets[suffix]\n",
    "\n",
    "train_frac = 0.9\n",
    "indices = torch.randperm(len(dataset))\n",
    "sep = int(train_frac*len(dataset))\n",
    "train_indices = indices[:sep]\n",
    "valid_indices = indices[sep:]\n",
    "\n",
    "\n",
    "dataset_train = torch.utils.data.Subset(dataset,train_indices)\n",
    "dataset_valid = torch.utils.data.Subset(dataset,valid_indices)\n",
    "print (f'Dataset : training {len(dataset_train)} / validation {len(dataset_valid)}')\n",
    "\n",
    "batch_size = 2048\n",
    "\n",
    "loader_train = DataLoader(\n",
    "    dataset_train,\n",
    "    batch_size = batch_size,\n",
    "    shuffle = True,\n",
    ")\n",
    "loader_valid = DataLoader(\n",
    "    dataset_valid,\n",
    "    batch_size = 10000,\n",
    "    shuffle = False,\n",
    ")\n",
    "print (f'Batching {len(loader_train)} / Validation {len(loader_valid)}')\n",
    "\n",
    "\n",
    "# Combined transfer flow #\n",
    "model = TransferFlow(\n",
    "    # Harderal args #\n",
    "    dropout = 0.,\n",
    "    # Embedding arguments #\n",
    "    embed_dims = [64],\n",
    "    embed_act = nn.GELU,\n",
    "    # Particle features, names, masks, and number for printouts and logging #\n",
    "    n_hard_particles_per_type = dataset.hard_dataset.number_particles_per_type,\n",
    "    hard_particle_type_names = dataset.hard_dataset.selection,\n",
    "    hard_input_features_per_type = dataset.hard_dataset.input_features,\n",
    "    n_reco_particles_per_type = dataset.reco_dataset.number_particles_per_type,\n",
    "    reco_particle_type_names = dataset.reco_dataset.selection,\n",
    "    reco_input_features_per_type = dataset.reco_dataset.input_features,\n",
    "    flow_input_features = [ # features to be used in the flows (different from the tranformer)\n",
    "        ['pt','eta','phi'], # electrons\n",
    "        ['pt','eta','phi'], # muons\n",
    "        ['pt','phi'],       # met\n",
    "        ['pt','eta','phi'], # jets\n",
    "    ],\n",
    "    hard_mask_attn = None, #combined_dataset.hard_datasets[0].attention_mask,\n",
    "    reco_mask_attn = dataset.reco_dataset.attention_mask,\n",
    "    # Transformer arguments #\n",
    "    onehot_encoding = True, # add onehot encoded position vector to features\n",
    "    transformer_args = { # to be passed to the Transformer pytorch class\n",
    "        'nhead' : 8,\n",
    "        'num_encoder_layers' : 8, \n",
    "        'num_decoder_layers' : 8, \n",
    "        'dim_feedforward' : 128, \n",
    "        'dropout' : 0., \n",
    "        'activation' : 'gelu', \n",
    "    },\n",
    "    # Flow args #\n",
    "    flow_common_args = { # common args for all flows\n",
    "        'bins' : 8,\n",
    "        'transforms' : 5,\n",
    "        'randperm' : True,\n",
    "        'passes' : None,\n",
    "        'hidden_features' : [128] * 3,   \n",
    "    },\n",
    "    flow_classes = { # classes for each feature\n",
    "        'pt'  : zuko.flows.NSF,\n",
    "        'eta' : UniformNSF,\n",
    "        'phi' : UniformNCSF,\n",
    "    },\n",
    "    flow_specific_args = { # specific args for each class above\n",
    "        'eta' : {'bound' : 1.},\n",
    "        'phi' : {'bound' : 1.},\n",
    "    },\n",
    "    flow_mode = 'global', # 'global', 'type' or 'particle'\n",
    ")\n",
    "model = model.cpu()\n",
    "\n",
    "batch = next(iter(loader_train))\n",
    "\n",
    "log_probs, mask, weights = model(batch)\n",
    "mask = mask > 0\n",
    "print ('log_probs',log_probs,log_probs.shape)\n",
    "print ('mask',mask,mask.shape)\n",
    "print ('weights',weights,weights.shape)\n",
    "\n",
    "log_probs_tot = model.shared_eval(batch,0,'test')\n",
    "print ('tot log probs',log_probs_tot)\n",
    "\n",
    "samples = model.sample(batch['hard']['data'],batch['hard']['mask'],batch['reco']['data'],batch['reco']['mask'],N=100)\n",
    "print ('samples')\n",
    "for sample in samples:\n",
    "    print ('\\t',sample.shape)\n",
    "\n",
    "optimizer = optim.RAdam(model.parameters(), lr=1e-3)\n",
    "model.set_optimizer(optimizer)\n",
    "\n",
    "logger = pl_loggers.CometLogger(\n",
    "    save_dir = '../comet_logs',\n",
    "    project_name = 'mem-flow-HH',\n",
    "    experiment_name = 'combined',\n",
    "    offline = True,\n",
    ") \n",
    "\n",
    "##### Trainer #####\n",
    "trainer = L.Trainer(    \n",
    "    min_epochs = 5,\n",
    "    max_epochs = 50,\n",
    "    devices = 'auto',\n",
    "    logger = logger,\n",
    "    accelerator = accelerator,\n",
    "    log_every_n_steps = 100,\n",
    ")\n",
    "##### Fit #####\n",
    "trainer.fit(\n",
    "    model = model, \n",
    "    train_dataloaders = loader_train,\n",
    "    val_dataloaders = loader_valid,\n",
    ")"
   ]
  },
  {
   "cell_type": "code",
   "execution_count": null,
   "id": "92827212-cc22-4927-8e05-86d871d4f7cc",
   "metadata": {},
   "outputs": [],
   "source": [
    "model = model.to('cuda')\n",
    "for i,batch in enumerate(loader_test):\n",
    "    #batch = model.transfer_batch_to_device(batch, model.device, dataloader_idx=0)\n",
    "    #log_probs_tot = model.shared_eval(batch,0,'test')\n",
    "    #print (log_probs_tot)\n",
    "    print (i,batch)"
   ]
  },
  {
   "cell_type": "code",
   "execution_count": null,
   "id": "3511a352-7239-4f3a-b95c-cb2f315ef7af",
   "metadata": {},
   "outputs": [],
   "source": []
  }
 ],
 "metadata": {
  "kernelspec": {
   "display_name": "Python 3 (ipykernel)",
   "language": "python",
   "name": "python3"
  },
  "language_info": {
   "codemirror_mode": {
    "name": "ipython",
    "version": 3
   },
   "file_extension": ".py",
   "mimetype": "text/x-python",
   "name": "python",
   "nbconvert_exporter": "python",
   "pygments_lexer": "ipython3",
   "version": "3.10.14"
  }
 },
 "nbformat": 4,
 "nbformat_minor": 5
}
