{
 "cells": [
  {
   "cell_type": "code",
   "execution_count": 1,
   "id": "75f01384-5f75-4aea-b3e7-d56be8ca8f3d",
   "metadata": {},
   "outputs": [
    {
     "name": "stdout",
     "output_type": "stream",
     "text": [
      "Running on GPU : True\n",
      "Accelerator : gpu\n",
      "|===========================================================================|\n",
      "|                  PyTorch CUDA memory summary, device ID 0                 |\n",
      "|---------------------------------------------------------------------------|\n",
      "|            CUDA OOMs: 0            |        cudaMalloc retries: 0         |\n",
      "|===========================================================================|\n",
      "|        Metric         | Cur Usage  | Peak Usage | Tot Alloc  | Tot Freed  |\n",
      "|---------------------------------------------------------------------------|\n",
      "| Allocated memory      |      0 B   |      0 B   |      0 B   |      0 B   |\n",
      "|---------------------------------------------------------------------------|\n",
      "| Active memory         |      0 B   |      0 B   |      0 B   |      0 B   |\n",
      "|---------------------------------------------------------------------------|\n",
      "| Requested memory      |      0 B   |      0 B   |      0 B   |      0 B   |\n",
      "|---------------------------------------------------------------------------|\n",
      "| GPU reserved memory   |      0 B   |      0 B   |      0 B   |      0 B   |\n",
      "|---------------------------------------------------------------------------|\n",
      "| Non-releasable memory |      0 B   |      0 B   |      0 B   |      0 B   |\n",
      "|---------------------------------------------------------------------------|\n",
      "| Allocations           |       0    |       0    |       0    |       0    |\n",
      "|---------------------------------------------------------------------------|\n",
      "| Active allocs         |       0    |       0    |       0    |       0    |\n",
      "|---------------------------------------------------------------------------|\n",
      "| GPU reserved segments |       0    |       0    |       0    |       0    |\n",
      "|---------------------------------------------------------------------------|\n",
      "| Non-releasable allocs |       0    |       0    |       0    |       0    |\n",
      "|---------------------------------------------------------------------------|\n",
      "| Oversize allocations  |       0    |       0    |       0    |       0    |\n",
      "|---------------------------------------------------------------------------|\n",
      "| Oversize GPU segments |       0    |       0    |       0    |       0    |\n",
      "|===========================================================================|\n",
      "\n"
     ]
    }
   ],
   "source": [
    "%load_ext autoreload\n",
    "%autoreload 2\n",
    "\n",
    "import time\n",
    "import yaml\n",
    "import math\n",
    "import copy\n",
    "import torch\n",
    "from torch import nn, optim\n",
    "import numpy as np\n",
    "import awkward as ak\n",
    "import uproot\n",
    "import pandas as pd\n",
    "import dask\n",
    "import vector\n",
    "import particle\n",
    "import hepunits\n",
    "\n",
    "import zuko\n",
    "import torch\n",
    "from torch import nn, optim\n",
    "import lightning as L\n",
    "from lightning.pytorch import loggers as pl_loggers\n",
    "\n",
    "from torch.utils.data import DataLoader\n",
    "\n",
    "from memflow.dataset.data import RootData,ParquetData\n",
    "from memflow.dataset.dataset import MultiDataset\n",
    "from memflow.callbacks.clustering_callbacks import *\n",
    "from memflow.models.custom_flows import *\n",
    "from memflow.models.transformer_autoencoder import TAE\n",
    "\n",
    "from matplotlib import pyplot as plt\n",
    "plt.rcParams.update({'figure.max_open_warning': 100})\n",
    "\n",
    "vector.register_awkward()\n",
    "\n",
    "print (f\"Running on GPU : {torch.cuda.is_available()}\")\n",
    "accelerator = 'gpu' if torch.cuda.is_available() else 'cpu'\n",
    "print (f\"Accelerator : {accelerator}\")\n",
    "torch.set_float32_matmul_precision('medium')  \n",
    "if accelerator =='gpu':\n",
    "    torch.cuda.empty_cache()\n",
    "    print (torch.cuda.memory_summary(device=None, abbreviated=True))"
   ]
  },
  {
   "cell_type": "markdown",
   "id": "c6816193-f9cc-4c6c-b225-8d46f301ce01",
   "metadata": {},
   "source": [
    "# Dataset"
   ]
  },
  {
   "cell_type": "code",
   "execution_count": 21,
   "id": "6f6d31d6-4aa9-47f3-a632-1f6d34593e13",
   "metadata": {},
   "outputs": [
    {
     "name": "stdout",
     "output_type": "stream",
     "text": [
      "Loading objects from /nfs/scratch/fynu/fbury/MEMFlow_data/transfer_flow_v7/hh_reco\n",
      "Saving preprocessing to /nfs/scratch/fynu/fbury/MEMFlow_data/transfer_flow_v7/hh_reco\n",
      "Will overwrite what is in output directory /nfs/scratch/fynu/fbury/MEMFlow_data/transfer_flow_v7/hh_reco/preprocessing\n",
      "Preprocessing saved in /nfs/scratch/fynu/fbury/MEMFlow_data/transfer_flow_v7/hh_reco/preprocessing\n",
      "Loading objects from /nfs/scratch/fynu/fbury/MEMFlow_data/transfer_flow_v7/tt_reco\n",
      "Saving preprocessing to /nfs/scratch/fynu/fbury/MEMFlow_data/transfer_flow_v7/tt_reco\n",
      "Will overwrite what is in output directory /nfs/scratch/fynu/fbury/MEMFlow_data/transfer_flow_v7/tt_reco/preprocessing\n",
      "Preprocessing saved in /nfs/scratch/fynu/fbury/MEMFlow_data/transfer_flow_v7/tt_reco/preprocessing\n",
      "Loading objects from /nfs/scratch/fynu/fbury/MEMFlow_data/transfer_flow_v7/zz_reco\n",
      "Saving preprocessing to /nfs/scratch/fynu/fbury/MEMFlow_data/transfer_flow_v7/zz_reco\n",
      "Will overwrite what is in output directory /nfs/scratch/fynu/fbury/MEMFlow_data/transfer_flow_v7/zz_reco/preprocessing\n",
      "Preprocessing saved in /nfs/scratch/fynu/fbury/MEMFlow_data/transfer_flow_v7/zz_reco/preprocessing\n",
      "Loading objects from /nfs/scratch/fynu/fbury/MEMFlow_data/transfer_flow_v7/zh_reco\n",
      "Saving preprocessing to /nfs/scratch/fynu/fbury/MEMFlow_data/transfer_flow_v7/zh_reco\n",
      "Will overwrite what is in output directory /nfs/scratch/fynu/fbury/MEMFlow_data/transfer_flow_v7/zh_reco/preprocessing\n",
      "Preprocessing saved in /nfs/scratch/fynu/fbury/MEMFlow_data/transfer_flow_v7/zh_reco/preprocessing\n",
      "Loading objects from /nfs/scratch/fynu/fbury/MEMFlow_data/transfer_flow_v7/st_minus_reco\n",
      "Saving preprocessing to /nfs/scratch/fynu/fbury/MEMFlow_data/transfer_flow_v7/st_minus_reco\n",
      "Will overwrite what is in output directory /nfs/scratch/fynu/fbury/MEMFlow_data/transfer_flow_v7/st_minus_reco/preprocessing\n",
      "Preprocessing saved in /nfs/scratch/fynu/fbury/MEMFlow_data/transfer_flow_v7/st_minus_reco/preprocessing\n",
      "Loading objects from /nfs/scratch/fynu/fbury/MEMFlow_data/transfer_flow_v7/st_plus_reco\n",
      "Saving preprocessing to /nfs/scratch/fynu/fbury/MEMFlow_data/transfer_flow_v7/st_plus_reco\n",
      "Will overwrite what is in output directory /nfs/scratch/fynu/fbury/MEMFlow_data/transfer_flow_v7/st_plus_reco/preprocessing\n",
      "Preprocessing saved in /nfs/scratch/fynu/fbury/MEMFlow_data/transfer_flow_v7/st_plus_reco/preprocessing\n",
      "HH 225254\n",
      "TT 181976\n",
      "ZZ 31694\n",
      "ZH 175389\n",
      "STminus 10487\n",
      "STplus 10439\n",
      "... Undoing preprocessing\n",
      "... Equalizing datasets\n",
      "Reweighting factor : 0.47002\n",
      "Reweighting factor : 0.58180\n",
      "Reweighting factor : 3.34048\n",
      "Reweighting factor : 0.60365\n",
      "Reweighting factor : 10.09566\n",
      "Reweighting factor : 10.14208\n",
      "... Matching preprocessing\n",
      "\n",
      "Preprocessing steps\n",
      "Step applied to ['electrons', 'muons']\n",
      "\tpt  : <class 'memflow.dataset.preprocessing.lowercutshift'>\n",
      "  - electrons : ('pt',)\n",
      "  - muons     : ('pt',)\n",
      "Step applied to ['jets']\n",
      "\tpt  : <class 'memflow.dataset.preprocessing.lowercutshift'>\n",
      "  - jets : ('pt',)\n",
      "Step applied to ['electrons', 'met', 'muons', 'jets']\n",
      "\tpt    : <class 'memflow.dataset.preprocessing.logmodulus'>\n",
      "\tmass  : <class 'memflow.dataset.preprocessing.logmodulus'>\n",
      "  - electrons : ('pt', 'mass')\n",
      "  - met       : ('pt',)\n",
      "  - muons     : ('pt', 'mass')\n",
      "  - jets      : ('pt', 'mass')\n",
      "Step applied to ['electrons', 'met', 'muons', 'jets']\n",
      "\tpt      : <class 'memflow.dataset.preprocessing.SklearnScaler'>\n",
      "\teta     : <class 'memflow.dataset.preprocessing.SklearnScaler'>\n",
      "\tphi     : <class 'memflow.dataset.preprocessing.SklearnScaler'>\n",
      "\tmass    : <class 'memflow.dataset.preprocessing.SklearnScaler'>\n",
      "\tpdgId   : <class 'memflow.dataset.preprocessing.SklearnScaler'>\n",
      "\tcharge  : <class 'memflow.dataset.preprocessing.SklearnScaler'>\n",
      "  - electrons : ('pt', 'eta', 'phi', 'mass', 'pdgId', 'charge')\n",
      "  - met       : ('pt', 'phi')\n",
      "  - muons     : ('pt', 'eta', 'phi', 'mass', 'pdgId', 'charge')\n",
      "  - jets      : ('pt', 'eta', 'phi', 'mass')\n",
      "\n",
      "Saving preprocessing to /nfs/scratch/fynu/fbury/MEMFlow_data/transfer_flow_v7/hh_reco\n",
      "Will overwrite what is in output directory /nfs/scratch/fynu/fbury/MEMFlow_data/transfer_flow_v7/hh_reco/preprocessing\n",
      "Preprocessing saved in /nfs/scratch/fynu/fbury/MEMFlow_data/transfer_flow_v7/hh_reco/preprocessing\n",
      "Saving preprocessing to /nfs/scratch/fynu/fbury/MEMFlow_data/transfer_flow_v7/tt_reco\n",
      "Will overwrite what is in output directory /nfs/scratch/fynu/fbury/MEMFlow_data/transfer_flow_v7/tt_reco/preprocessing\n",
      "Preprocessing saved in /nfs/scratch/fynu/fbury/MEMFlow_data/transfer_flow_v7/tt_reco/preprocessing\n",
      "Saving preprocessing to /nfs/scratch/fynu/fbury/MEMFlow_data/transfer_flow_v7/zz_reco\n",
      "Will overwrite what is in output directory /nfs/scratch/fynu/fbury/MEMFlow_data/transfer_flow_v7/zz_reco/preprocessing\n",
      "Preprocessing saved in /nfs/scratch/fynu/fbury/MEMFlow_data/transfer_flow_v7/zz_reco/preprocessing\n",
      "Saving preprocessing to /nfs/scratch/fynu/fbury/MEMFlow_data/transfer_flow_v7/zh_reco\n",
      "Will overwrite what is in output directory /nfs/scratch/fynu/fbury/MEMFlow_data/transfer_flow_v7/zh_reco/preprocessing\n",
      "Preprocessing saved in /nfs/scratch/fynu/fbury/MEMFlow_data/transfer_flow_v7/zh_reco/preprocessing\n",
      "Saving preprocessing to /nfs/scratch/fynu/fbury/MEMFlow_data/transfer_flow_v7/st_minus_reco\n",
      "Will overwrite what is in output directory /nfs/scratch/fynu/fbury/MEMFlow_data/transfer_flow_v7/st_minus_reco/preprocessing\n",
      "Preprocessing saved in /nfs/scratch/fynu/fbury/MEMFlow_data/transfer_flow_v7/st_minus_reco/preprocessing\n",
      "Saving preprocessing to /nfs/scratch/fynu/fbury/MEMFlow_data/transfer_flow_v7/st_plus_reco\n",
      "Will overwrite what is in output directory /nfs/scratch/fynu/fbury/MEMFlow_data/transfer_flow_v7/st_plus_reco/preprocessing\n",
      "Preprocessing saved in /nfs/scratch/fynu/fbury/MEMFlow_data/transfer_flow_v7/st_plus_reco/preprocessing\n",
      "... Re-applying common preprocessing\n",
      "... Checking attention mask\n",
      "635239\n"
     ]
    }
   ],
   "source": [
    "from memflow.HH.HH import *\n",
    "from memflow.HH.DY import *\n",
    "from memflow.HH.ttbar import *\n",
    "from memflow.HH.ZZ import *\n",
    "from memflow.HH.ZH import *\n",
    "from memflow.HH.ST import *\n",
    "\n",
    "args = dict(\n",
    "    data = None,\n",
    "    selection = [\n",
    "        'muons',\n",
    "        'electrons',\n",
    "        'met',\n",
    "        'jets',\n",
    "    ],\n",
    "    coordinates = 'cylindrical',\n",
    "    topology = 'resolved',\n",
    "    apply_boost = False,\n",
    "    apply_preprocessing = True,\n",
    "    default_features = {\n",
    "        'pt': 0.,\n",
    "        'eta': 0.,\n",
    "        'phi': 0.,\n",
    "        'mass': 0.,\n",
    "        'btag' : 0.,\n",
    "        'btagged': None,\n",
    "        'pdgId' : 0.,\n",
    "        'charge' : 0.,\n",
    "    },\n",
    "    build = False,\n",
    "    fit = True,\n",
    "    build_dir = '/nfs/scratch/fynu/fbury/MEMFlow_data/transfer_flow_v7',\n",
    "    dtype = torch.float32,\n",
    ")\n",
    "\n",
    "classes = {\n",
    "    'HH' : HHbbWWDoubleLeptonRecoDataset,\n",
    "    'TT' : TTDoubleLeptonRecoDataset,\n",
    "    #'DY' : DYDoubleLeptonRecoDataset,\n",
    "    'ZZ' : ZZDoubleLeptonRecoDataset,\n",
    "    'ZH' : ZHDoubleLeptonRecoDataset,\n",
    "    'STminus' : STMinusDoubleLeptonRecoDataset,\n",
    "    'STplus' : STPlusDoubleLeptonRecoDataset,\n",
    "}\n",
    "datasets = {\n",
    "    suffix : cls(**args)\n",
    "    for suffix,cls in classes.items()\n",
    "}\n",
    "for suffix,dataset in datasets.items():\n",
    "    print (suffix,len(dataset))\n",
    "\n",
    "multi_dataset = MultiDataset(datasets)\n",
    "print (len(multi_dataset))"
   ]
  },
  {
   "cell_type": "code",
   "execution_count": 3,
   "id": "efc469c1-b922-4fd8-ae88-9aa9b3b98fcf",
   "metadata": {
    "scrolled": true
   },
   "outputs": [],
   "source": [
    "# for dataset in datasets:\n",
    "#     dataset.plot(raw=True,log=True)"
   ]
  },
  {
   "cell_type": "code",
   "execution_count": 4,
   "id": "61f46291-58da-4fd2-aac2-65d7f90c72c2",
   "metadata": {
    "scrolled": true
   },
   "outputs": [],
   "source": [
    "# for dataset in datasets:\n",
    "#     dataset.plot(raw=False,log=True)"
   ]
  },
  {
   "cell_type": "code",
   "execution_count": 22,
   "id": "6a32c350-9daa-4d50-b92d-2916346141ee",
   "metadata": {},
   "outputs": [
    {
     "name": "stdout",
     "output_type": "stream",
     "text": [
      "Dataset : training 571715 / validation 63524\n",
      "Batching 559 / Validation 7\n"
     ]
    }
   ],
   "source": [
    "train_frac = 0.9\n",
    "indices = torch.randperm(len(multi_dataset))\n",
    "sep = int(train_frac*len(multi_dataset))\n",
    "train_indices = indices[:sep]\n",
    "valid_indices = indices[sep:]\n",
    "\n",
    "dataset_train = torch.utils.data.Subset(multi_dataset,train_indices)\n",
    "dataset_valid = torch.utils.data.Subset(multi_dataset,valid_indices)\n",
    "print (f'Dataset : training {len(dataset_train)} / validation {len(dataset_valid)}')\n",
    "\n",
    "batch_size = 1024\n",
    "\n",
    "loader_train = DataLoader(\n",
    "    dataset_train,\n",
    "    batch_size = batch_size,\n",
    "    shuffle = True,\n",
    ")\n",
    "loader_valid = DataLoader(\n",
    "    dataset_valid,\n",
    "    batch_size = 10000,\n",
    "    shuffle = False,\n",
    ")\n",
    "print (f'Batching {len(loader_train)} / Validation {len(loader_valid)}')"
   ]
  },
  {
   "cell_type": "markdown",
   "id": "06889454-395a-4231-ab54-a8b70d63b058",
   "metadata": {},
   "source": [
    "# Training"
   ]
  },
  {
   "cell_type": "code",
   "execution_count": 27,
   "id": "1de3c56b-3c4b-4ba9-a52d-eb7a44d1d814",
   "metadata": {
    "scrolled": true
   },
   "outputs": [
    {
     "name": "stdout",
     "output_type": "stream",
     "text": [
      "Decoder mask\n",
      "tensor([[False,  True,  True,  True,  True,  True,  True,  True,  True,  True],\n",
      "        [False, False,  True,  True,  True,  True,  True,  True,  True,  True],\n",
      "        [False,  True, False,  True,  True,  True,  True,  True,  True,  True],\n",
      "        [False,  True,  True, False,  True,  True,  True,  True,  True,  True],\n",
      "        [False,  True,  True,  True, False,  True,  True,  True,  True,  True],\n",
      "        [False,  True,  True,  True,  True, False,  True,  True,  True,  True],\n",
      "        [False,  True,  True,  True,  True,  True, False,  True,  True,  True],\n",
      "        [False,  True,  True,  True,  True,  True,  True, False,  True,  True],\n",
      "        [False,  True,  True,  True,  True,  True,  True,  True, False,  True],\n",
      "        [False,  True,  True,  True,  True,  True,  True,  True,  True, False]])\n",
      "torch.Size([1024, 9, 7]) torch.Size([1024, 9, 7])\n",
      "Number of parameters 10181671\n",
      "TAE(\n",
      "  (_loss_function): MSELoss()\n",
      "  (embedding_encoder): MLP(\n",
      "    (layers): Sequential(\n",
      "      (0): Linear(in_features=7, out_features=32, bias=True)\n",
      "      (1): GELU(approximate='none')\n",
      "      (2): Linear(in_features=32, out_features=64, bias=True)\n",
      "      (3): GELU(approximate='none')\n",
      "      (4): Linear(in_features=64, out_features=128, bias=True)\n",
      "      (5): GELU(approximate='none')\n",
      "      (6): Linear(in_features=128, out_features=256, bias=True)\n",
      "    )\n",
      "  )\n",
      "  (encoder): TransformerEncoder(\n",
      "    (layers): ModuleList(\n",
      "      (0-11): 12 x TransformerEncoderLayer(\n",
      "        (self_attn): MultiheadAttention(\n",
      "          (out_proj): NonDynamicallyQuantizableLinear(in_features=256, out_features=256, bias=True)\n",
      "        )\n",
      "        (linear1): Linear(in_features=256, out_features=1024, bias=True)\n",
      "        (dropout): Dropout(p=0.0, inplace=False)\n",
      "        (linear2): Linear(in_features=1024, out_features=256, bias=True)\n",
      "        (norm1): LayerNorm((256,), eps=1e-05, elementwise_affine=True)\n",
      "        (norm2): LayerNorm((256,), eps=1e-05, elementwise_affine=True)\n",
      "        (dropout1): Dropout(p=0.0, inplace=False)\n",
      "        (dropout2): Dropout(p=0.0, inplace=False)\n",
      "        (activation): GELU(approximate='none')\n",
      "      )\n",
      "    )\n",
      "    (norm): LayerNorm((256,), eps=1e-05, elementwise_affine=True)\n",
      "  )\n",
      "  (projection_encoder): MLP(\n",
      "    (layers): Sequential(\n",
      "      (0): Linear(in_features=256, out_features=128, bias=True)\n",
      "      (1): GELU(approximate='none')\n",
      "      (2): Linear(in_features=128, out_features=64, bias=True)\n",
      "      (3): GELU(approximate='none')\n",
      "      (4): Linear(in_features=64, out_features=32, bias=True)\n",
      "    )\n",
      "  )\n",
      "  (projection_decoder): MLP(\n",
      "    (layers): Sequential(\n",
      "      (0): Linear(in_features=32, out_features=64, bias=True)\n",
      "      (1): GELU(approximate='none')\n",
      "      (2): Linear(in_features=64, out_features=128, bias=True)\n",
      "      (3): GELU(approximate='none')\n",
      "      (4): Linear(in_features=128, out_features=256, bias=True)\n",
      "    )\n",
      "  )\n",
      "  (decoder): TransformerEncoder(\n",
      "    (layers): ModuleList(\n",
      "      (0): TransformerEncoderLayer(\n",
      "        (self_attn): MultiheadAttention(\n",
      "          (out_proj): NonDynamicallyQuantizableLinear(in_features=256, out_features=256, bias=True)\n",
      "        )\n",
      "        (linear1): Linear(in_features=256, out_features=512, bias=True)\n",
      "        (dropout): Dropout(p=0.0, inplace=False)\n",
      "        (linear2): Linear(in_features=512, out_features=256, bias=True)\n",
      "        (norm1): LayerNorm((256,), eps=1e-05, elementwise_affine=True)\n",
      "        (norm2): LayerNorm((256,), eps=1e-05, elementwise_affine=True)\n",
      "        (dropout1): Dropout(p=0.0, inplace=False)\n",
      "        (dropout2): Dropout(p=0.0, inplace=False)\n",
      "        (activation): GELU(approximate='none')\n",
      "      )\n",
      "    )\n",
      "    (norm): LayerNorm((256,), eps=1e-05, elementwise_affine=True)\n",
      "  )\n",
      "  (embedding_decoder): MLP(\n",
      "    (layers): Sequential(\n",
      "      (0): Linear(in_features=256, out_features=128, bias=True)\n",
      "      (1): GELU(approximate='none')\n",
      "      (2): Linear(in_features=128, out_features=64, bias=True)\n",
      "      (3): GELU(approximate='none')\n",
      "      (4): Linear(in_features=64, out_features=32, bias=True)\n",
      "      (5): GELU(approximate='none')\n",
      "      (6): Linear(in_features=32, out_features=7, bias=True)\n",
      "    )\n",
      "  )\n",
      "  (position_embedding): Embedding(10, 256)\n",
      ")\n"
     ]
    }
   ],
   "source": [
    "model = TAE(\n",
    "    dim_input = len(list(datasets.values())[0].input_features[0]),\n",
    "    dim_embeds = [32,64,128,256],\n",
    "    dim_latents = [128,64,32],\n",
    "    nhead = 8,\n",
    "    expansion_factor = 4,\n",
    "    activation = nn.GELU,\n",
    "    num_encoding_layers = 12,\n",
    "    num_decoding_layers = 1,\n",
    "    decoder_window = 1,\n",
    "    max_seq_len = sum(list(datasets.values())[0].number_particles_per_type),\n",
    "    reco_mask_attn = list(datasets.values())[0].attention_mask,\n",
    "    dropout = 0.,\n",
    "    process_names = multi_dataset.names,\n",
    ")\n",
    "batch = next(iter(loader_train))\n",
    "\n",
    "x_init = torch.cat(batch['data'],dim=1)\n",
    "mask = torch.cat(batch['mask'],dim=1)\n",
    "x_reco = model(x_init,mask)\n",
    "print (x_init.shape,x_reco.shape)\n",
    "\n",
    "print (f'Number of parameters {sum(p.numel() for p in model.parameters())}')\n",
    "print (model)\n"
   ]
  },
  {
   "cell_type": "code",
   "execution_count": 28,
   "id": "44fa5f44-2965-479d-b652-df0d01bcb667",
   "metadata": {
    "scrolled": true
   },
   "outputs": [],
   "source": [
    "plot_callback_reco = ReconstructionCallback(\n",
    "    dataset = dataset_valid,\n",
    "    preprocessing = list(datasets.values())[0]._preprocessing,\n",
    "    names = list(datasets.values())[0].selection,\n",
    "    features = list(datasets.values())[0].input_features,\n",
    "    number_particles_per_type = list(datasets.values())[0].number_particles_per_type,\n",
    "    generative = False,\n",
    "    frequency = 10,\n",
    "    bins = 51,\n",
    "    log_scale = True,\n",
    "    batch_size = 5000,\n",
    ")\n",
    "plot_callback_gen = ReconstructionCallback(\n",
    "    dataset = dataset_valid,\n",
    "    preprocessing = list(datasets.values())[0]._preprocessing,\n",
    "    names = list(datasets.values())[0].selection,\n",
    "    features = list(datasets.values())[0].input_features,\n",
    "    number_particles_per_type = list(datasets.values())[0].number_particles_per_type,\n",
    "    generative = True,\n",
    "    frequency = 10,\n",
    "    bins = 51,\n",
    "    log_scale = True,\n",
    "    batch_size = 5000,\n",
    ")\n",
    "# figs = plot_callback.make_plots(model.cuda(),show=True)"
   ]
  },
  {
   "cell_type": "code",
   "execution_count": null,
   "id": "fc047176-9b30-4cad-8d0d-7ccc85141942",
   "metadata": {},
   "outputs": [
    {
     "name": "stderr",
     "output_type": "stream",
     "text": [
      "CometLogger will be initialized in online mode\n",
      "\u001b[1;38;5;214mCOMET WARNING:\u001b[0m To get all data logged automatically, import comet_ml before the following modules: torch, sklearn.\n",
      "\u001b[1;38;5;214mCOMET WARNING:\u001b[0m As you are running in a Jupyter environment, you will need to call `experiment.end()` when finished to ensure all metrics and code are logged before exiting.\n"
     ]
    },
    {
     "name": "stdout",
     "output_type": "stream",
     "text": [
      "Training   : Batch size = 1024 => 559 steps per epoch\n"
     ]
    },
    {
     "name": "stderr",
     "output_type": "stream",
     "text": [
      "\u001b[1;38;5;39mCOMET INFO:\u001b[0m Experiment is live on comet.com https://www.comet.com/florianbury/tae/94eadd7578c247c289a15f0ad21cfea8\n",
      "\n",
      "/home/ucl/cp3/fbury/scratch/anaconda3/envs/mem-flow/lib/python3.10/site-packages/lightning/fabric/plugins/environments/slurm.py:204: The `srun` command is available on your system but is not used. HINT: If your intention is to run Lightning on SLURM, prepend your python command with `srun` like so: srun python /home/ucl/cp3/fbury/scratch/anaconda3/envs/mem-flow/ ...\n",
      "Trainer already configured with model summary callbacks: [<class 'lightning.pytorch.callbacks.model_summary.ModelSummary'>]. Skipping setting a default `ModelSummary` callback.\n",
      "GPU available: True (cuda), used: True\n",
      "TPU available: False, using: 0 TPU cores\n",
      "HPU available: False, using: 0 HPUs\n",
      "LOCAL_RANK: 0 - CUDA_VISIBLE_DEVICES: [0]\n",
      "\n",
      "   | Name                      | Type               | Params | Mode \n",
      "--------------------------------------------------------------------------\n",
      "0  | _loss_function            | MSELoss            | 0      | train\n",
      "1  | embedding_encoder         | MLP                | 43.7 K | train\n",
      "2  | embedding_encoder.layers  | Sequential         | 43.7 K | train\n",
      "3  | encoder                   | TransformerEncoder | 9.5 M  | train\n",
      "4  | encoder.layers            | ModuleList         | 9.5 M  | train\n",
      "5  | encoder.norm              | LayerNorm          | 512    | train\n",
      "6  | projection_encoder        | MLP                | 43.2 K | train\n",
      "7  | projection_encoder.layers | Sequential         | 43.2 K | train\n",
      "8  | projection_decoder        | MLP                | 43.5 K | train\n",
      "9  | projection_decoder.layers | Sequential         | 43.5 K | train\n",
      "10 | decoder                   | TransformerEncoder | 527 K  | train\n",
      "11 | decoder.layers            | ModuleList         | 527 K  | train\n",
      "12 | decoder.norm              | LayerNorm          | 512    | train\n",
      "13 | embedding_decoder         | MLP                | 43.5 K | train\n",
      "14 | embedding_decoder.layers  | Sequential         | 43.5 K | train\n",
      "15 | position_embedding        | Embedding          | 2.6 K  | train\n",
      "--------------------------------------------------------------------------\n",
      "10.2 M    Trainable params\n",
      "0         Non-trainable params\n",
      "10.2 M    Total params\n",
      "40.727    Total estimated model params size (MB)\n"
     ]
    },
    {
     "data": {
      "application/vnd.jupyter.widget-view+json": {
       "model_id": "",
       "version_major": 2,
       "version_minor": 0
      },
      "text/plain": [
       "Sanity Checking: |                                                                            | 0/? [00:00<?, …"
      ]
     },
     "metadata": {},
     "output_type": "display_data"
    },
    {
     "data": {
      "application/vnd.jupyter.widget-view+json": {
       "model_id": "2d90d9b8ec93469a90ad67620e40f0b5",
       "version_major": 2,
       "version_minor": 0
      },
      "text/plain": [
       "Training: |                                                                                   | 0/? [00:00<?, …"
      ]
     },
     "metadata": {},
     "output_type": "display_data"
    },
    {
     "data": {
      "application/vnd.jupyter.widget-view+json": {
       "model_id": "",
       "version_major": 2,
       "version_minor": 0
      },
      "text/plain": [
       "Validation: |                                                                                 | 0/? [00:00<?, …"
      ]
     },
     "metadata": {},
     "output_type": "display_data"
    },
    {
     "data": {
      "application/vnd.jupyter.widget-view+json": {
       "model_id": "",
       "version_major": 2,
       "version_minor": 0
      },
      "text/plain": [
       "Validation: |                                                                                 | 0/? [00:00<?, …"
      ]
     },
     "metadata": {},
     "output_type": "display_data"
    },
    {
     "data": {
      "application/vnd.jupyter.widget-view+json": {
       "model_id": "",
       "version_major": 2,
       "version_minor": 0
      },
      "text/plain": [
       "Validation: |                                                                                 | 0/? [00:00<?, …"
      ]
     },
     "metadata": {},
     "output_type": "display_data"
    },
    {
     "data": {
      "application/vnd.jupyter.widget-view+json": {
       "model_id": "",
       "version_major": 2,
       "version_minor": 0
      },
      "text/plain": [
       "Validation: |                                                                                 | 0/? [00:00<?, …"
      ]
     },
     "metadata": {},
     "output_type": "display_data"
    },
    {
     "data": {
      "application/vnd.jupyter.widget-view+json": {
       "model_id": "",
       "version_major": 2,
       "version_minor": 0
      },
      "text/plain": [
       "Validation: |                                                                                 | 0/? [00:00<?, …"
      ]
     },
     "metadata": {},
     "output_type": "display_data"
    },
    {
     "data": {
      "application/vnd.jupyter.widget-view+json": {
       "model_id": "",
       "version_major": 2,
       "version_minor": 0
      },
      "text/plain": [
       "Validation: |                                                                                 | 0/? [00:00<?, …"
      ]
     },
     "metadata": {},
     "output_type": "display_data"
    },
    {
     "data": {
      "application/vnd.jupyter.widget-view+json": {
       "model_id": "",
       "version_major": 2,
       "version_minor": 0
      },
      "text/plain": [
       "Validation: |                                                                                 | 0/? [00:00<?, …"
      ]
     },
     "metadata": {},
     "output_type": "display_data"
    },
    {
     "data": {
      "application/vnd.jupyter.widget-view+json": {
       "model_id": "",
       "version_major": 2,
       "version_minor": 0
      },
      "text/plain": [
       "Validation: |                                                                                 | 0/? [00:00<?, …"
      ]
     },
     "metadata": {},
     "output_type": "display_data"
    },
    {
     "data": {
      "application/vnd.jupyter.widget-view+json": {
       "model_id": "",
       "version_major": 2,
       "version_minor": 0
      },
      "text/plain": [
       "Validation: |                                                                                 | 0/? [00:00<?, …"
      ]
     },
     "metadata": {},
     "output_type": "display_data"
    },
    {
     "data": {
      "application/vnd.jupyter.widget-view+json": {
       "model_id": "",
       "version_major": 2,
       "version_minor": 0
      },
      "text/plain": [
       "Validation: |                                                                                 | 0/? [00:00<?, …"
      ]
     },
     "metadata": {},
     "output_type": "display_data"
    },
    {
     "data": {
      "application/vnd.jupyter.widget-view+json": {
       "model_id": "",
       "version_major": 2,
       "version_minor": 0
      },
      "text/plain": [
       "Validation: |                                                                                 | 0/? [00:00<?, …"
      ]
     },
     "metadata": {},
     "output_type": "display_data"
    },
    {
     "data": {
      "application/vnd.jupyter.widget-view+json": {
       "model_id": "",
       "version_major": 2,
       "version_minor": 0
      },
      "text/plain": [
       "Validation: |                                                                                 | 0/? [00:00<?, …"
      ]
     },
     "metadata": {},
     "output_type": "display_data"
    },
    {
     "data": {
      "application/vnd.jupyter.widget-view+json": {
       "model_id": "",
       "version_major": 2,
       "version_minor": 0
      },
      "text/plain": [
       "Validation: |                                                                                 | 0/? [00:00<?, …"
      ]
     },
     "metadata": {},
     "output_type": "display_data"
    },
    {
     "data": {
      "application/vnd.jupyter.widget-view+json": {
       "model_id": "",
       "version_major": 2,
       "version_minor": 0
      },
      "text/plain": [
       "Validation: |                                                                                 | 0/? [00:00<?, …"
      ]
     },
     "metadata": {},
     "output_type": "display_data"
    },
    {
     "data": {
      "application/vnd.jupyter.widget-view+json": {
       "model_id": "",
       "version_major": 2,
       "version_minor": 0
      },
      "text/plain": [
       "Validation: |                                                                                 | 0/? [00:00<?, …"
      ]
     },
     "metadata": {},
     "output_type": "display_data"
    },
    {
     "data": {
      "application/vnd.jupyter.widget-view+json": {
       "model_id": "",
       "version_major": 2,
       "version_minor": 0
      },
      "text/plain": [
       "Validation: |                                                                                 | 0/? [00:00<?, …"
      ]
     },
     "metadata": {},
     "output_type": "display_data"
    },
    {
     "data": {
      "application/vnd.jupyter.widget-view+json": {
       "model_id": "",
       "version_major": 2,
       "version_minor": 0
      },
      "text/plain": [
       "Validation: |                                                                                 | 0/? [00:00<?, …"
      ]
     },
     "metadata": {},
     "output_type": "display_data"
    },
    {
     "data": {
      "application/vnd.jupyter.widget-view+json": {
       "model_id": "",
       "version_major": 2,
       "version_minor": 0
      },
      "text/plain": [
       "Validation: |                                                                                 | 0/? [00:00<?, …"
      ]
     },
     "metadata": {},
     "output_type": "display_data"
    },
    {
     "data": {
      "application/vnd.jupyter.widget-view+json": {
       "model_id": "",
       "version_major": 2,
       "version_minor": 0
      },
      "text/plain": [
       "Validation: |                                                                                 | 0/? [00:00<?, …"
      ]
     },
     "metadata": {},
     "output_type": "display_data"
    },
    {
     "data": {
      "application/vnd.jupyter.widget-view+json": {
       "model_id": "",
       "version_major": 2,
       "version_minor": 0
      },
      "text/plain": [
       "Validation: |                                                                                 | 0/? [00:00<?, …"
      ]
     },
     "metadata": {},
     "output_type": "display_data"
    },
    {
     "data": {
      "application/vnd.jupyter.widget-view+json": {
       "model_id": "",
       "version_major": 2,
       "version_minor": 0
      },
      "text/plain": [
       "Validation: |                                                                                 | 0/? [00:00<?, …"
      ]
     },
     "metadata": {},
     "output_type": "display_data"
    },
    {
     "data": {
      "application/vnd.jupyter.widget-view+json": {
       "model_id": "",
       "version_major": 2,
       "version_minor": 0
      },
      "text/plain": [
       "Validation: |                                                                                 | 0/? [00:00<?, …"
      ]
     },
     "metadata": {},
     "output_type": "display_data"
    },
    {
     "data": {
      "application/vnd.jupyter.widget-view+json": {
       "model_id": "",
       "version_major": 2,
       "version_minor": 0
      },
      "text/plain": [
       "Validation: |                                                                                 | 0/? [00:00<?, …"
      ]
     },
     "metadata": {},
     "output_type": "display_data"
    },
    {
     "data": {
      "application/vnd.jupyter.widget-view+json": {
       "model_id": "",
       "version_major": 2,
       "version_minor": 0
      },
      "text/plain": [
       "Validation: |                                                                                 | 0/? [00:00<?, …"
      ]
     },
     "metadata": {},
     "output_type": "display_data"
    },
    {
     "data": {
      "application/vnd.jupyter.widget-view+json": {
       "model_id": "",
       "version_major": 2,
       "version_minor": 0
      },
      "text/plain": [
       "Validation: |                                                                                 | 0/? [00:00<?, …"
      ]
     },
     "metadata": {},
     "output_type": "display_data"
    },
    {
     "data": {
      "application/vnd.jupyter.widget-view+json": {
       "model_id": "",
       "version_major": 2,
       "version_minor": 0
      },
      "text/plain": [
       "Validation: |                                                                                 | 0/? [00:00<?, …"
      ]
     },
     "metadata": {},
     "output_type": "display_data"
    },
    {
     "data": {
      "application/vnd.jupyter.widget-view+json": {
       "model_id": "",
       "version_major": 2,
       "version_minor": 0
      },
      "text/plain": [
       "Validation: |                                                                                 | 0/? [00:00<?, …"
      ]
     },
     "metadata": {},
     "output_type": "display_data"
    },
    {
     "data": {
      "application/vnd.jupyter.widget-view+json": {
       "model_id": "",
       "version_major": 2,
       "version_minor": 0
      },
      "text/plain": [
       "Validation: |                                                                                 | 0/? [00:00<?, …"
      ]
     },
     "metadata": {},
     "output_type": "display_data"
    },
    {
     "data": {
      "application/vnd.jupyter.widget-view+json": {
       "model_id": "",
       "version_major": 2,
       "version_minor": 0
      },
      "text/plain": [
       "Validation: |                                                                                 | 0/? [00:00<?, …"
      ]
     },
     "metadata": {},
     "output_type": "display_data"
    },
    {
     "data": {
      "application/vnd.jupyter.widget-view+json": {
       "model_id": "",
       "version_major": 2,
       "version_minor": 0
      },
      "text/plain": [
       "Validation: |                                                                                 | 0/? [00:00<?, …"
      ]
     },
     "metadata": {},
     "output_type": "display_data"
    },
    {
     "data": {
      "application/vnd.jupyter.widget-view+json": {
       "model_id": "",
       "version_major": 2,
       "version_minor": 0
      },
      "text/plain": [
       "Validation: |                                                                                 | 0/? [00:00<?, …"
      ]
     },
     "metadata": {},
     "output_type": "display_data"
    },
    {
     "data": {
      "application/vnd.jupyter.widget-view+json": {
       "model_id": "",
       "version_major": 2,
       "version_minor": 0
      },
      "text/plain": [
       "Validation: |                                                                                 | 0/? [00:00<?, …"
      ]
     },
     "metadata": {},
     "output_type": "display_data"
    },
    {
     "data": {
      "application/vnd.jupyter.widget-view+json": {
       "model_id": "",
       "version_major": 2,
       "version_minor": 0
      },
      "text/plain": [
       "Validation: |                                                                                 | 0/? [00:00<?, …"
      ]
     },
     "metadata": {},
     "output_type": "display_data"
    },
    {
     "data": {
      "application/vnd.jupyter.widget-view+json": {
       "model_id": "",
       "version_major": 2,
       "version_minor": 0
      },
      "text/plain": [
       "Validation: |                                                                                 | 0/? [00:00<?, …"
      ]
     },
     "metadata": {},
     "output_type": "display_data"
    },
    {
     "data": {
      "application/vnd.jupyter.widget-view+json": {
       "model_id": "",
       "version_major": 2,
       "version_minor": 0
      },
      "text/plain": [
       "Validation: |                                                                                 | 0/? [00:00<?, …"
      ]
     },
     "metadata": {},
     "output_type": "display_data"
    },
    {
     "data": {
      "application/vnd.jupyter.widget-view+json": {
       "model_id": "",
       "version_major": 2,
       "version_minor": 0
      },
      "text/plain": [
       "Validation: |                                                                                 | 0/? [00:00<?, …"
      ]
     },
     "metadata": {},
     "output_type": "display_data"
    },
    {
     "data": {
      "application/vnd.jupyter.widget-view+json": {
       "model_id": "",
       "version_major": 2,
       "version_minor": 0
      },
      "text/plain": [
       "Validation: |                                                                                 | 0/? [00:00<?, …"
      ]
     },
     "metadata": {},
     "output_type": "display_data"
    },
    {
     "data": {
      "application/vnd.jupyter.widget-view+json": {
       "model_id": "",
       "version_major": 2,
       "version_minor": 0
      },
      "text/plain": [
       "Validation: |                                                                                 | 0/? [00:00<?, …"
      ]
     },
     "metadata": {},
     "output_type": "display_data"
    },
    {
     "data": {
      "application/vnd.jupyter.widget-view+json": {
       "model_id": "",
       "version_major": 2,
       "version_minor": 0
      },
      "text/plain": [
       "Validation: |                                                                                 | 0/? [00:00<?, …"
      ]
     },
     "metadata": {},
     "output_type": "display_data"
    },
    {
     "data": {
      "application/vnd.jupyter.widget-view+json": {
       "model_id": "",
       "version_major": 2,
       "version_minor": 0
      },
      "text/plain": [
       "Validation: |                                                                                 | 0/? [00:00<?, …"
      ]
     },
     "metadata": {},
     "output_type": "display_data"
    },
    {
     "data": {
      "application/vnd.jupyter.widget-view+json": {
       "model_id": "",
       "version_major": 2,
       "version_minor": 0
      },
      "text/plain": [
       "Validation: |                                                                                 | 0/? [00:00<?, …"
      ]
     },
     "metadata": {},
     "output_type": "display_data"
    },
    {
     "data": {
      "application/vnd.jupyter.widget-view+json": {
       "model_id": "",
       "version_major": 2,
       "version_minor": 0
      },
      "text/plain": [
       "Validation: |                                                                                 | 0/? [00:00<?, …"
      ]
     },
     "metadata": {},
     "output_type": "display_data"
    },
    {
     "data": {
      "application/vnd.jupyter.widget-view+json": {
       "model_id": "",
       "version_major": 2,
       "version_minor": 0
      },
      "text/plain": [
       "Validation: |                                                                                 | 0/? [00:00<?, …"
      ]
     },
     "metadata": {},
     "output_type": "display_data"
    },
    {
     "data": {
      "application/vnd.jupyter.widget-view+json": {
       "model_id": "",
       "version_major": 2,
       "version_minor": 0
      },
      "text/plain": [
       "Validation: |                                                                                 | 0/? [00:00<?, …"
      ]
     },
     "metadata": {},
     "output_type": "display_data"
    },
    {
     "data": {
      "application/vnd.jupyter.widget-view+json": {
       "model_id": "",
       "version_major": 2,
       "version_minor": 0
      },
      "text/plain": [
       "Validation: |                                                                                 | 0/? [00:00<?, …"
      ]
     },
     "metadata": {},
     "output_type": "display_data"
    },
    {
     "data": {
      "application/vnd.jupyter.widget-view+json": {
       "model_id": "04896eee407b4c3797e480ac286f8536",
       "version_major": 2,
       "version_minor": 0
      },
      "text/plain": [
       "Validation: |                                                                                 | 0/? [00:00<?, …"
      ]
     },
     "metadata": {},
     "output_type": "display_data"
    },
    {
     "data": {
      "application/vnd.jupyter.widget-view+json": {
       "model_id": "c8a826cf7b1d43e3ac1bc543a20bd479",
       "version_major": 2,
       "version_minor": 0
      },
      "text/plain": [
       "Validation: |                                                                                 | 0/? [00:00<?, …"
      ]
     },
     "metadata": {},
     "output_type": "display_data"
    },
    {
     "data": {
      "application/vnd.jupyter.widget-view+json": {
       "model_id": "6d5e5a1e23854312ac451e8191a92aa8",
       "version_major": 2,
       "version_minor": 0
      },
      "text/plain": [
       "Validation: |                                                                                 | 0/? [00:00<?, …"
      ]
     },
     "metadata": {},
     "output_type": "display_data"
    },
    {
     "data": {
      "application/vnd.jupyter.widget-view+json": {
       "model_id": "181fbdecf3b74e1dbc737d76cdac3efa",
       "version_major": 2,
       "version_minor": 0
      },
      "text/plain": [
       "Validation: |                                                                                 | 0/? [00:00<?, …"
      ]
     },
     "metadata": {},
     "output_type": "display_data"
    },
    {
     "data": {
      "application/vnd.jupyter.widget-view+json": {
       "model_id": "1b262f0d44664400b568b0c05fe4b9e1",
       "version_major": 2,
       "version_minor": 0
      },
      "text/plain": [
       "Validation: |                                                                                 | 0/? [00:00<?, …"
      ]
     },
     "metadata": {},
     "output_type": "display_data"
    },
    {
     "data": {
      "application/vnd.jupyter.widget-view+json": {
       "model_id": "c13abe0cd93b470f8935bbaaa2433e16",
       "version_major": 2,
       "version_minor": 0
      },
      "text/plain": [
       "Validation: |                                                                                 | 0/? [00:00<?, …"
      ]
     },
     "metadata": {},
     "output_type": "display_data"
    },
    {
     "data": {
      "application/vnd.jupyter.widget-view+json": {
       "model_id": "1748a38794b3406baba7908dbea0f2e8",
       "version_major": 2,
       "version_minor": 0
      },
      "text/plain": [
       "Validation: |                                                                                 | 0/? [00:00<?, …"
      ]
     },
     "metadata": {},
     "output_type": "display_data"
    },
    {
     "data": {
      "application/vnd.jupyter.widget-view+json": {
       "model_id": "7c13d223e4564b0d9df6ee94d718710b",
       "version_major": 2,
       "version_minor": 0
      },
      "text/plain": [
       "Validation: |                                                                                 | 0/? [00:00<?, …"
      ]
     },
     "metadata": {},
     "output_type": "display_data"
    },
    {
     "data": {
      "application/vnd.jupyter.widget-view+json": {
       "model_id": "ad9fbec1cd9740de8c58cd54840d52e9",
       "version_major": 2,
       "version_minor": 0
      },
      "text/plain": [
       "Validation: |                                                                                 | 0/? [00:00<?, …"
      ]
     },
     "metadata": {},
     "output_type": "display_data"
    },
    {
     "data": {
      "application/vnd.jupyter.widget-view+json": {
       "model_id": "e6ede371545c42ba991e15b01e5981ec",
       "version_major": 2,
       "version_minor": 0
      },
      "text/plain": [
       "Validation: |                                                                                 | 0/? [00:00<?, …"
      ]
     },
     "metadata": {},
     "output_type": "display_data"
    },
    {
     "data": {
      "application/vnd.jupyter.widget-view+json": {
       "model_id": "4d6a837c13c04ad0a47f44b7834b3cca",
       "version_major": 2,
       "version_minor": 0
      },
      "text/plain": [
       "Validation: |                                                                                 | 0/? [00:00<?, …"
      ]
     },
     "metadata": {},
     "output_type": "display_data"
    },
    {
     "data": {
      "application/vnd.jupyter.widget-view+json": {
       "model_id": "21a0a77c44bb4067a3a8aa091080e437",
       "version_major": 2,
       "version_minor": 0
      },
      "text/plain": [
       "Validation: |                                                                                 | 0/? [00:00<?, …"
      ]
     },
     "metadata": {},
     "output_type": "display_data"
    },
    {
     "data": {
      "application/vnd.jupyter.widget-view+json": {
       "model_id": "10ec8e5f2a2d491b8885634204849c50",
       "version_major": 2,
       "version_minor": 0
      },
      "text/plain": [
       "Validation: |                                                                                 | 0/? [00:00<?, …"
      ]
     },
     "metadata": {},
     "output_type": "display_data"
    },
    {
     "data": {
      "application/vnd.jupyter.widget-view+json": {
       "model_id": "337c120dde8049d9a6b86e856e2e0113",
       "version_major": 2,
       "version_minor": 0
      },
      "text/plain": [
       "Validation: |                                                                                 | 0/? [00:00<?, …"
      ]
     },
     "metadata": {},
     "output_type": "display_data"
    },
    {
     "data": {
      "application/vnd.jupyter.widget-view+json": {
       "model_id": "c550a71d2fca4d25a076ac57958fbf1c",
       "version_major": 2,
       "version_minor": 0
      },
      "text/plain": [
       "Validation: |                                                                                 | 0/? [00:00<?, …"
      ]
     },
     "metadata": {},
     "output_type": "display_data"
    },
    {
     "data": {
      "application/vnd.jupyter.widget-view+json": {
       "model_id": "f5dab94d60cc4073a439272c3cce05bd",
       "version_major": 2,
       "version_minor": 0
      },
      "text/plain": [
       "Validation: |                                                                                 | 0/? [00:00<?, …"
      ]
     },
     "metadata": {},
     "output_type": "display_data"
    },
    {
     "data": {
      "application/vnd.jupyter.widget-view+json": {
       "model_id": "ee1438434ef045fc8376168666cd7acb",
       "version_major": 2,
       "version_minor": 0
      },
      "text/plain": [
       "Validation: |                                                                                 | 0/? [00:00<?, …"
      ]
     },
     "metadata": {},
     "output_type": "display_data"
    },
    {
     "data": {
      "application/vnd.jupyter.widget-view+json": {
       "model_id": "5d063d6770234d54b968a1151159de9b",
       "version_major": 2,
       "version_minor": 0
      },
      "text/plain": [
       "Validation: |                                                                                 | 0/? [00:00<?, …"
      ]
     },
     "metadata": {},
     "output_type": "display_data"
    },
    {
     "data": {
      "application/vnd.jupyter.widget-view+json": {
       "model_id": "518b45cd9448417a85a2fa38a2f319c3",
       "version_major": 2,
       "version_minor": 0
      },
      "text/plain": [
       "Validation: |                                                                                 | 0/? [00:00<?, …"
      ]
     },
     "metadata": {},
     "output_type": "display_data"
    },
    {
     "data": {
      "application/vnd.jupyter.widget-view+json": {
       "model_id": "693f55af86154cd088738d5610a67824",
       "version_major": 2,
       "version_minor": 0
      },
      "text/plain": [
       "Validation: |                                                                                 | 0/? [00:00<?, …"
      ]
     },
     "metadata": {},
     "output_type": "display_data"
    },
    {
     "data": {
      "application/vnd.jupyter.widget-view+json": {
       "model_id": "7dbfa4ba35454aa38c76ce6fb11b6f35",
       "version_major": 2,
       "version_minor": 0
      },
      "text/plain": [
       "Validation: |                                                                                 | 0/? [00:00<?, …"
      ]
     },
     "metadata": {},
     "output_type": "display_data"
    },
    {
     "data": {
      "application/vnd.jupyter.widget-view+json": {
       "model_id": "203f8e474c8e44aabffb61206a4bee4a",
       "version_major": 2,
       "version_minor": 0
      },
      "text/plain": [
       "Validation: |                                                                                 | 0/? [00:00<?, …"
      ]
     },
     "metadata": {},
     "output_type": "display_data"
    },
    {
     "data": {
      "application/vnd.jupyter.widget-view+json": {
       "model_id": "47104064d24e4db0a711fd4a15fddec7",
       "version_major": 2,
       "version_minor": 0
      },
      "text/plain": [
       "Validation: |                                                                                 | 0/? [00:00<?, …"
      ]
     },
     "metadata": {},
     "output_type": "display_data"
    },
    {
     "data": {
      "application/vnd.jupyter.widget-view+json": {
       "model_id": "01f647744eb4411792a605d6b3663260",
       "version_major": 2,
       "version_minor": 0
      },
      "text/plain": [
       "Validation: |                                                                                 | 0/? [00:00<?, …"
      ]
     },
     "metadata": {},
     "output_type": "display_data"
    },
    {
     "data": {
      "application/vnd.jupyter.widget-view+json": {
       "model_id": "957c511b4eea49f6b153845be2602b38",
       "version_major": 2,
       "version_minor": 0
      },
      "text/plain": [
       "Validation: |                                                                                 | 0/? [00:00<?, …"
      ]
     },
     "metadata": {},
     "output_type": "display_data"
    },
    {
     "data": {
      "application/vnd.jupyter.widget-view+json": {
       "model_id": "0467a526a15b4f528b5d98d0d6968b4f",
       "version_major": 2,
       "version_minor": 0
      },
      "text/plain": [
       "Validation: |                                                                                 | 0/? [00:00<?, …"
      ]
     },
     "metadata": {},
     "output_type": "display_data"
    },
    {
     "data": {
      "application/vnd.jupyter.widget-view+json": {
       "model_id": "0ad7d7bd048a4f4a92b7082ce5fa8197",
       "version_major": 2,
       "version_minor": 0
      },
      "text/plain": [
       "Validation: |                                                                                 | 0/? [00:00<?, …"
      ]
     },
     "metadata": {},
     "output_type": "display_data"
    },
    {
     "data": {
      "application/vnd.jupyter.widget-view+json": {
       "model_id": "a27072afc0624edb9a6d5ffdbb797c5e",
       "version_major": 2,
       "version_minor": 0
      },
      "text/plain": [
       "Validation: |                                                                                 | 0/? [00:00<?, …"
      ]
     },
     "metadata": {},
     "output_type": "display_data"
    },
    {
     "data": {
      "application/vnd.jupyter.widget-view+json": {
       "model_id": "6d44146fc03640bea277e2f0d30e0874",
       "version_major": 2,
       "version_minor": 0
      },
      "text/plain": [
       "Validation: |                                                                                 | 0/? [00:00<?, …"
      ]
     },
     "metadata": {},
     "output_type": "display_data"
    },
    {
     "data": {
      "application/vnd.jupyter.widget-view+json": {
       "model_id": "21fba5117c7143f3a89ee0ab7caf81be",
       "version_major": 2,
       "version_minor": 0
      },
      "text/plain": [
       "Validation: |                                                                                 | 0/? [00:00<?, …"
      ]
     },
     "metadata": {},
     "output_type": "display_data"
    },
    {
     "data": {
      "application/vnd.jupyter.widget-view+json": {
       "model_id": "00f45165e23645ae8499451b7591b586",
       "version_major": 2,
       "version_minor": 0
      },
      "text/plain": [
       "Validation: |                                                                                 | 0/? [00:00<?, …"
      ]
     },
     "metadata": {},
     "output_type": "display_data"
    },
    {
     "data": {
      "application/vnd.jupyter.widget-view+json": {
       "model_id": "d5674a9347a84044aea25437ecf6c5dc",
       "version_major": 2,
       "version_minor": 0
      },
      "text/plain": [
       "Validation: |                                                                                 | 0/? [00:00<?, …"
      ]
     },
     "metadata": {},
     "output_type": "display_data"
    },
    {
     "data": {
      "application/vnd.jupyter.widget-view+json": {
       "model_id": "2591f738776c4a7e886d4e266c38ce27",
       "version_major": 2,
       "version_minor": 0
      },
      "text/plain": [
       "Validation: |                                                                                 | 0/? [00:00<?, …"
      ]
     },
     "metadata": {},
     "output_type": "display_data"
    },
    {
     "data": {
      "application/vnd.jupyter.widget-view+json": {
       "model_id": "d00b526719704091a9b83b98bfe87d1b",
       "version_major": 2,
       "version_minor": 0
      },
      "text/plain": [
       "Validation: |                                                                                 | 0/? [00:00<?, …"
      ]
     },
     "metadata": {},
     "output_type": "display_data"
    },
    {
     "data": {
      "application/vnd.jupyter.widget-view+json": {
       "model_id": "4d08b14e39d74c4cbfa8a863e8f11dc1",
       "version_major": 2,
       "version_minor": 0
      },
      "text/plain": [
       "Validation: |                                                                                 | 0/? [00:00<?, …"
      ]
     },
     "metadata": {},
     "output_type": "display_data"
    },
    {
     "data": {
      "application/vnd.jupyter.widget-view+json": {
       "model_id": "386395a3f78044999ba53e9e245b27cc",
       "version_major": 2,
       "version_minor": 0
      },
      "text/plain": [
       "Validation: |                                                                                 | 0/? [00:00<?, …"
      ]
     },
     "metadata": {},
     "output_type": "display_data"
    },
    {
     "data": {
      "application/vnd.jupyter.widget-view+json": {
       "model_id": "4f33493027df44c587c178f7d2619b8a",
       "version_major": 2,
       "version_minor": 0
      },
      "text/plain": [
       "Validation: |                                                                                 | 0/? [00:00<?, …"
      ]
     },
     "metadata": {},
     "output_type": "display_data"
    },
    {
     "data": {
      "application/vnd.jupyter.widget-view+json": {
       "model_id": "400afa31bff24d4d8023025c4d1517e6",
       "version_major": 2,
       "version_minor": 0
      },
      "text/plain": [
       "Validation: |                                                                                 | 0/? [00:00<?, …"
      ]
     },
     "metadata": {},
     "output_type": "display_data"
    },
    {
     "data": {
      "application/vnd.jupyter.widget-view+json": {
       "model_id": "e26b63c3b1804a8f9f8b9d411e0b55b3",
       "version_major": 2,
       "version_minor": 0
      },
      "text/plain": [
       "Validation: |                                                                                 | 0/? [00:00<?, …"
      ]
     },
     "metadata": {},
     "output_type": "display_data"
    },
    {
     "data": {
      "application/vnd.jupyter.widget-view+json": {
       "model_id": "cfab85092e264924bcc42e3fc61588ae",
       "version_major": 2,
       "version_minor": 0
      },
      "text/plain": [
       "Validation: |                                                                                 | 0/? [00:00<?, …"
      ]
     },
     "metadata": {},
     "output_type": "display_data"
    },
    {
     "data": {
      "application/vnd.jupyter.widget-view+json": {
       "model_id": "861d3b16152544fa92eef3fb323b12f6",
       "version_major": 2,
       "version_minor": 0
      },
      "text/plain": [
       "Validation: |                                                                                 | 0/? [00:00<?, …"
      ]
     },
     "metadata": {},
     "output_type": "display_data"
    },
    {
     "data": {
      "application/vnd.jupyter.widget-view+json": {
       "model_id": "ddbdde63d4ed4d79b38efc089c2c934d",
       "version_major": 2,
       "version_minor": 0
      },
      "text/plain": [
       "Validation: |                                                                                 | 0/? [00:00<?, …"
      ]
     },
     "metadata": {},
     "output_type": "display_data"
    },
    {
     "data": {
      "application/vnd.jupyter.widget-view+json": {
       "model_id": "37d17d1022064e308133cdf4ad978fae",
       "version_major": 2,
       "version_minor": 0
      },
      "text/plain": [
       "Validation: |                                                                                 | 0/? [00:00<?, …"
      ]
     },
     "metadata": {},
     "output_type": "display_data"
    },
    {
     "data": {
      "application/vnd.jupyter.widget-view+json": {
       "model_id": "cd0c5cfa29a8499782bbb45bf7419291",
       "version_major": 2,
       "version_minor": 0
      },
      "text/plain": [
       "Validation: |                                                                                 | 0/? [00:00<?, …"
      ]
     },
     "metadata": {},
     "output_type": "display_data"
    },
    {
     "data": {
      "application/vnd.jupyter.widget-view+json": {
       "model_id": "26130d2fbae84a70ba2a1aab925a70b8",
       "version_major": 2,
       "version_minor": 0
      },
      "text/plain": [
       "Validation: |                                                                                 | 0/? [00:00<?, …"
      ]
     },
     "metadata": {},
     "output_type": "display_data"
    },
    {
     "data": {
      "application/vnd.jupyter.widget-view+json": {
       "model_id": "f16f1eaa385f404f8c68d2701923a89a",
       "version_major": 2,
       "version_minor": 0
      },
      "text/plain": [
       "Validation: |                                                                                 | 0/? [00:00<?, …"
      ]
     },
     "metadata": {},
     "output_type": "display_data"
    },
    {
     "data": {
      "application/vnd.jupyter.widget-view+json": {
       "model_id": "2ebdc09ce17b4152b18e695a0bf2548e",
       "version_major": 2,
       "version_minor": 0
      },
      "text/plain": [
       "Validation: |                                                                                 | 0/? [00:00<?, …"
      ]
     },
     "metadata": {},
     "output_type": "display_data"
    },
    {
     "data": {
      "application/vnd.jupyter.widget-view+json": {
       "model_id": "fe8e0ac2992f4ea8aadf14b5d7141018",
       "version_major": 2,
       "version_minor": 0
      },
      "text/plain": [
       "Validation: |                                                                                 | 0/? [00:00<?, …"
      ]
     },
     "metadata": {},
     "output_type": "display_data"
    },
    {
     "data": {
      "application/vnd.jupyter.widget-view+json": {
       "model_id": "7d8f032ce5aa43cf9d1dce247629fab0",
       "version_major": 2,
       "version_minor": 0
      },
      "text/plain": [
       "Validation: |                                                                                 | 0/? [00:00<?, …"
      ]
     },
     "metadata": {},
     "output_type": "display_data"
    },
    {
     "data": {
      "application/vnd.jupyter.widget-view+json": {
       "model_id": "76e5b098fc4d4c58baff4261fee1e3db",
       "version_major": 2,
       "version_minor": 0
      },
      "text/plain": [
       "Validation: |                                                                                 | 0/? [00:00<?, …"
      ]
     },
     "metadata": {},
     "output_type": "display_data"
    },
    {
     "data": {
      "application/vnd.jupyter.widget-view+json": {
       "model_id": "ffb6a6c74b034374b5417ad00cc62b56",
       "version_major": 2,
       "version_minor": 0
      },
      "text/plain": [
       "Validation: |                                                                                 | 0/? [00:00<?, …"
      ]
     },
     "metadata": {},
     "output_type": "display_data"
    },
    {
     "data": {
      "application/vnd.jupyter.widget-view+json": {
       "model_id": "b4b5878116914703b01ddc3d6d8b85b4",
       "version_major": 2,
       "version_minor": 0
      },
      "text/plain": [
       "Validation: |                                                                                 | 0/? [00:00<?, …"
      ]
     },
     "metadata": {},
     "output_type": "display_data"
    },
    {
     "data": {
      "application/vnd.jupyter.widget-view+json": {
       "model_id": "267d14682aa7481fae22e884f5059926",
       "version_major": 2,
       "version_minor": 0
      },
      "text/plain": [
       "Validation: |                                                                                 | 0/? [00:00<?, …"
      ]
     },
     "metadata": {},
     "output_type": "display_data"
    },
    {
     "data": {
      "application/vnd.jupyter.widget-view+json": {
       "model_id": "c6c102811e7a4fc18131542b0b4e7fca",
       "version_major": 2,
       "version_minor": 0
      },
      "text/plain": [
       "Validation: |                                                                                 | 0/? [00:00<?, …"
      ]
     },
     "metadata": {},
     "output_type": "display_data"
    },
    {
     "data": {
      "application/vnd.jupyter.widget-view+json": {
       "model_id": "24d8c6ccde46481d815e490f1aeacc44",
       "version_major": 2,
       "version_minor": 0
      },
      "text/plain": [
       "Validation: |                                                                                 | 0/? [00:00<?, …"
      ]
     },
     "metadata": {},
     "output_type": "display_data"
    },
    {
     "data": {
      "application/vnd.jupyter.widget-view+json": {
       "model_id": "85bbe8ead835438eb5150d4a52b5cc4f",
       "version_major": 2,
       "version_minor": 0
      },
      "text/plain": [
       "Validation: |                                                                                 | 0/? [00:00<?, …"
      ]
     },
     "metadata": {},
     "output_type": "display_data"
    },
    {
     "data": {
      "application/vnd.jupyter.widget-view+json": {
       "model_id": "2e1be7ac9e7d4c54967d3ee9fc6f0e14",
       "version_major": 2,
       "version_minor": 0
      },
      "text/plain": [
       "Validation: |                                                                                 | 0/? [00:00<?, …"
      ]
     },
     "metadata": {},
     "output_type": "display_data"
    },
    {
     "data": {
      "application/vnd.jupyter.widget-view+json": {
       "model_id": "55c5cb043a9543e8accd02e0a04be96f",
       "version_major": 2,
       "version_minor": 0
      },
      "text/plain": [
       "Validation: |                                                                                 | 0/? [00:00<?, …"
      ]
     },
     "metadata": {},
     "output_type": "display_data"
    },
    {
     "data": {
      "application/vnd.jupyter.widget-view+json": {
       "model_id": "d43ad0a3390f4a4ab38f67d8108a7f57",
       "version_major": 2,
       "version_minor": 0
      },
      "text/plain": [
       "Validation: |                                                                                 | 0/? [00:00<?, …"
      ]
     },
     "metadata": {},
     "output_type": "display_data"
    },
    {
     "data": {
      "application/vnd.jupyter.widget-view+json": {
       "model_id": "801e9125b1a4407db4d155234b96c98b",
       "version_major": 2,
       "version_minor": 0
      },
      "text/plain": [
       "Validation: |                                                                                 | 0/? [00:00<?, …"
      ]
     },
     "metadata": {},
     "output_type": "display_data"
    },
    {
     "data": {
      "application/vnd.jupyter.widget-view+json": {
       "model_id": "8e41c8845ce14d0b8bd50b9d4d40a7e8",
       "version_major": 2,
       "version_minor": 0
      },
      "text/plain": [
       "Validation: |                                                                                 | 0/? [00:00<?, …"
      ]
     },
     "metadata": {},
     "output_type": "display_data"
    },
    {
     "data": {
      "application/vnd.jupyter.widget-view+json": {
       "model_id": "f0d30b8185c347078299808fef5ed311",
       "version_major": 2,
       "version_minor": 0
      },
      "text/plain": [
       "Validation: |                                                                                 | 0/? [00:00<?, …"
      ]
     },
     "metadata": {},
     "output_type": "display_data"
    },
    {
     "data": {
      "application/vnd.jupyter.widget-view+json": {
       "model_id": "9b536bb3a949482299b1652b1bb4c1e1",
       "version_major": 2,
       "version_minor": 0
      },
      "text/plain": [
       "Validation: |                                                                                 | 0/? [00:00<?, …"
      ]
     },
     "metadata": {},
     "output_type": "display_data"
    },
    {
     "data": {
      "application/vnd.jupyter.widget-view+json": {
       "model_id": "0b8946c6510147759f7b1b4e4e574ca3",
       "version_major": 2,
       "version_minor": 0
      },
      "text/plain": [
       "Validation: |                                                                                 | 0/? [00:00<?, …"
      ]
     },
     "metadata": {},
     "output_type": "display_data"
    },
    {
     "data": {
      "application/vnd.jupyter.widget-view+json": {
       "model_id": "3c5b0d20108e491aafa792d0911401d4",
       "version_major": 2,
       "version_minor": 0
      },
      "text/plain": [
       "Validation: |                                                                                 | 0/? [00:00<?, …"
      ]
     },
     "metadata": {},
     "output_type": "display_data"
    },
    {
     "data": {
      "application/vnd.jupyter.widget-view+json": {
       "model_id": "1f8e2620d4424abcaefee0e5e27f2479",
       "version_major": 2,
       "version_minor": 0
      },
      "text/plain": [
       "Validation: |                                                                                 | 0/? [00:00<?, …"
      ]
     },
     "metadata": {},
     "output_type": "display_data"
    },
    {
     "data": {
      "application/vnd.jupyter.widget-view+json": {
       "model_id": "bd14672a428e445bb44be3f303a023c9",
       "version_major": 2,
       "version_minor": 0
      },
      "text/plain": [
       "Validation: |                                                                                 | 0/? [00:00<?, …"
      ]
     },
     "metadata": {},
     "output_type": "display_data"
    },
    {
     "data": {
      "application/vnd.jupyter.widget-view+json": {
       "model_id": "a23f2d731dbb4e5c90aa5d032695cc92",
       "version_major": 2,
       "version_minor": 0
      },
      "text/plain": [
       "Validation: |                                                                                 | 0/? [00:00<?, …"
      ]
     },
     "metadata": {},
     "output_type": "display_data"
    },
    {
     "data": {
      "application/vnd.jupyter.widget-view+json": {
       "model_id": "e9db1d88510642caafa1329b99aab6fa",
       "version_major": 2,
       "version_minor": 0
      },
      "text/plain": [
       "Validation: |                                                                                 | 0/? [00:00<?, …"
      ]
     },
     "metadata": {},
     "output_type": "display_data"
    },
    {
     "data": {
      "application/vnd.jupyter.widget-view+json": {
       "model_id": "cfefbac8e90d490c8e1819d2fb5d0c61",
       "version_major": 2,
       "version_minor": 0
      },
      "text/plain": [
       "Validation: |                                                                                 | 0/? [00:00<?, …"
      ]
     },
     "metadata": {},
     "output_type": "display_data"
    },
    {
     "data": {
      "application/vnd.jupyter.widget-view+json": {
       "model_id": "2945e75a9d2f4a1d855e70fd55240315",
       "version_major": 2,
       "version_minor": 0
      },
      "text/plain": [
       "Validation: |                                                                                 | 0/? [00:00<?, …"
      ]
     },
     "metadata": {},
     "output_type": "display_data"
    },
    {
     "data": {
      "application/vnd.jupyter.widget-view+json": {
       "model_id": "b3beeee6811244bd99f8d56f0ffeb62f",
       "version_major": 2,
       "version_minor": 0
      },
      "text/plain": [
       "Validation: |                                                                                 | 0/? [00:00<?, …"
      ]
     },
     "metadata": {},
     "output_type": "display_data"
    },
    {
     "data": {
      "application/vnd.jupyter.widget-view+json": {
       "model_id": "75fde407f79a473e9b9dc3d08219148a",
       "version_major": 2,
       "version_minor": 0
      },
      "text/plain": [
       "Validation: |                                                                                 | 0/? [00:00<?, …"
      ]
     },
     "metadata": {},
     "output_type": "display_data"
    },
    {
     "data": {
      "application/vnd.jupyter.widget-view+json": {
       "model_id": "f48a79110c954e84ae69f5f6d3467004",
       "version_major": 2,
       "version_minor": 0
      },
      "text/plain": [
       "Validation: |                                                                                 | 0/? [00:00<?, …"
      ]
     },
     "metadata": {},
     "output_type": "display_data"
    },
    {
     "data": {
      "application/vnd.jupyter.widget-view+json": {
       "model_id": "f3d8456882bf4c7aba479e962f7fad83",
       "version_major": 2,
       "version_minor": 0
      },
      "text/plain": [
       "Validation: |                                                                                 | 0/? [00:00<?, …"
      ]
     },
     "metadata": {},
     "output_type": "display_data"
    },
    {
     "data": {
      "application/vnd.jupyter.widget-view+json": {
       "model_id": "b12287db88294f80abcda5320d17cd2a",
       "version_major": 2,
       "version_minor": 0
      },
      "text/plain": [
       "Validation: |                                                                                 | 0/? [00:00<?, …"
      ]
     },
     "metadata": {},
     "output_type": "display_data"
    },
    {
     "data": {
      "application/vnd.jupyter.widget-view+json": {
       "model_id": "a8231fb62d0c4ca9889ebda144e5ee55",
       "version_major": 2,
       "version_minor": 0
      },
      "text/plain": [
       "Validation: |                                                                                 | 0/? [00:00<?, …"
      ]
     },
     "metadata": {},
     "output_type": "display_data"
    },
    {
     "data": {
      "application/vnd.jupyter.widget-view+json": {
       "model_id": "bd6fd7af35494d08a6b6a5524111beca",
       "version_major": 2,
       "version_minor": 0
      },
      "text/plain": [
       "Validation: |                                                                                 | 0/? [00:00<?, …"
      ]
     },
     "metadata": {},
     "output_type": "display_data"
    },
    {
     "data": {
      "application/vnd.jupyter.widget-view+json": {
       "model_id": "52f0e7dee4834f20b788a0ec671475f2",
       "version_major": 2,
       "version_minor": 0
      },
      "text/plain": [
       "Validation: |                                                                                 | 0/? [00:00<?, …"
      ]
     },
     "metadata": {},
     "output_type": "display_data"
    },
    {
     "data": {
      "application/vnd.jupyter.widget-view+json": {
       "model_id": "2f0df778b7904b92850d09ddcb7aa638",
       "version_major": 2,
       "version_minor": 0
      },
      "text/plain": [
       "Validation: |                                                                                 | 0/? [00:00<?, …"
      ]
     },
     "metadata": {},
     "output_type": "display_data"
    },
    {
     "data": {
      "application/vnd.jupyter.widget-view+json": {
       "model_id": "858f41f2a77c47888fedcf57943b85cb",
       "version_major": 2,
       "version_minor": 0
      },
      "text/plain": [
       "Validation: |                                                                                 | 0/? [00:00<?, …"
      ]
     },
     "metadata": {},
     "output_type": "display_data"
    },
    {
     "data": {
      "application/vnd.jupyter.widget-view+json": {
       "model_id": "44d0343f5e9b4ec294175e985be39c9b",
       "version_major": 2,
       "version_minor": 0
      },
      "text/plain": [
       "Validation: |                                                                                 | 0/? [00:00<?, …"
      ]
     },
     "metadata": {},
     "output_type": "display_data"
    },
    {
     "data": {
      "application/vnd.jupyter.widget-view+json": {
       "model_id": "9602df7122ed453e827ecfbc2787e2e8",
       "version_major": 2,
       "version_minor": 0
      },
      "text/plain": [
       "Validation: |                                                                                 | 0/? [00:00<?, …"
      ]
     },
     "metadata": {},
     "output_type": "display_data"
    },
    {
     "data": {
      "application/vnd.jupyter.widget-view+json": {
       "model_id": "1398d12239374d11a4f8ac57d30a498c",
       "version_major": 2,
       "version_minor": 0
      },
      "text/plain": [
       "Validation: |                                                                                 | 0/? [00:00<?, …"
      ]
     },
     "metadata": {},
     "output_type": "display_data"
    },
    {
     "data": {
      "application/vnd.jupyter.widget-view+json": {
       "model_id": "ec09462a032145ec9c71b74ab52f0aea",
       "version_major": 2,
       "version_minor": 0
      },
      "text/plain": [
       "Validation: |                                                                                 | 0/? [00:00<?, …"
      ]
     },
     "metadata": {},
     "output_type": "display_data"
    },
    {
     "data": {
      "application/vnd.jupyter.widget-view+json": {
       "model_id": "79bc47cbf9bd4ebc8cd81facdf79f804",
       "version_major": 2,
       "version_minor": 0
      },
      "text/plain": [
       "Validation: |                                                                                 | 0/? [00:00<?, …"
      ]
     },
     "metadata": {},
     "output_type": "display_data"
    }
   ],
   "source": [
    "##### Parameters #####\n",
    "epochs = 500\n",
    "steps_per_epoch_train = math.ceil(len(dataset_train)/loader_train.batch_size)\n",
    "\n",
    "print (f'Training   : Batch size = {loader_train.batch_size} => {steps_per_epoch_train} steps per epoch')\n",
    "##### Optimizer #####\n",
    "optimizer = optim.RAdam(model.parameters(), lr=1e-4)\n",
    "model.set_optimizer(optimizer)\n",
    "\n",
    "##### Scheduler #####\n",
    "scheduler = torch.optim.lr_scheduler.ReduceLROnPlateau(\n",
    "    optimizer = optimizer,\n",
    "    mode='min', \n",
    "    factor=0.1, \n",
    "    patience=10, \n",
    "    threshold=0.001, \n",
    "    threshold_mode='rel', \n",
    "    cooldown=0, \n",
    "    min_lr=1e-7\n",
    ")\n",
    "model.set_scheduler_config(\n",
    "    {\n",
    "        'scheduler' : scheduler,\n",
    "        'interval' : 'step' if isinstance(scheduler,optim.lr_scheduler.OneCycleLR) else 'epoch',\n",
    "        'frequency' : 1,\n",
    "        'monitor' : 'val/loss_tot',\n",
    "        'strict' : True,\n",
    "        'name' : 'scheduler',\n",
    "    }\n",
    ")\n",
    "\n",
    "##### Callbacks #####\n",
    "callbacks = [\n",
    "    L.pytorch.callbacks.LearningRateMonitor(logging_interval = 'epoch'),\n",
    "    L.pytorch.callbacks.ModelSummary(max_depth=2),\n",
    "    plot_callback_reco,\n",
    "    plot_callback_gen,\n",
    "]\n",
    "\n",
    "##### Logger #####\n",
    "logger = pl_loggers.CometLogger(\n",
    "    save_dir = '../comet_logs',\n",
    "    project_name = 'TAE',\n",
    "    experiment_name = 'AE',\n",
    "    offline = False,\n",
    ") \n",
    "logger.log_graph(model)\n",
    "# logger.log_hyperparams()\n",
    "# logger.experiment.log_code(folder='../src/')\n",
    "logger.experiment.log_notebook(filename=globals()['__session__'],overwrite=True)\n",
    "\n",
    "##### Trainer #####\n",
    "trainer = L.Trainer(    \n",
    "    min_epochs = 5,\n",
    "    max_epochs = epochs,\n",
    "    callbacks = callbacks,\n",
    "    devices = 'auto',\n",
    "    accelerator = accelerator,\n",
    "    logger = logger,\n",
    "    log_every_n_steps = steps_per_epoch_train/100,\n",
    ")\n",
    "##### Fit #####\n",
    "trainer.fit(\n",
    "    model = model, \n",
    "    train_dataloaders = loader_train,\n",
    "    val_dataloaders = loader_valid,\n",
    ")"
   ]
  },
  {
   "cell_type": "code",
   "execution_count": null,
   "id": "4cf7108c-94f4-41fe-9fe4-932dfe5a8c4e",
   "metadata": {
    "scrolled": true
   },
   "outputs": [],
   "source": [
    "figs = plot_callback_reco.make_plots(model.cuda(),show=True)"
   ]
  },
  {
   "cell_type": "code",
   "execution_count": null,
   "id": "ebbd713d-c852-4aaf-8431-92b502dc914e",
   "metadata": {
    "scrolled": true
   },
   "outputs": [],
   "source": [
    "figs = plot_callback_gen.make_plots(model.cuda(),show=True)"
   ]
  },
  {
   "cell_type": "code",
   "execution_count": null,
   "id": "a7d8237c-1730-4f64-8c97-a241751b3cae",
   "metadata": {},
   "outputs": [],
   "source": [
    "torch.save(model,'TAE_32.pt')"
   ]
  },
  {
   "cell_type": "markdown",
   "id": "e8b5ccdf-8227-4ea9-bb41-636839e17780",
   "metadata": {},
   "source": [
    "# Encode latent space"
   ]
  },
  {
   "cell_type": "code",
   "execution_count": null,
   "id": "cece6de1-d4df-406b-b9fd-9fde5639105d",
   "metadata": {},
   "outputs": [],
   "source": [
    "model = torch.load('TAE_32.pt',map_location=\"cpu\")"
   ]
  },
  {
   "cell_type": "code",
   "execution_count": null,
   "id": "9fc5edab-b65f-43c5-9768-093c5de24888",
   "metadata": {},
   "outputs": [],
   "source": [
    "print (model)"
   ]
  },
  {
   "cell_type": "code",
   "execution_count": null,
   "id": "038a82cb-53e3-4468-8a4c-87a4f8ab76d1",
   "metadata": {},
   "outputs": [],
   "source": [
    "def encode(model,loader,device='cpu'):\n",
    "    x_init = []\n",
    "    mask   = []\n",
    "    latent = []\n",
    "    \n",
    "    model = model.to(device)\n",
    "    process = []\n",
    "    for batch in tqdm(loader,position=0,leave=True):\n",
    "        xi = torch.cat(batch['data'],dim=1).to(model.device)\n",
    "        m = torch.cat(batch['mask'],dim=1).to(model.device)\n",
    "        process.append(batch['process'])\n",
    "        with torch.no_grad():\n",
    "            latent.append(model.encode(xi,m).cpu())\n",
    "        x_init.append(xi)\n",
    "        mask.append(m)\n",
    "        \n",
    "    latent = torch.cat(latent,dim=0)\n",
    "    x_init = torch.cat(x_init,dim=0)\n",
    "    mask   = torch.cat(mask,dim=0)\n",
    "    process= torch.cat(process,dim=0)\n",
    "\n",
    "    return latent,x_init,mask,process\n",
    "\n",
    "latent_train,x_train,mask_train,process_train = encode(model,loader_train,'cpu')\n",
    "latent_valid,x_valid,mask_valid,process_valid = encode(model,loader_valid,'cpu')\n",
    "\n",
    "print (f'Training {latent_train.size(0)} / Validation {latent_valid.size(0)}')\n",
    "print ('Shape :',latent_train.shape)"
   ]
  },
  {
   "cell_type": "code",
   "execution_count": null,
   "id": "27eb393b-a9cb-4b9b-b352-2aae5cc10f5b",
   "metadata": {},
   "outputs": [],
   "source": [
    "outdir = '/nfs/scratch/fynu/fbury/MEMFlow_data/clustering'\n",
    "torch.save(latent_train,os.path.join(outdir,'latent_train'))\n",
    "torch.save(x_train,os.path.join(outdir,'x_train'))\n",
    "torch.save(mask_train,os.path.join(outdir,'mask_train'))\n",
    "torch.save(process_train,os.path.join(outdir,'process_train'))\n",
    "torch.save(latent_valid,os.path.join(outdir,'latent_valid'))\n",
    "torch.save(x_valid,os.path.join(outdir,'x_valid'))\n",
    "torch.save(mask_valid,os.path.join(outdir,'mask_valid'))\n",
    "torch.save(process_valid,os.path.join(outdir,'process_valid'))"
   ]
  },
  {
   "cell_type": "markdown",
   "id": "a01ad01d-8d0d-401a-9833-d2ad4b1631ed",
   "metadata": {},
   "source": [
    "# Encoding-decoding"
   ]
  },
  {
   "cell_type": "code",
   "execution_count": null,
   "id": "25857c00-4b50-47d6-aa4c-12f15377a828",
   "metadata": {},
   "outputs": [],
   "source": [
    "model = torch.load('TAE.pt')"
   ]
  },
  {
   "cell_type": "code",
   "execution_count": null,
   "id": "0e83baf1-ed2b-4cee-a0fe-719b36cf0981",
   "metadata": {},
   "outputs": [],
   "source": [
    "outdir = '/nfs/scratch/fynu/fbury/MEMFlow_data/clustering'\n",
    "latent_train = torch.load(os.path.join(outdir,'latent_train'),map_location=torch.device('cpu'))\n",
    "x_train      = torch.load(os.path.join(outdir,'x_train'),map_location=torch.device('cpu'))\n",
    "mask_train   = torch.load(os.path.join(outdir,'mask_train'),map_location=torch.device('cpu'))\n",
    "latent_valid = torch.load(os.path.join(outdir,'latent_valid'),map_location=torch.device('cpu'))\n",
    "x_valid      = torch.load(os.path.join(outdir,'x_valid'),map_location=torch.device('cpu'))\n",
    "mask_valid   = torch.load(os.path.join(outdir,'mask_valid'),map_location=torch.device('cpu'))\n",
    "\n",
    "print (f'Training {latent_train.shape}, Validation {latent_valid.shape}')"
   ]
  },
  {
   "cell_type": "code",
   "execution_count": null,
   "id": "b1e9fa32-cdf3-45e3-b4e4-02dabed7ce95",
   "metadata": {},
   "outputs": [],
   "source": [
    "model = model.to('cuda')\n",
    "N = 1\n",
    "model.eval()\n",
    "x_tmp = x_valid[:N].cpu()\n",
    "m_tmp = mask_valid[:N].cpu()\n",
    "with torch.no_grad():\n",
    "    print ('Forward\\n')\n",
    "    reco_tmp   = model(x_tmp.to(model.device),m_tmp.to(model.device)).cpu()\n",
    "    print ('Encode\\n')\n",
    "    latent_tmp = model.encode(x_tmp.to(model.device),m_tmp.to(model.device)).cpu()\n",
    "    print ('Decode\\n')\n",
    "    y_tmp      = model.decode(latent_tmp.to(model.device),m_tmp.to(model.device)).cpu()\n",
    "\n",
    "print (y_tmp.shape,reco_tmp.shape,x_tmp.shape)"
   ]
  },
  {
   "cell_type": "code",
   "execution_count": null,
   "id": "6f441346-5605-4b16-9a64-86c34cb3eca0",
   "metadata": {},
   "outputs": [],
   "source": [
    "idx = 0\n",
    "print (y_tmp[idx,:,:4].round(decimals=2))\n",
    "print (reco_tmp[idx,:,:4].round(decimals=2))\n",
    "print (x_tmp[idx,:,:4].round(decimals=2))"
   ]
  },
  {
   "cell_type": "code",
   "execution_count": null,
   "id": "283b0338-1b26-4f77-a92f-50bb26b6d148",
   "metadata": {},
   "outputs": [],
   "source": [
    "(y_tmp-x_tmp).abs().sum(dim=-1)[0]"
   ]
  },
  {
   "cell_type": "code",
   "execution_count": null,
   "id": "7edc0e82-e0e3-4a3b-a794-bf6f565381d1",
   "metadata": {},
   "outputs": [],
   "source": [
    "(reco_tmp-x_tmp).abs().sum(dim=-1)[0]"
   ]
  },
  {
   "cell_type": "code",
   "execution_count": null,
   "id": "f0842976-677d-4fe2-acf7-9bc6f12c51bd",
   "metadata": {},
   "outputs": [],
   "source": []
  }
 ],
 "metadata": {
  "kernelspec": {
   "display_name": "Python 3 (ipykernel)",
   "language": "python",
   "name": "python3"
  },
  "language_info": {
   "codemirror_mode": {
    "name": "ipython",
    "version": 3
   },
   "file_extension": ".py",
   "mimetype": "text/x-python",
   "name": "python",
   "nbconvert_exporter": "python",
   "pygments_lexer": "ipython3",
   "version": "3.10.14"
  }
 },
 "nbformat": 4,
 "nbformat_minor": 5
}
